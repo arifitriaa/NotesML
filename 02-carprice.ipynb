{
  "cells": [
    {
      "cell_type": "markdown",
      "metadata": {
        "id": "view-in-github",
        "colab_type": "text"
      },
      "source": [
        "<a href=\"https://colab.research.google.com/github/arifitriaa/NotesML/blob/main/02-carprice.ipynb\" target=\"_parent\"><img src=\"https://colab.research.google.com/assets/colab-badge.svg\" alt=\"Open In Colab\"/></a>"
      ]
    },
    {
      "cell_type": "code",
      "execution_count": 2,
      "metadata": {
        "id": "vG2X3FVtG1iI"
      },
      "outputs": [],
      "source": [
        "import pandas as pd\n",
        "import numpy as np\n",
        "\n",
        "import seaborn as sns\n",
        "from matplotlib import pyplot as plt\n",
        "%matplotlib inline"
      ]
    },
    {
      "cell_type": "code",
      "source": [
        "np.version.version"
      ],
      "metadata": {
        "colab": {
          "base_uri": "https://localhost:8080/",
          "height": 35
        },
        "id": "T3PBY3PpJniX",
        "outputId": "29e3cd8a-efbd-4452-f660-bdda14f3cb0c"
      },
      "execution_count": 68,
      "outputs": [
        {
          "output_type": "execute_result",
          "data": {
            "text/plain": [
              "'1.21.6'"
            ],
            "application/vnd.google.colaboratory.intrinsic+json": {
              "type": "string"
            }
          },
          "metadata": {},
          "execution_count": 68
        }
      ]
    },
    {
      "cell_type": "code",
      "source": [
        "!wget https://raw.githubusercontent.com/alexeygrigorev//mlbookcamp-code/master/chapter-02-car-price/data.csv"
      ],
      "metadata": {
        "colab": {
          "base_uri": "https://localhost:8080/"
        },
        "id": "d5cxsJfHJPrR",
        "outputId": "c1c8aaca-109e-45fe-888e-7ce4f1aeb35a"
      },
      "execution_count": 4,
      "outputs": [
        {
          "output_type": "stream",
          "name": "stdout",
          "text": [
            "--2022-09-08 04:34:15--  https://raw.githubusercontent.com/alexeygrigorev//mlbookcamp-code/master/chapter-02-car-price/data.csv\n",
            "Resolving raw.githubusercontent.com (raw.githubusercontent.com)... 185.199.109.133, 185.199.108.133, 185.199.111.133, ...\n",
            "Connecting to raw.githubusercontent.com (raw.githubusercontent.com)|185.199.109.133|:443... connected.\n",
            "HTTP request sent, awaiting response... 301 Moved Permanently\n",
            "Location: /alexeygrigorev/mlbookcamp-code/master/chapter-02-car-price/data.csv [following]\n",
            "--2022-09-08 04:34:15--  https://raw.githubusercontent.com/alexeygrigorev/mlbookcamp-code/master/chapter-02-car-price/data.csv\n",
            "Reusing existing connection to raw.githubusercontent.com:443.\n",
            "HTTP request sent, awaiting response... 200 OK\n",
            "Length: 1475504 (1.4M) [text/plain]\n",
            "Saving to: ‘data.csv’\n",
            "\n",
            "\rdata.csv              0%[                    ]       0  --.-KB/s               \rdata.csv            100%[===================>]   1.41M  --.-KB/s    in 0.009s  \n",
            "\n",
            "2022-09-08 04:34:15 (165 MB/s) - ‘data.csv’ saved [1475504/1475504]\n",
            "\n"
          ]
        }
      ]
    },
    {
      "cell_type": "code",
      "execution_count": 61,
      "metadata": {
        "colab": {
          "base_uri": "https://localhost:8080/"
        },
        "id": "g51pF812G1iW",
        "outputId": "236a5d8d-d5fe-46d8-9cb9-327501e17087"
      },
      "outputs": [
        {
          "output_type": "execute_result",
          "data": {
            "text/plain": [
              "11914"
            ]
          },
          "metadata": {},
          "execution_count": 61
        }
      ],
      "source": [
        "#2\n",
        "df = pd.read_csv('data.csv')\n",
        "len(df)"
      ]
    },
    {
      "cell_type": "code",
      "execution_count": 6,
      "metadata": {
        "colab": {
          "base_uri": "https://localhost:8080/",
          "height": 458
        },
        "id": "Dg_QNbxWG1iY",
        "outputId": "15821875-5751-41c8-f293-975ded479195"
      },
      "outputs": [
        {
          "output_type": "execute_result",
          "data": {
            "text/plain": [
              "  Make       Model  Year             Engine Fuel Type  Engine HP  \\\n",
              "0  BMW  1 Series M  2011  premium unleaded (required)      335.0   \n",
              "1  BMW    1 Series  2011  premium unleaded (required)      300.0   \n",
              "2  BMW    1 Series  2011  premium unleaded (required)      300.0   \n",
              "3  BMW    1 Series  2011  premium unleaded (required)      230.0   \n",
              "4  BMW    1 Series  2011  premium unleaded (required)      230.0   \n",
              "\n",
              "   Engine Cylinders Transmission Type     Driven_Wheels  Number of Doors  \\\n",
              "0               6.0            MANUAL  rear wheel drive              2.0   \n",
              "1               6.0            MANUAL  rear wheel drive              2.0   \n",
              "2               6.0            MANUAL  rear wheel drive              2.0   \n",
              "3               6.0            MANUAL  rear wheel drive              2.0   \n",
              "4               6.0            MANUAL  rear wheel drive              2.0   \n",
              "\n",
              "                         Market Category Vehicle Size Vehicle Style  \\\n",
              "0  Factory Tuner,Luxury,High-Performance      Compact         Coupe   \n",
              "1                     Luxury,Performance      Compact   Convertible   \n",
              "2                Luxury,High-Performance      Compact         Coupe   \n",
              "3                     Luxury,Performance      Compact         Coupe   \n",
              "4                                 Luxury      Compact   Convertible   \n",
              "\n",
              "   highway MPG  city mpg  Popularity   MSRP  \n",
              "0           26        19        3916  46135  \n",
              "1           28        19        3916  40650  \n",
              "2           28        20        3916  36350  \n",
              "3           28        18        3916  29450  \n",
              "4           28        18        3916  34500  "
            ],
            "text/html": [
              "\n",
              "  <div id=\"df-4f0c581f-1629-470b-9a5a-28bece94fbbb\">\n",
              "    <div class=\"colab-df-container\">\n",
              "      <div>\n",
              "<style scoped>\n",
              "    .dataframe tbody tr th:only-of-type {\n",
              "        vertical-align: middle;\n",
              "    }\n",
              "\n",
              "    .dataframe tbody tr th {\n",
              "        vertical-align: top;\n",
              "    }\n",
              "\n",
              "    .dataframe thead th {\n",
              "        text-align: right;\n",
              "    }\n",
              "</style>\n",
              "<table border=\"1\" class=\"dataframe\">\n",
              "  <thead>\n",
              "    <tr style=\"text-align: right;\">\n",
              "      <th></th>\n",
              "      <th>Make</th>\n",
              "      <th>Model</th>\n",
              "      <th>Year</th>\n",
              "      <th>Engine Fuel Type</th>\n",
              "      <th>Engine HP</th>\n",
              "      <th>Engine Cylinders</th>\n",
              "      <th>Transmission Type</th>\n",
              "      <th>Driven_Wheels</th>\n",
              "      <th>Number of Doors</th>\n",
              "      <th>Market Category</th>\n",
              "      <th>Vehicle Size</th>\n",
              "      <th>Vehicle Style</th>\n",
              "      <th>highway MPG</th>\n",
              "      <th>city mpg</th>\n",
              "      <th>Popularity</th>\n",
              "      <th>MSRP</th>\n",
              "    </tr>\n",
              "  </thead>\n",
              "  <tbody>\n",
              "    <tr>\n",
              "      <th>0</th>\n",
              "      <td>BMW</td>\n",
              "      <td>1 Series M</td>\n",
              "      <td>2011</td>\n",
              "      <td>premium unleaded (required)</td>\n",
              "      <td>335.0</td>\n",
              "      <td>6.0</td>\n",
              "      <td>MANUAL</td>\n",
              "      <td>rear wheel drive</td>\n",
              "      <td>2.0</td>\n",
              "      <td>Factory Tuner,Luxury,High-Performance</td>\n",
              "      <td>Compact</td>\n",
              "      <td>Coupe</td>\n",
              "      <td>26</td>\n",
              "      <td>19</td>\n",
              "      <td>3916</td>\n",
              "      <td>46135</td>\n",
              "    </tr>\n",
              "    <tr>\n",
              "      <th>1</th>\n",
              "      <td>BMW</td>\n",
              "      <td>1 Series</td>\n",
              "      <td>2011</td>\n",
              "      <td>premium unleaded (required)</td>\n",
              "      <td>300.0</td>\n",
              "      <td>6.0</td>\n",
              "      <td>MANUAL</td>\n",
              "      <td>rear wheel drive</td>\n",
              "      <td>2.0</td>\n",
              "      <td>Luxury,Performance</td>\n",
              "      <td>Compact</td>\n",
              "      <td>Convertible</td>\n",
              "      <td>28</td>\n",
              "      <td>19</td>\n",
              "      <td>3916</td>\n",
              "      <td>40650</td>\n",
              "    </tr>\n",
              "    <tr>\n",
              "      <th>2</th>\n",
              "      <td>BMW</td>\n",
              "      <td>1 Series</td>\n",
              "      <td>2011</td>\n",
              "      <td>premium unleaded (required)</td>\n",
              "      <td>300.0</td>\n",
              "      <td>6.0</td>\n",
              "      <td>MANUAL</td>\n",
              "      <td>rear wheel drive</td>\n",
              "      <td>2.0</td>\n",
              "      <td>Luxury,High-Performance</td>\n",
              "      <td>Compact</td>\n",
              "      <td>Coupe</td>\n",
              "      <td>28</td>\n",
              "      <td>20</td>\n",
              "      <td>3916</td>\n",
              "      <td>36350</td>\n",
              "    </tr>\n",
              "    <tr>\n",
              "      <th>3</th>\n",
              "      <td>BMW</td>\n",
              "      <td>1 Series</td>\n",
              "      <td>2011</td>\n",
              "      <td>premium unleaded (required)</td>\n",
              "      <td>230.0</td>\n",
              "      <td>6.0</td>\n",
              "      <td>MANUAL</td>\n",
              "      <td>rear wheel drive</td>\n",
              "      <td>2.0</td>\n",
              "      <td>Luxury,Performance</td>\n",
              "      <td>Compact</td>\n",
              "      <td>Coupe</td>\n",
              "      <td>28</td>\n",
              "      <td>18</td>\n",
              "      <td>3916</td>\n",
              "      <td>29450</td>\n",
              "    </tr>\n",
              "    <tr>\n",
              "      <th>4</th>\n",
              "      <td>BMW</td>\n",
              "      <td>1 Series</td>\n",
              "      <td>2011</td>\n",
              "      <td>premium unleaded (required)</td>\n",
              "      <td>230.0</td>\n",
              "      <td>6.0</td>\n",
              "      <td>MANUAL</td>\n",
              "      <td>rear wheel drive</td>\n",
              "      <td>2.0</td>\n",
              "      <td>Luxury</td>\n",
              "      <td>Compact</td>\n",
              "      <td>Convertible</td>\n",
              "      <td>28</td>\n",
              "      <td>18</td>\n",
              "      <td>3916</td>\n",
              "      <td>34500</td>\n",
              "    </tr>\n",
              "  </tbody>\n",
              "</table>\n",
              "</div>\n",
              "      <button class=\"colab-df-convert\" onclick=\"convertToInteractive('df-4f0c581f-1629-470b-9a5a-28bece94fbbb')\"\n",
              "              title=\"Convert this dataframe to an interactive table.\"\n",
              "              style=\"display:none;\">\n",
              "        \n",
              "  <svg xmlns=\"http://www.w3.org/2000/svg\" height=\"24px\"viewBox=\"0 0 24 24\"\n",
              "       width=\"24px\">\n",
              "    <path d=\"M0 0h24v24H0V0z\" fill=\"none\"/>\n",
              "    <path d=\"M18.56 5.44l.94 2.06.94-2.06 2.06-.94-2.06-.94-.94-2.06-.94 2.06-2.06.94zm-11 1L8.5 8.5l.94-2.06 2.06-.94-2.06-.94L8.5 2.5l-.94 2.06-2.06.94zm10 10l.94 2.06.94-2.06 2.06-.94-2.06-.94-.94-2.06-.94 2.06-2.06.94z\"/><path d=\"M17.41 7.96l-1.37-1.37c-.4-.4-.92-.59-1.43-.59-.52 0-1.04.2-1.43.59L10.3 9.45l-7.72 7.72c-.78.78-.78 2.05 0 2.83L4 21.41c.39.39.9.59 1.41.59.51 0 1.02-.2 1.41-.59l7.78-7.78 2.81-2.81c.8-.78.8-2.07 0-2.86zM5.41 20L4 18.59l7.72-7.72 1.47 1.35L5.41 20z\"/>\n",
              "  </svg>\n",
              "      </button>\n",
              "      \n",
              "  <style>\n",
              "    .colab-df-container {\n",
              "      display:flex;\n",
              "      flex-wrap:wrap;\n",
              "      gap: 12px;\n",
              "    }\n",
              "\n",
              "    .colab-df-convert {\n",
              "      background-color: #E8F0FE;\n",
              "      border: none;\n",
              "      border-radius: 50%;\n",
              "      cursor: pointer;\n",
              "      display: none;\n",
              "      fill: #1967D2;\n",
              "      height: 32px;\n",
              "      padding: 0 0 0 0;\n",
              "      width: 32px;\n",
              "    }\n",
              "\n",
              "    .colab-df-convert:hover {\n",
              "      background-color: #E2EBFA;\n",
              "      box-shadow: 0px 1px 2px rgba(60, 64, 67, 0.3), 0px 1px 3px 1px rgba(60, 64, 67, 0.15);\n",
              "      fill: #174EA6;\n",
              "    }\n",
              "\n",
              "    [theme=dark] .colab-df-convert {\n",
              "      background-color: #3B4455;\n",
              "      fill: #D2E3FC;\n",
              "    }\n",
              "\n",
              "    [theme=dark] .colab-df-convert:hover {\n",
              "      background-color: #434B5C;\n",
              "      box-shadow: 0px 1px 3px 1px rgba(0, 0, 0, 0.15);\n",
              "      filter: drop-shadow(0px 1px 2px rgba(0, 0, 0, 0.3));\n",
              "      fill: #FFFFFF;\n",
              "    }\n",
              "  </style>\n",
              "\n",
              "      <script>\n",
              "        const buttonEl =\n",
              "          document.querySelector('#df-4f0c581f-1629-470b-9a5a-28bece94fbbb button.colab-df-convert');\n",
              "        buttonEl.style.display =\n",
              "          google.colab.kernel.accessAllowed ? 'block' : 'none';\n",
              "\n",
              "        async function convertToInteractive(key) {\n",
              "          const element = document.querySelector('#df-4f0c581f-1629-470b-9a5a-28bece94fbbb');\n",
              "          const dataTable =\n",
              "            await google.colab.kernel.invokeFunction('convertToInteractive',\n",
              "                                                     [key], {});\n",
              "          if (!dataTable) return;\n",
              "\n",
              "          const docLinkHtml = 'Like what you see? Visit the ' +\n",
              "            '<a target=\"_blank\" href=https://colab.research.google.com/notebooks/data_table.ipynb>data table notebook</a>'\n",
              "            + ' to learn more about interactive tables.';\n",
              "          element.innerHTML = '';\n",
              "          dataTable['output_type'] = 'display_data';\n",
              "          await google.colab.output.renderOutput(dataTable, element);\n",
              "          const docLink = document.createElement('div');\n",
              "          docLink.innerHTML = docLinkHtml;\n",
              "          element.appendChild(docLink);\n",
              "        }\n",
              "      </script>\n",
              "    </div>\n",
              "  </div>\n",
              "  "
            ]
          },
          "metadata": {},
          "execution_count": 6
        }
      ],
      "source": [
        "df.head()"
      ]
    },
    {
      "cell_type": "code",
      "execution_count": 7,
      "metadata": {
        "id": "PWMsArC3G1iZ"
      },
      "outputs": [],
      "source": [
        "df.columns = df.columns.str.lower().str.replace(' ', '_')\n",
        "\n",
        "string_columns = list(df.dtypes[df.dtypes == 'object'].index)\n",
        "\n",
        "for col in string_columns:\n",
        "    df[col] = df[col].str.lower().str.replace(' ', '_')"
      ]
    },
    {
      "cell_type": "code",
      "execution_count": 8,
      "metadata": {
        "colab": {
          "base_uri": "https://localhost:8080/",
          "height": 288
        },
        "id": "rmS2fnHZG1ia",
        "outputId": "c2c79971-bc5d-44c7-c477-dd9d58d0716b"
      },
      "outputs": [
        {
          "output_type": "execute_result",
          "data": {
            "text/plain": [
              "  make       model  year             engine_fuel_type  engine_hp  \\\n",
              "0  bmw  1_series_m  2011  premium_unleaded_(required)      335.0   \n",
              "1  bmw    1_series  2011  premium_unleaded_(required)      300.0   \n",
              "2  bmw    1_series  2011  premium_unleaded_(required)      300.0   \n",
              "3  bmw    1_series  2011  premium_unleaded_(required)      230.0   \n",
              "4  bmw    1_series  2011  premium_unleaded_(required)      230.0   \n",
              "\n",
              "   engine_cylinders transmission_type     driven_wheels  number_of_doors  \\\n",
              "0               6.0            manual  rear_wheel_drive              2.0   \n",
              "1               6.0            manual  rear_wheel_drive              2.0   \n",
              "2               6.0            manual  rear_wheel_drive              2.0   \n",
              "3               6.0            manual  rear_wheel_drive              2.0   \n",
              "4               6.0            manual  rear_wheel_drive              2.0   \n",
              "\n",
              "                         market_category vehicle_size vehicle_style  \\\n",
              "0  factory_tuner,luxury,high-performance      compact         coupe   \n",
              "1                     luxury,performance      compact   convertible   \n",
              "2                luxury,high-performance      compact         coupe   \n",
              "3                     luxury,performance      compact         coupe   \n",
              "4                                 luxury      compact   convertible   \n",
              "\n",
              "   highway_mpg  city_mpg  popularity   msrp  \n",
              "0           26        19        3916  46135  \n",
              "1           28        19        3916  40650  \n",
              "2           28        20        3916  36350  \n",
              "3           28        18        3916  29450  \n",
              "4           28        18        3916  34500  "
            ],
            "text/html": [
              "\n",
              "  <div id=\"df-6c9331ce-93a9-4fc8-8a5d-d365013fb222\">\n",
              "    <div class=\"colab-df-container\">\n",
              "      <div>\n",
              "<style scoped>\n",
              "    .dataframe tbody tr th:only-of-type {\n",
              "        vertical-align: middle;\n",
              "    }\n",
              "\n",
              "    .dataframe tbody tr th {\n",
              "        vertical-align: top;\n",
              "    }\n",
              "\n",
              "    .dataframe thead th {\n",
              "        text-align: right;\n",
              "    }\n",
              "</style>\n",
              "<table border=\"1\" class=\"dataframe\">\n",
              "  <thead>\n",
              "    <tr style=\"text-align: right;\">\n",
              "      <th></th>\n",
              "      <th>make</th>\n",
              "      <th>model</th>\n",
              "      <th>year</th>\n",
              "      <th>engine_fuel_type</th>\n",
              "      <th>engine_hp</th>\n",
              "      <th>engine_cylinders</th>\n",
              "      <th>transmission_type</th>\n",
              "      <th>driven_wheels</th>\n",
              "      <th>number_of_doors</th>\n",
              "      <th>market_category</th>\n",
              "      <th>vehicle_size</th>\n",
              "      <th>vehicle_style</th>\n",
              "      <th>highway_mpg</th>\n",
              "      <th>city_mpg</th>\n",
              "      <th>popularity</th>\n",
              "      <th>msrp</th>\n",
              "    </tr>\n",
              "  </thead>\n",
              "  <tbody>\n",
              "    <tr>\n",
              "      <th>0</th>\n",
              "      <td>bmw</td>\n",
              "      <td>1_series_m</td>\n",
              "      <td>2011</td>\n",
              "      <td>premium_unleaded_(required)</td>\n",
              "      <td>335.0</td>\n",
              "      <td>6.0</td>\n",
              "      <td>manual</td>\n",
              "      <td>rear_wheel_drive</td>\n",
              "      <td>2.0</td>\n",
              "      <td>factory_tuner,luxury,high-performance</td>\n",
              "      <td>compact</td>\n",
              "      <td>coupe</td>\n",
              "      <td>26</td>\n",
              "      <td>19</td>\n",
              "      <td>3916</td>\n",
              "      <td>46135</td>\n",
              "    </tr>\n",
              "    <tr>\n",
              "      <th>1</th>\n",
              "      <td>bmw</td>\n",
              "      <td>1_series</td>\n",
              "      <td>2011</td>\n",
              "      <td>premium_unleaded_(required)</td>\n",
              "      <td>300.0</td>\n",
              "      <td>6.0</td>\n",
              "      <td>manual</td>\n",
              "      <td>rear_wheel_drive</td>\n",
              "      <td>2.0</td>\n",
              "      <td>luxury,performance</td>\n",
              "      <td>compact</td>\n",
              "      <td>convertible</td>\n",
              "      <td>28</td>\n",
              "      <td>19</td>\n",
              "      <td>3916</td>\n",
              "      <td>40650</td>\n",
              "    </tr>\n",
              "    <tr>\n",
              "      <th>2</th>\n",
              "      <td>bmw</td>\n",
              "      <td>1_series</td>\n",
              "      <td>2011</td>\n",
              "      <td>premium_unleaded_(required)</td>\n",
              "      <td>300.0</td>\n",
              "      <td>6.0</td>\n",
              "      <td>manual</td>\n",
              "      <td>rear_wheel_drive</td>\n",
              "      <td>2.0</td>\n",
              "      <td>luxury,high-performance</td>\n",
              "      <td>compact</td>\n",
              "      <td>coupe</td>\n",
              "      <td>28</td>\n",
              "      <td>20</td>\n",
              "      <td>3916</td>\n",
              "      <td>36350</td>\n",
              "    </tr>\n",
              "    <tr>\n",
              "      <th>3</th>\n",
              "      <td>bmw</td>\n",
              "      <td>1_series</td>\n",
              "      <td>2011</td>\n",
              "      <td>premium_unleaded_(required)</td>\n",
              "      <td>230.0</td>\n",
              "      <td>6.0</td>\n",
              "      <td>manual</td>\n",
              "      <td>rear_wheel_drive</td>\n",
              "      <td>2.0</td>\n",
              "      <td>luxury,performance</td>\n",
              "      <td>compact</td>\n",
              "      <td>coupe</td>\n",
              "      <td>28</td>\n",
              "      <td>18</td>\n",
              "      <td>3916</td>\n",
              "      <td>29450</td>\n",
              "    </tr>\n",
              "    <tr>\n",
              "      <th>4</th>\n",
              "      <td>bmw</td>\n",
              "      <td>1_series</td>\n",
              "      <td>2011</td>\n",
              "      <td>premium_unleaded_(required)</td>\n",
              "      <td>230.0</td>\n",
              "      <td>6.0</td>\n",
              "      <td>manual</td>\n",
              "      <td>rear_wheel_drive</td>\n",
              "      <td>2.0</td>\n",
              "      <td>luxury</td>\n",
              "      <td>compact</td>\n",
              "      <td>convertible</td>\n",
              "      <td>28</td>\n",
              "      <td>18</td>\n",
              "      <td>3916</td>\n",
              "      <td>34500</td>\n",
              "    </tr>\n",
              "  </tbody>\n",
              "</table>\n",
              "</div>\n",
              "      <button class=\"colab-df-convert\" onclick=\"convertToInteractive('df-6c9331ce-93a9-4fc8-8a5d-d365013fb222')\"\n",
              "              title=\"Convert this dataframe to an interactive table.\"\n",
              "              style=\"display:none;\">\n",
              "        \n",
              "  <svg xmlns=\"http://www.w3.org/2000/svg\" height=\"24px\"viewBox=\"0 0 24 24\"\n",
              "       width=\"24px\">\n",
              "    <path d=\"M0 0h24v24H0V0z\" fill=\"none\"/>\n",
              "    <path d=\"M18.56 5.44l.94 2.06.94-2.06 2.06-.94-2.06-.94-.94-2.06-.94 2.06-2.06.94zm-11 1L8.5 8.5l.94-2.06 2.06-.94-2.06-.94L8.5 2.5l-.94 2.06-2.06.94zm10 10l.94 2.06.94-2.06 2.06-.94-2.06-.94-.94-2.06-.94 2.06-2.06.94z\"/><path d=\"M17.41 7.96l-1.37-1.37c-.4-.4-.92-.59-1.43-.59-.52 0-1.04.2-1.43.59L10.3 9.45l-7.72 7.72c-.78.78-.78 2.05 0 2.83L4 21.41c.39.39.9.59 1.41.59.51 0 1.02-.2 1.41-.59l7.78-7.78 2.81-2.81c.8-.78.8-2.07 0-2.86zM5.41 20L4 18.59l7.72-7.72 1.47 1.35L5.41 20z\"/>\n",
              "  </svg>\n",
              "      </button>\n",
              "      \n",
              "  <style>\n",
              "    .colab-df-container {\n",
              "      display:flex;\n",
              "      flex-wrap:wrap;\n",
              "      gap: 12px;\n",
              "    }\n",
              "\n",
              "    .colab-df-convert {\n",
              "      background-color: #E8F0FE;\n",
              "      border: none;\n",
              "      border-radius: 50%;\n",
              "      cursor: pointer;\n",
              "      display: none;\n",
              "      fill: #1967D2;\n",
              "      height: 32px;\n",
              "      padding: 0 0 0 0;\n",
              "      width: 32px;\n",
              "    }\n",
              "\n",
              "    .colab-df-convert:hover {\n",
              "      background-color: #E2EBFA;\n",
              "      box-shadow: 0px 1px 2px rgba(60, 64, 67, 0.3), 0px 1px 3px 1px rgba(60, 64, 67, 0.15);\n",
              "      fill: #174EA6;\n",
              "    }\n",
              "\n",
              "    [theme=dark] .colab-df-convert {\n",
              "      background-color: #3B4455;\n",
              "      fill: #D2E3FC;\n",
              "    }\n",
              "\n",
              "    [theme=dark] .colab-df-convert:hover {\n",
              "      background-color: #434B5C;\n",
              "      box-shadow: 0px 1px 3px 1px rgba(0, 0, 0, 0.15);\n",
              "      filter: drop-shadow(0px 1px 2px rgba(0, 0, 0, 0.3));\n",
              "      fill: #FFFFFF;\n",
              "    }\n",
              "  </style>\n",
              "\n",
              "      <script>\n",
              "        const buttonEl =\n",
              "          document.querySelector('#df-6c9331ce-93a9-4fc8-8a5d-d365013fb222 button.colab-df-convert');\n",
              "        buttonEl.style.display =\n",
              "          google.colab.kernel.accessAllowed ? 'block' : 'none';\n",
              "\n",
              "        async function convertToInteractive(key) {\n",
              "          const element = document.querySelector('#df-6c9331ce-93a9-4fc8-8a5d-d365013fb222');\n",
              "          const dataTable =\n",
              "            await google.colab.kernel.invokeFunction('convertToInteractive',\n",
              "                                                     [key], {});\n",
              "          if (!dataTable) return;\n",
              "\n",
              "          const docLinkHtml = 'Like what you see? Visit the ' +\n",
              "            '<a target=\"_blank\" href=https://colab.research.google.com/notebooks/data_table.ipynb>data table notebook</a>'\n",
              "            + ' to learn more about interactive tables.';\n",
              "          element.innerHTML = '';\n",
              "          dataTable['output_type'] = 'display_data';\n",
              "          await google.colab.output.renderOutput(dataTable, element);\n",
              "          const docLink = document.createElement('div');\n",
              "          docLink.innerHTML = docLinkHtml;\n",
              "          element.appendChild(docLink);\n",
              "        }\n",
              "      </script>\n",
              "    </div>\n",
              "  </div>\n",
              "  "
            ]
          },
          "metadata": {},
          "execution_count": 8
        }
      ],
      "source": [
        "df.head()"
      ]
    },
    {
      "cell_type": "code",
      "source": [
        "df.nunique()"
      ],
      "metadata": {
        "colab": {
          "base_uri": "https://localhost:8080/"
        },
        "id": "4z0gDIhPJ-tW",
        "outputId": "802139cc-d716-41e2-b5db-6bee34bffff1"
      },
      "execution_count": 9,
      "outputs": [
        {
          "output_type": "execute_result",
          "data": {
            "text/plain": [
              "make                   48\n",
              "model                 914\n",
              "year                   28\n",
              "engine_fuel_type       10\n",
              "engine_hp             356\n",
              "engine_cylinders        9\n",
              "transmission_type       5\n",
              "driven_wheels           4\n",
              "number_of_doors         3\n",
              "market_category        71\n",
              "vehicle_size            3\n",
              "vehicle_style          16\n",
              "highway_mpg            59\n",
              "city_mpg               69\n",
              "popularity             48\n",
              "msrp                 6049\n",
              "dtype: int64"
            ]
          },
          "metadata": {},
          "execution_count": 9
        }
      ]
    },
    {
      "cell_type": "code",
      "source": [
        "df['make'].unique()"
      ],
      "metadata": {
        "colab": {
          "base_uri": "https://localhost:8080/"
        },
        "id": "YgV52pPgZg-H",
        "outputId": "c95850ba-38f5-4bbb-f950-01a1cf78ffbc"
      },
      "execution_count": 26,
      "outputs": [
        {
          "output_type": "execute_result",
          "data": {
            "text/plain": [
              "array(['bmw', 'audi', 'fiat', 'mercedes-benz', 'chrysler', 'nissan',\n",
              "       'volvo', 'mazda', 'mitsubishi', 'ferrari', 'alfa_romeo', 'toyota',\n",
              "       'mclaren', 'maybach', 'pontiac', 'porsche', 'saab', 'gmc',\n",
              "       'hyundai', 'plymouth', 'honda', 'oldsmobile', 'suzuki', 'ford',\n",
              "       'cadillac', 'kia', 'bentley', 'chevrolet', 'dodge', 'lamborghini',\n",
              "       'lincoln', 'subaru', 'volkswagen', 'spyker', 'buick', 'acura',\n",
              "       'rolls-royce', 'maserati', 'lexus', 'aston_martin', 'land_rover',\n",
              "       'lotus', 'infiniti', 'scion', 'genesis', 'hummer', 'tesla',\n",
              "       'bugatti'], dtype=object)"
            ]
          },
          "metadata": {},
          "execution_count": 26
        }
      ]
    },
    {
      "cell_type": "code",
      "source": [
        "df['make'].describe()"
      ],
      "metadata": {
        "colab": {
          "base_uri": "https://localhost:8080/"
        },
        "id": "40PjJpnSKXUh",
        "outputId": "18184e53-9f26-4dfd-9bae-9c48fc55199e"
      },
      "execution_count": 10,
      "outputs": [
        {
          "output_type": "execute_result",
          "data": {
            "text/plain": [
              "count         11914\n",
              "unique           48\n",
              "top       chevrolet\n",
              "freq           1123\n",
              "Name: make, dtype: object"
            ]
          },
          "metadata": {},
          "execution_count": 10
        }
      ]
    },
    {
      "cell_type": "code",
      "source": [
        "#3\n",
        "df.groupby('make').make.describe()"
      ],
      "metadata": {
        "colab": {
          "base_uri": "https://localhost:8080/",
          "height": 1000
        },
        "id": "YsVYGzwBejOr",
        "outputId": "64a2d62c-6b2b-47f0-c703-0ae65a667b39"
      },
      "execution_count": 60,
      "outputs": [
        {
          "output_type": "execute_result",
          "data": {
            "text/plain": [
              "              count unique            top  freq\n",
              "make                                           \n",
              "acura           252      1          acura   252\n",
              "alfa_romeo        5      1     alfa_romeo     5\n",
              "aston_martin     93      1   aston_martin    93\n",
              "audi            328      1           audi   328\n",
              "bentley          74      1        bentley    74\n",
              "bmw             334      1            bmw   334\n",
              "bugatti           3      1        bugatti     3\n",
              "buick           196      1          buick   196\n",
              "cadillac        397      1       cadillac   397\n",
              "chevrolet      1123      1      chevrolet  1123\n",
              "chrysler        187      1       chrysler   187\n",
              "dodge           626      1          dodge   626\n",
              "ferrari          69      1        ferrari    69\n",
              "fiat             62      1           fiat    62\n",
              "ford            881      1           ford   881\n",
              "genesis           3      1        genesis     3\n",
              "gmc             515      1            gmc   515\n",
              "honda           449      1          honda   449\n",
              "hummer           17      1         hummer    17\n",
              "hyundai         303      1        hyundai   303\n",
              "infiniti        330      1       infiniti   330\n",
              "kia             231      1            kia   231\n",
              "lamborghini      52      1    lamborghini    52\n",
              "land_rover      143      1     land_rover   143\n",
              "lexus           202      1          lexus   202\n",
              "lincoln         164      1        lincoln   164\n",
              "lotus            29      1          lotus    29\n",
              "maserati         58      1       maserati    58\n",
              "maybach          16      1        maybach    16\n",
              "mazda           423      1          mazda   423\n",
              "mclaren           5      1        mclaren     5\n",
              "mercedes-benz   353      1  mercedes-benz   353\n",
              "mitsubishi      213      1     mitsubishi   213\n",
              "nissan          558      1         nissan   558\n",
              "oldsmobile      150      1     oldsmobile   150\n",
              "plymouth         82      1       plymouth    82\n",
              "pontiac         186      1        pontiac   186\n",
              "porsche         136      1        porsche   136\n",
              "rolls-royce      31      1    rolls-royce    31\n",
              "saab            111      1           saab   111\n",
              "scion            60      1          scion    60\n",
              "spyker            3      1         spyker     3\n",
              "subaru          256      1         subaru   256\n",
              "suzuki          351      1         suzuki   351\n",
              "tesla            18      1          tesla    18\n",
              "toyota          746      1         toyota   746\n",
              "volkswagen      809      1     volkswagen   809\n",
              "volvo           281      1          volvo   281"
            ],
            "text/html": [
              "\n",
              "  <div id=\"df-a84bb320-5fc1-4ede-80ea-8371c4a19df7\">\n",
              "    <div class=\"colab-df-container\">\n",
              "      <div>\n",
              "<style scoped>\n",
              "    .dataframe tbody tr th:only-of-type {\n",
              "        vertical-align: middle;\n",
              "    }\n",
              "\n",
              "    .dataframe tbody tr th {\n",
              "        vertical-align: top;\n",
              "    }\n",
              "\n",
              "    .dataframe thead th {\n",
              "        text-align: right;\n",
              "    }\n",
              "</style>\n",
              "<table border=\"1\" class=\"dataframe\">\n",
              "  <thead>\n",
              "    <tr style=\"text-align: right;\">\n",
              "      <th></th>\n",
              "      <th>count</th>\n",
              "      <th>unique</th>\n",
              "      <th>top</th>\n",
              "      <th>freq</th>\n",
              "    </tr>\n",
              "    <tr>\n",
              "      <th>make</th>\n",
              "      <th></th>\n",
              "      <th></th>\n",
              "      <th></th>\n",
              "      <th></th>\n",
              "    </tr>\n",
              "  </thead>\n",
              "  <tbody>\n",
              "    <tr>\n",
              "      <th>acura</th>\n",
              "      <td>252</td>\n",
              "      <td>1</td>\n",
              "      <td>acura</td>\n",
              "      <td>252</td>\n",
              "    </tr>\n",
              "    <tr>\n",
              "      <th>alfa_romeo</th>\n",
              "      <td>5</td>\n",
              "      <td>1</td>\n",
              "      <td>alfa_romeo</td>\n",
              "      <td>5</td>\n",
              "    </tr>\n",
              "    <tr>\n",
              "      <th>aston_martin</th>\n",
              "      <td>93</td>\n",
              "      <td>1</td>\n",
              "      <td>aston_martin</td>\n",
              "      <td>93</td>\n",
              "    </tr>\n",
              "    <tr>\n",
              "      <th>audi</th>\n",
              "      <td>328</td>\n",
              "      <td>1</td>\n",
              "      <td>audi</td>\n",
              "      <td>328</td>\n",
              "    </tr>\n",
              "    <tr>\n",
              "      <th>bentley</th>\n",
              "      <td>74</td>\n",
              "      <td>1</td>\n",
              "      <td>bentley</td>\n",
              "      <td>74</td>\n",
              "    </tr>\n",
              "    <tr>\n",
              "      <th>bmw</th>\n",
              "      <td>334</td>\n",
              "      <td>1</td>\n",
              "      <td>bmw</td>\n",
              "      <td>334</td>\n",
              "    </tr>\n",
              "    <tr>\n",
              "      <th>bugatti</th>\n",
              "      <td>3</td>\n",
              "      <td>1</td>\n",
              "      <td>bugatti</td>\n",
              "      <td>3</td>\n",
              "    </tr>\n",
              "    <tr>\n",
              "      <th>buick</th>\n",
              "      <td>196</td>\n",
              "      <td>1</td>\n",
              "      <td>buick</td>\n",
              "      <td>196</td>\n",
              "    </tr>\n",
              "    <tr>\n",
              "      <th>cadillac</th>\n",
              "      <td>397</td>\n",
              "      <td>1</td>\n",
              "      <td>cadillac</td>\n",
              "      <td>397</td>\n",
              "    </tr>\n",
              "    <tr>\n",
              "      <th>chevrolet</th>\n",
              "      <td>1123</td>\n",
              "      <td>1</td>\n",
              "      <td>chevrolet</td>\n",
              "      <td>1123</td>\n",
              "    </tr>\n",
              "    <tr>\n",
              "      <th>chrysler</th>\n",
              "      <td>187</td>\n",
              "      <td>1</td>\n",
              "      <td>chrysler</td>\n",
              "      <td>187</td>\n",
              "    </tr>\n",
              "    <tr>\n",
              "      <th>dodge</th>\n",
              "      <td>626</td>\n",
              "      <td>1</td>\n",
              "      <td>dodge</td>\n",
              "      <td>626</td>\n",
              "    </tr>\n",
              "    <tr>\n",
              "      <th>ferrari</th>\n",
              "      <td>69</td>\n",
              "      <td>1</td>\n",
              "      <td>ferrari</td>\n",
              "      <td>69</td>\n",
              "    </tr>\n",
              "    <tr>\n",
              "      <th>fiat</th>\n",
              "      <td>62</td>\n",
              "      <td>1</td>\n",
              "      <td>fiat</td>\n",
              "      <td>62</td>\n",
              "    </tr>\n",
              "    <tr>\n",
              "      <th>ford</th>\n",
              "      <td>881</td>\n",
              "      <td>1</td>\n",
              "      <td>ford</td>\n",
              "      <td>881</td>\n",
              "    </tr>\n",
              "    <tr>\n",
              "      <th>genesis</th>\n",
              "      <td>3</td>\n",
              "      <td>1</td>\n",
              "      <td>genesis</td>\n",
              "      <td>3</td>\n",
              "    </tr>\n",
              "    <tr>\n",
              "      <th>gmc</th>\n",
              "      <td>515</td>\n",
              "      <td>1</td>\n",
              "      <td>gmc</td>\n",
              "      <td>515</td>\n",
              "    </tr>\n",
              "    <tr>\n",
              "      <th>honda</th>\n",
              "      <td>449</td>\n",
              "      <td>1</td>\n",
              "      <td>honda</td>\n",
              "      <td>449</td>\n",
              "    </tr>\n",
              "    <tr>\n",
              "      <th>hummer</th>\n",
              "      <td>17</td>\n",
              "      <td>1</td>\n",
              "      <td>hummer</td>\n",
              "      <td>17</td>\n",
              "    </tr>\n",
              "    <tr>\n",
              "      <th>hyundai</th>\n",
              "      <td>303</td>\n",
              "      <td>1</td>\n",
              "      <td>hyundai</td>\n",
              "      <td>303</td>\n",
              "    </tr>\n",
              "    <tr>\n",
              "      <th>infiniti</th>\n",
              "      <td>330</td>\n",
              "      <td>1</td>\n",
              "      <td>infiniti</td>\n",
              "      <td>330</td>\n",
              "    </tr>\n",
              "    <tr>\n",
              "      <th>kia</th>\n",
              "      <td>231</td>\n",
              "      <td>1</td>\n",
              "      <td>kia</td>\n",
              "      <td>231</td>\n",
              "    </tr>\n",
              "    <tr>\n",
              "      <th>lamborghini</th>\n",
              "      <td>52</td>\n",
              "      <td>1</td>\n",
              "      <td>lamborghini</td>\n",
              "      <td>52</td>\n",
              "    </tr>\n",
              "    <tr>\n",
              "      <th>land_rover</th>\n",
              "      <td>143</td>\n",
              "      <td>1</td>\n",
              "      <td>land_rover</td>\n",
              "      <td>143</td>\n",
              "    </tr>\n",
              "    <tr>\n",
              "      <th>lexus</th>\n",
              "      <td>202</td>\n",
              "      <td>1</td>\n",
              "      <td>lexus</td>\n",
              "      <td>202</td>\n",
              "    </tr>\n",
              "    <tr>\n",
              "      <th>lincoln</th>\n",
              "      <td>164</td>\n",
              "      <td>1</td>\n",
              "      <td>lincoln</td>\n",
              "      <td>164</td>\n",
              "    </tr>\n",
              "    <tr>\n",
              "      <th>lotus</th>\n",
              "      <td>29</td>\n",
              "      <td>1</td>\n",
              "      <td>lotus</td>\n",
              "      <td>29</td>\n",
              "    </tr>\n",
              "    <tr>\n",
              "      <th>maserati</th>\n",
              "      <td>58</td>\n",
              "      <td>1</td>\n",
              "      <td>maserati</td>\n",
              "      <td>58</td>\n",
              "    </tr>\n",
              "    <tr>\n",
              "      <th>maybach</th>\n",
              "      <td>16</td>\n",
              "      <td>1</td>\n",
              "      <td>maybach</td>\n",
              "      <td>16</td>\n",
              "    </tr>\n",
              "    <tr>\n",
              "      <th>mazda</th>\n",
              "      <td>423</td>\n",
              "      <td>1</td>\n",
              "      <td>mazda</td>\n",
              "      <td>423</td>\n",
              "    </tr>\n",
              "    <tr>\n",
              "      <th>mclaren</th>\n",
              "      <td>5</td>\n",
              "      <td>1</td>\n",
              "      <td>mclaren</td>\n",
              "      <td>5</td>\n",
              "    </tr>\n",
              "    <tr>\n",
              "      <th>mercedes-benz</th>\n",
              "      <td>353</td>\n",
              "      <td>1</td>\n",
              "      <td>mercedes-benz</td>\n",
              "      <td>353</td>\n",
              "    </tr>\n",
              "    <tr>\n",
              "      <th>mitsubishi</th>\n",
              "      <td>213</td>\n",
              "      <td>1</td>\n",
              "      <td>mitsubishi</td>\n",
              "      <td>213</td>\n",
              "    </tr>\n",
              "    <tr>\n",
              "      <th>nissan</th>\n",
              "      <td>558</td>\n",
              "      <td>1</td>\n",
              "      <td>nissan</td>\n",
              "      <td>558</td>\n",
              "    </tr>\n",
              "    <tr>\n",
              "      <th>oldsmobile</th>\n",
              "      <td>150</td>\n",
              "      <td>1</td>\n",
              "      <td>oldsmobile</td>\n",
              "      <td>150</td>\n",
              "    </tr>\n",
              "    <tr>\n",
              "      <th>plymouth</th>\n",
              "      <td>82</td>\n",
              "      <td>1</td>\n",
              "      <td>plymouth</td>\n",
              "      <td>82</td>\n",
              "    </tr>\n",
              "    <tr>\n",
              "      <th>pontiac</th>\n",
              "      <td>186</td>\n",
              "      <td>1</td>\n",
              "      <td>pontiac</td>\n",
              "      <td>186</td>\n",
              "    </tr>\n",
              "    <tr>\n",
              "      <th>porsche</th>\n",
              "      <td>136</td>\n",
              "      <td>1</td>\n",
              "      <td>porsche</td>\n",
              "      <td>136</td>\n",
              "    </tr>\n",
              "    <tr>\n",
              "      <th>rolls-royce</th>\n",
              "      <td>31</td>\n",
              "      <td>1</td>\n",
              "      <td>rolls-royce</td>\n",
              "      <td>31</td>\n",
              "    </tr>\n",
              "    <tr>\n",
              "      <th>saab</th>\n",
              "      <td>111</td>\n",
              "      <td>1</td>\n",
              "      <td>saab</td>\n",
              "      <td>111</td>\n",
              "    </tr>\n",
              "    <tr>\n",
              "      <th>scion</th>\n",
              "      <td>60</td>\n",
              "      <td>1</td>\n",
              "      <td>scion</td>\n",
              "      <td>60</td>\n",
              "    </tr>\n",
              "    <tr>\n",
              "      <th>spyker</th>\n",
              "      <td>3</td>\n",
              "      <td>1</td>\n",
              "      <td>spyker</td>\n",
              "      <td>3</td>\n",
              "    </tr>\n",
              "    <tr>\n",
              "      <th>subaru</th>\n",
              "      <td>256</td>\n",
              "      <td>1</td>\n",
              "      <td>subaru</td>\n",
              "      <td>256</td>\n",
              "    </tr>\n",
              "    <tr>\n",
              "      <th>suzuki</th>\n",
              "      <td>351</td>\n",
              "      <td>1</td>\n",
              "      <td>suzuki</td>\n",
              "      <td>351</td>\n",
              "    </tr>\n",
              "    <tr>\n",
              "      <th>tesla</th>\n",
              "      <td>18</td>\n",
              "      <td>1</td>\n",
              "      <td>tesla</td>\n",
              "      <td>18</td>\n",
              "    </tr>\n",
              "    <tr>\n",
              "      <th>toyota</th>\n",
              "      <td>746</td>\n",
              "      <td>1</td>\n",
              "      <td>toyota</td>\n",
              "      <td>746</td>\n",
              "    </tr>\n",
              "    <tr>\n",
              "      <th>volkswagen</th>\n",
              "      <td>809</td>\n",
              "      <td>1</td>\n",
              "      <td>volkswagen</td>\n",
              "      <td>809</td>\n",
              "    </tr>\n",
              "    <tr>\n",
              "      <th>volvo</th>\n",
              "      <td>281</td>\n",
              "      <td>1</td>\n",
              "      <td>volvo</td>\n",
              "      <td>281</td>\n",
              "    </tr>\n",
              "  </tbody>\n",
              "</table>\n",
              "</div>\n",
              "      <button class=\"colab-df-convert\" onclick=\"convertToInteractive('df-a84bb320-5fc1-4ede-80ea-8371c4a19df7')\"\n",
              "              title=\"Convert this dataframe to an interactive table.\"\n",
              "              style=\"display:none;\">\n",
              "        \n",
              "  <svg xmlns=\"http://www.w3.org/2000/svg\" height=\"24px\"viewBox=\"0 0 24 24\"\n",
              "       width=\"24px\">\n",
              "    <path d=\"M0 0h24v24H0V0z\" fill=\"none\"/>\n",
              "    <path d=\"M18.56 5.44l.94 2.06.94-2.06 2.06-.94-2.06-.94-.94-2.06-.94 2.06-2.06.94zm-11 1L8.5 8.5l.94-2.06 2.06-.94-2.06-.94L8.5 2.5l-.94 2.06-2.06.94zm10 10l.94 2.06.94-2.06 2.06-.94-2.06-.94-.94-2.06-.94 2.06-2.06.94z\"/><path d=\"M17.41 7.96l-1.37-1.37c-.4-.4-.92-.59-1.43-.59-.52 0-1.04.2-1.43.59L10.3 9.45l-7.72 7.72c-.78.78-.78 2.05 0 2.83L4 21.41c.39.39.9.59 1.41.59.51 0 1.02-.2 1.41-.59l7.78-7.78 2.81-2.81c.8-.78.8-2.07 0-2.86zM5.41 20L4 18.59l7.72-7.72 1.47 1.35L5.41 20z\"/>\n",
              "  </svg>\n",
              "      </button>\n",
              "      \n",
              "  <style>\n",
              "    .colab-df-container {\n",
              "      display:flex;\n",
              "      flex-wrap:wrap;\n",
              "      gap: 12px;\n",
              "    }\n",
              "\n",
              "    .colab-df-convert {\n",
              "      background-color: #E8F0FE;\n",
              "      border: none;\n",
              "      border-radius: 50%;\n",
              "      cursor: pointer;\n",
              "      display: none;\n",
              "      fill: #1967D2;\n",
              "      height: 32px;\n",
              "      padding: 0 0 0 0;\n",
              "      width: 32px;\n",
              "    }\n",
              "\n",
              "    .colab-df-convert:hover {\n",
              "      background-color: #E2EBFA;\n",
              "      box-shadow: 0px 1px 2px rgba(60, 64, 67, 0.3), 0px 1px 3px 1px rgba(60, 64, 67, 0.15);\n",
              "      fill: #174EA6;\n",
              "    }\n",
              "\n",
              "    [theme=dark] .colab-df-convert {\n",
              "      background-color: #3B4455;\n",
              "      fill: #D2E3FC;\n",
              "    }\n",
              "\n",
              "    [theme=dark] .colab-df-convert:hover {\n",
              "      background-color: #434B5C;\n",
              "      box-shadow: 0px 1px 3px 1px rgba(0, 0, 0, 0.15);\n",
              "      filter: drop-shadow(0px 1px 2px rgba(0, 0, 0, 0.3));\n",
              "      fill: #FFFFFF;\n",
              "    }\n",
              "  </style>\n",
              "\n",
              "      <script>\n",
              "        const buttonEl =\n",
              "          document.querySelector('#df-a84bb320-5fc1-4ede-80ea-8371c4a19df7 button.colab-df-convert');\n",
              "        buttonEl.style.display =\n",
              "          google.colab.kernel.accessAllowed ? 'block' : 'none';\n",
              "\n",
              "        async function convertToInteractive(key) {\n",
              "          const element = document.querySelector('#df-a84bb320-5fc1-4ede-80ea-8371c4a19df7');\n",
              "          const dataTable =\n",
              "            await google.colab.kernel.invokeFunction('convertToInteractive',\n",
              "                                                     [key], {});\n",
              "          if (!dataTable) return;\n",
              "\n",
              "          const docLinkHtml = 'Like what you see? Visit the ' +\n",
              "            '<a target=\"_blank\" href=https://colab.research.google.com/notebooks/data_table.ipynb>data table notebook</a>'\n",
              "            + ' to learn more about interactive tables.';\n",
              "          element.innerHTML = '';\n",
              "          dataTable['output_type'] = 'display_data';\n",
              "          await google.colab.output.renderOutput(dataTable, element);\n",
              "          const docLink = document.createElement('div');\n",
              "          docLink.innerHTML = docLinkHtml;\n",
              "          element.appendChild(docLink);\n",
              "        }\n",
              "      </script>\n",
              "    </div>\n",
              "  </div>\n",
              "  "
            ]
          },
          "metadata": {},
          "execution_count": 60
        }
      ]
    },
    {
      "cell_type": "code",
      "source": [
        "#4\n",
        "df[df['make'] == 'audi'].model.nunique()\n"
      ],
      "metadata": {
        "colab": {
          "base_uri": "https://localhost:8080/"
        },
        "id": "LNWvIeQrM9Jb",
        "outputId": "a790d333-96d0-4315-a307-2c1e20af89f9"
      },
      "execution_count": 52,
      "outputs": [
        {
          "output_type": "execute_result",
          "data": {
            "text/plain": [
              "34"
            ]
          },
          "metadata": {},
          "execution_count": 52
        }
      ]
    },
    {
      "cell_type": "code",
      "source": [
        "#5\n",
        "df.isnull().sum()"
      ],
      "metadata": {
        "colab": {
          "base_uri": "https://localhost:8080/"
        },
        "id": "i35iWR8eduBW",
        "outputId": "1f1b40c3-c86c-4798-8e46-20b483f71ab0"
      },
      "execution_count": 53,
      "outputs": [
        {
          "output_type": "execute_result",
          "data": {
            "text/plain": [
              "make                    0\n",
              "model                   0\n",
              "year                    0\n",
              "engine_fuel_type        3\n",
              "engine_hp              69\n",
              "engine_cylinders       30\n",
              "transmission_type       0\n",
              "driven_wheels           0\n",
              "number_of_doors         6\n",
              "market_category      3742\n",
              "vehicle_size            0\n",
              "vehicle_style           0\n",
              "highway_mpg             0\n",
              "city_mpg                0\n",
              "popularity              0\n",
              "msrp                    0\n",
              "dtype: int64"
            ]
          },
          "metadata": {},
          "execution_count": 53
        }
      ]
    },
    {
      "cell_type": "code",
      "source": [
        "df.median()"
      ],
      "metadata": {
        "colab": {
          "base_uri": "https://localhost:8080/"
        },
        "id": "9dHL5P70eJRN",
        "outputId": "b3d89cc4-433a-45ff-f66e-94a472c81e8d"
      },
      "execution_count": 63,
      "outputs": [
        {
          "output_type": "stream",
          "name": "stderr",
          "text": [
            "/usr/local/lib/python3.7/dist-packages/ipykernel_launcher.py:1: FutureWarning: Dropping of nuisance columns in DataFrame reductions (with 'numeric_only=None') is deprecated; in a future version this will raise TypeError.  Select only valid columns before calling the reduction.\n",
            "  \"\"\"Entry point for launching an IPython kernel.\n"
          ]
        },
        {
          "output_type": "execute_result",
          "data": {
            "text/plain": [
              "Year                 2015.0\n",
              "Engine HP             227.0\n",
              "Engine Cylinders        6.0\n",
              "Number of Doors         4.0\n",
              "highway MPG            26.0\n",
              "city mpg               18.0\n",
              "Popularity           1385.0\n",
              "MSRP                29995.0\n",
              "dtype: float64"
            ]
          },
          "metadata": {},
          "execution_count": 63
        }
      ]
    },
    {
      "cell_type": "code",
      "source": [
        "df"
      ],
      "metadata": {
        "colab": {
          "base_uri": "https://localhost:8080/",
          "height": 852
        },
        "id": "72Qnl6WNfFdT",
        "outputId": "84be289e-b2b2-4ecc-9395-3802a9152082"
      },
      "execution_count": 67,
      "outputs": [
        {
          "output_type": "execute_result",
          "data": {
            "text/plain": [
              "          Make       Model  Year                Engine Fuel Type  Engine HP  \\\n",
              "0          BMW  1 Series M  2011     premium unleaded (required)      335.0   \n",
              "1          BMW    1 Series  2011     premium unleaded (required)      300.0   \n",
              "2          BMW    1 Series  2011     premium unleaded (required)      300.0   \n",
              "3          BMW    1 Series  2011     premium unleaded (required)      230.0   \n",
              "4          BMW    1 Series  2011     premium unleaded (required)      230.0   \n",
              "...        ...         ...   ...                             ...        ...   \n",
              "11909    Acura         ZDX  2012     premium unleaded (required)      300.0   \n",
              "11910    Acura         ZDX  2012     premium unleaded (required)      300.0   \n",
              "11911    Acura         ZDX  2012     premium unleaded (required)      300.0   \n",
              "11912    Acura         ZDX  2013  premium unleaded (recommended)      300.0   \n",
              "11913  Lincoln      Zephyr  2006                regular unleaded      221.0   \n",
              "\n",
              "       Engine Cylinders Transmission Type      Driven_Wheels  Number of Doors  \\\n",
              "0                   6.0            MANUAL   rear wheel drive              2.0   \n",
              "1                   6.0            MANUAL   rear wheel drive              2.0   \n",
              "2                   6.0            MANUAL   rear wheel drive              2.0   \n",
              "3                   6.0            MANUAL   rear wheel drive              2.0   \n",
              "4                   6.0            MANUAL   rear wheel drive              2.0   \n",
              "...                 ...               ...                ...              ...   \n",
              "11909               6.0         AUTOMATIC    all wheel drive              4.0   \n",
              "11910               6.0         AUTOMATIC    all wheel drive              4.0   \n",
              "11911               6.0         AUTOMATIC    all wheel drive              4.0   \n",
              "11912               6.0         AUTOMATIC    all wheel drive              4.0   \n",
              "11913               6.0         AUTOMATIC  front wheel drive              4.0   \n",
              "\n",
              "                             Market Category Vehicle Size  Vehicle Style  \\\n",
              "0      Factory Tuner,Luxury,High-Performance      Compact          Coupe   \n",
              "1                         Luxury,Performance      Compact    Convertible   \n",
              "2                    Luxury,High-Performance      Compact          Coupe   \n",
              "3                         Luxury,Performance      Compact          Coupe   \n",
              "4                                     Luxury      Compact    Convertible   \n",
              "...                                      ...          ...            ...   \n",
              "11909             Crossover,Hatchback,Luxury      Midsize  4dr Hatchback   \n",
              "11910             Crossover,Hatchback,Luxury      Midsize  4dr Hatchback   \n",
              "11911             Crossover,Hatchback,Luxury      Midsize  4dr Hatchback   \n",
              "11912             Crossover,Hatchback,Luxury      Midsize  4dr Hatchback   \n",
              "11913                                 Luxury      Midsize          Sedan   \n",
              "\n",
              "       highway MPG  city mpg  Popularity   MSRP  \n",
              "0               26        19        3916  46135  \n",
              "1               28        19        3916  40650  \n",
              "2               28        20        3916  36350  \n",
              "3               28        18        3916  29450  \n",
              "4               28        18        3916  34500  \n",
              "...            ...       ...         ...    ...  \n",
              "11909           23        16         204  46120  \n",
              "11910           23        16         204  56670  \n",
              "11911           23        16         204  50620  \n",
              "11912           23        16         204  50920  \n",
              "11913           26        17          61  28995  \n",
              "\n",
              "[11914 rows x 16 columns]"
            ],
            "text/html": [
              "\n",
              "  <div id=\"df-ddd31e79-a910-4cdd-8a32-19273915fce6\">\n",
              "    <div class=\"colab-df-container\">\n",
              "      <div>\n",
              "<style scoped>\n",
              "    .dataframe tbody tr th:only-of-type {\n",
              "        vertical-align: middle;\n",
              "    }\n",
              "\n",
              "    .dataframe tbody tr th {\n",
              "        vertical-align: top;\n",
              "    }\n",
              "\n",
              "    .dataframe thead th {\n",
              "        text-align: right;\n",
              "    }\n",
              "</style>\n",
              "<table border=\"1\" class=\"dataframe\">\n",
              "  <thead>\n",
              "    <tr style=\"text-align: right;\">\n",
              "      <th></th>\n",
              "      <th>Make</th>\n",
              "      <th>Model</th>\n",
              "      <th>Year</th>\n",
              "      <th>Engine Fuel Type</th>\n",
              "      <th>Engine HP</th>\n",
              "      <th>Engine Cylinders</th>\n",
              "      <th>Transmission Type</th>\n",
              "      <th>Driven_Wheels</th>\n",
              "      <th>Number of Doors</th>\n",
              "      <th>Market Category</th>\n",
              "      <th>Vehicle Size</th>\n",
              "      <th>Vehicle Style</th>\n",
              "      <th>highway MPG</th>\n",
              "      <th>city mpg</th>\n",
              "      <th>Popularity</th>\n",
              "      <th>MSRP</th>\n",
              "    </tr>\n",
              "  </thead>\n",
              "  <tbody>\n",
              "    <tr>\n",
              "      <th>0</th>\n",
              "      <td>BMW</td>\n",
              "      <td>1 Series M</td>\n",
              "      <td>2011</td>\n",
              "      <td>premium unleaded (required)</td>\n",
              "      <td>335.0</td>\n",
              "      <td>6.0</td>\n",
              "      <td>MANUAL</td>\n",
              "      <td>rear wheel drive</td>\n",
              "      <td>2.0</td>\n",
              "      <td>Factory Tuner,Luxury,High-Performance</td>\n",
              "      <td>Compact</td>\n",
              "      <td>Coupe</td>\n",
              "      <td>26</td>\n",
              "      <td>19</td>\n",
              "      <td>3916</td>\n",
              "      <td>46135</td>\n",
              "    </tr>\n",
              "    <tr>\n",
              "      <th>1</th>\n",
              "      <td>BMW</td>\n",
              "      <td>1 Series</td>\n",
              "      <td>2011</td>\n",
              "      <td>premium unleaded (required)</td>\n",
              "      <td>300.0</td>\n",
              "      <td>6.0</td>\n",
              "      <td>MANUAL</td>\n",
              "      <td>rear wheel drive</td>\n",
              "      <td>2.0</td>\n",
              "      <td>Luxury,Performance</td>\n",
              "      <td>Compact</td>\n",
              "      <td>Convertible</td>\n",
              "      <td>28</td>\n",
              "      <td>19</td>\n",
              "      <td>3916</td>\n",
              "      <td>40650</td>\n",
              "    </tr>\n",
              "    <tr>\n",
              "      <th>2</th>\n",
              "      <td>BMW</td>\n",
              "      <td>1 Series</td>\n",
              "      <td>2011</td>\n",
              "      <td>premium unleaded (required)</td>\n",
              "      <td>300.0</td>\n",
              "      <td>6.0</td>\n",
              "      <td>MANUAL</td>\n",
              "      <td>rear wheel drive</td>\n",
              "      <td>2.0</td>\n",
              "      <td>Luxury,High-Performance</td>\n",
              "      <td>Compact</td>\n",
              "      <td>Coupe</td>\n",
              "      <td>28</td>\n",
              "      <td>20</td>\n",
              "      <td>3916</td>\n",
              "      <td>36350</td>\n",
              "    </tr>\n",
              "    <tr>\n",
              "      <th>3</th>\n",
              "      <td>BMW</td>\n",
              "      <td>1 Series</td>\n",
              "      <td>2011</td>\n",
              "      <td>premium unleaded (required)</td>\n",
              "      <td>230.0</td>\n",
              "      <td>6.0</td>\n",
              "      <td>MANUAL</td>\n",
              "      <td>rear wheel drive</td>\n",
              "      <td>2.0</td>\n",
              "      <td>Luxury,Performance</td>\n",
              "      <td>Compact</td>\n",
              "      <td>Coupe</td>\n",
              "      <td>28</td>\n",
              "      <td>18</td>\n",
              "      <td>3916</td>\n",
              "      <td>29450</td>\n",
              "    </tr>\n",
              "    <tr>\n",
              "      <th>4</th>\n",
              "      <td>BMW</td>\n",
              "      <td>1 Series</td>\n",
              "      <td>2011</td>\n",
              "      <td>premium unleaded (required)</td>\n",
              "      <td>230.0</td>\n",
              "      <td>6.0</td>\n",
              "      <td>MANUAL</td>\n",
              "      <td>rear wheel drive</td>\n",
              "      <td>2.0</td>\n",
              "      <td>Luxury</td>\n",
              "      <td>Compact</td>\n",
              "      <td>Convertible</td>\n",
              "      <td>28</td>\n",
              "      <td>18</td>\n",
              "      <td>3916</td>\n",
              "      <td>34500</td>\n",
              "    </tr>\n",
              "    <tr>\n",
              "      <th>...</th>\n",
              "      <td>...</td>\n",
              "      <td>...</td>\n",
              "      <td>...</td>\n",
              "      <td>...</td>\n",
              "      <td>...</td>\n",
              "      <td>...</td>\n",
              "      <td>...</td>\n",
              "      <td>...</td>\n",
              "      <td>...</td>\n",
              "      <td>...</td>\n",
              "      <td>...</td>\n",
              "      <td>...</td>\n",
              "      <td>...</td>\n",
              "      <td>...</td>\n",
              "      <td>...</td>\n",
              "      <td>...</td>\n",
              "    </tr>\n",
              "    <tr>\n",
              "      <th>11909</th>\n",
              "      <td>Acura</td>\n",
              "      <td>ZDX</td>\n",
              "      <td>2012</td>\n",
              "      <td>premium unleaded (required)</td>\n",
              "      <td>300.0</td>\n",
              "      <td>6.0</td>\n",
              "      <td>AUTOMATIC</td>\n",
              "      <td>all wheel drive</td>\n",
              "      <td>4.0</td>\n",
              "      <td>Crossover,Hatchback,Luxury</td>\n",
              "      <td>Midsize</td>\n",
              "      <td>4dr Hatchback</td>\n",
              "      <td>23</td>\n",
              "      <td>16</td>\n",
              "      <td>204</td>\n",
              "      <td>46120</td>\n",
              "    </tr>\n",
              "    <tr>\n",
              "      <th>11910</th>\n",
              "      <td>Acura</td>\n",
              "      <td>ZDX</td>\n",
              "      <td>2012</td>\n",
              "      <td>premium unleaded (required)</td>\n",
              "      <td>300.0</td>\n",
              "      <td>6.0</td>\n",
              "      <td>AUTOMATIC</td>\n",
              "      <td>all wheel drive</td>\n",
              "      <td>4.0</td>\n",
              "      <td>Crossover,Hatchback,Luxury</td>\n",
              "      <td>Midsize</td>\n",
              "      <td>4dr Hatchback</td>\n",
              "      <td>23</td>\n",
              "      <td>16</td>\n",
              "      <td>204</td>\n",
              "      <td>56670</td>\n",
              "    </tr>\n",
              "    <tr>\n",
              "      <th>11911</th>\n",
              "      <td>Acura</td>\n",
              "      <td>ZDX</td>\n",
              "      <td>2012</td>\n",
              "      <td>premium unleaded (required)</td>\n",
              "      <td>300.0</td>\n",
              "      <td>6.0</td>\n",
              "      <td>AUTOMATIC</td>\n",
              "      <td>all wheel drive</td>\n",
              "      <td>4.0</td>\n",
              "      <td>Crossover,Hatchback,Luxury</td>\n",
              "      <td>Midsize</td>\n",
              "      <td>4dr Hatchback</td>\n",
              "      <td>23</td>\n",
              "      <td>16</td>\n",
              "      <td>204</td>\n",
              "      <td>50620</td>\n",
              "    </tr>\n",
              "    <tr>\n",
              "      <th>11912</th>\n",
              "      <td>Acura</td>\n",
              "      <td>ZDX</td>\n",
              "      <td>2013</td>\n",
              "      <td>premium unleaded (recommended)</td>\n",
              "      <td>300.0</td>\n",
              "      <td>6.0</td>\n",
              "      <td>AUTOMATIC</td>\n",
              "      <td>all wheel drive</td>\n",
              "      <td>4.0</td>\n",
              "      <td>Crossover,Hatchback,Luxury</td>\n",
              "      <td>Midsize</td>\n",
              "      <td>4dr Hatchback</td>\n",
              "      <td>23</td>\n",
              "      <td>16</td>\n",
              "      <td>204</td>\n",
              "      <td>50920</td>\n",
              "    </tr>\n",
              "    <tr>\n",
              "      <th>11913</th>\n",
              "      <td>Lincoln</td>\n",
              "      <td>Zephyr</td>\n",
              "      <td>2006</td>\n",
              "      <td>regular unleaded</td>\n",
              "      <td>221.0</td>\n",
              "      <td>6.0</td>\n",
              "      <td>AUTOMATIC</td>\n",
              "      <td>front wheel drive</td>\n",
              "      <td>4.0</td>\n",
              "      <td>Luxury</td>\n",
              "      <td>Midsize</td>\n",
              "      <td>Sedan</td>\n",
              "      <td>26</td>\n",
              "      <td>17</td>\n",
              "      <td>61</td>\n",
              "      <td>28995</td>\n",
              "    </tr>\n",
              "  </tbody>\n",
              "</table>\n",
              "<p>11914 rows × 16 columns</p>\n",
              "</div>\n",
              "      <button class=\"colab-df-convert\" onclick=\"convertToInteractive('df-ddd31e79-a910-4cdd-8a32-19273915fce6')\"\n",
              "              title=\"Convert this dataframe to an interactive table.\"\n",
              "              style=\"display:none;\">\n",
              "        \n",
              "  <svg xmlns=\"http://www.w3.org/2000/svg\" height=\"24px\"viewBox=\"0 0 24 24\"\n",
              "       width=\"24px\">\n",
              "    <path d=\"M0 0h24v24H0V0z\" fill=\"none\"/>\n",
              "    <path d=\"M18.56 5.44l.94 2.06.94-2.06 2.06-.94-2.06-.94-.94-2.06-.94 2.06-2.06.94zm-11 1L8.5 8.5l.94-2.06 2.06-.94-2.06-.94L8.5 2.5l-.94 2.06-2.06.94zm10 10l.94 2.06.94-2.06 2.06-.94-2.06-.94-.94-2.06-.94 2.06-2.06.94z\"/><path d=\"M17.41 7.96l-1.37-1.37c-.4-.4-.92-.59-1.43-.59-.52 0-1.04.2-1.43.59L10.3 9.45l-7.72 7.72c-.78.78-.78 2.05 0 2.83L4 21.41c.39.39.9.59 1.41.59.51 0 1.02-.2 1.41-.59l7.78-7.78 2.81-2.81c.8-.78.8-2.07 0-2.86zM5.41 20L4 18.59l7.72-7.72 1.47 1.35L5.41 20z\"/>\n",
              "  </svg>\n",
              "      </button>\n",
              "      \n",
              "  <style>\n",
              "    .colab-df-container {\n",
              "      display:flex;\n",
              "      flex-wrap:wrap;\n",
              "      gap: 12px;\n",
              "    }\n",
              "\n",
              "    .colab-df-convert {\n",
              "      background-color: #E8F0FE;\n",
              "      border: none;\n",
              "      border-radius: 50%;\n",
              "      cursor: pointer;\n",
              "      display: none;\n",
              "      fill: #1967D2;\n",
              "      height: 32px;\n",
              "      padding: 0 0 0 0;\n",
              "      width: 32px;\n",
              "    }\n",
              "\n",
              "    .colab-df-convert:hover {\n",
              "      background-color: #E2EBFA;\n",
              "      box-shadow: 0px 1px 2px rgba(60, 64, 67, 0.3), 0px 1px 3px 1px rgba(60, 64, 67, 0.15);\n",
              "      fill: #174EA6;\n",
              "    }\n",
              "\n",
              "    [theme=dark] .colab-df-convert {\n",
              "      background-color: #3B4455;\n",
              "      fill: #D2E3FC;\n",
              "    }\n",
              "\n",
              "    [theme=dark] .colab-df-convert:hover {\n",
              "      background-color: #434B5C;\n",
              "      box-shadow: 0px 1px 3px 1px rgba(0, 0, 0, 0.15);\n",
              "      filter: drop-shadow(0px 1px 2px rgba(0, 0, 0, 0.3));\n",
              "      fill: #FFFFFF;\n",
              "    }\n",
              "  </style>\n",
              "\n",
              "      <script>\n",
              "        const buttonEl =\n",
              "          document.querySelector('#df-ddd31e79-a910-4cdd-8a32-19273915fce6 button.colab-df-convert');\n",
              "        buttonEl.style.display =\n",
              "          google.colab.kernel.accessAllowed ? 'block' : 'none';\n",
              "\n",
              "        async function convertToInteractive(key) {\n",
              "          const element = document.querySelector('#df-ddd31e79-a910-4cdd-8a32-19273915fce6');\n",
              "          const dataTable =\n",
              "            await google.colab.kernel.invokeFunction('convertToInteractive',\n",
              "                                                     [key], {});\n",
              "          if (!dataTable) return;\n",
              "\n",
              "          const docLinkHtml = 'Like what you see? Visit the ' +\n",
              "            '<a target=\"_blank\" href=https://colab.research.google.com/notebooks/data_table.ipynb>data table notebook</a>'\n",
              "            + ' to learn more about interactive tables.';\n",
              "          element.innerHTML = '';\n",
              "          dataTable['output_type'] = 'display_data';\n",
              "          await google.colab.output.renderOutput(dataTable, element);\n",
              "          const docLink = document.createElement('div');\n",
              "          docLink.innerHTML = docLinkHtml;\n",
              "          element.appendChild(docLink);\n",
              "        }\n",
              "      </script>\n",
              "    </div>\n",
              "  </div>\n",
              "  "
            ]
          },
          "metadata": {},
          "execution_count": 67
        }
      ]
    },
    {
      "cell_type": "code",
      "source": [
        "df.msrp.max()"
      ],
      "metadata": {
        "colab": {
          "base_uri": "https://localhost:8080/"
        },
        "id": "WyHYGT1AKism",
        "outputId": "d06fe13f-4fd8-44ff-9f38-4c77bee85a12"
      },
      "execution_count": 49,
      "outputs": [
        {
          "output_type": "execute_result",
          "data": {
            "text/plain": [
              "2065902"
            ]
          },
          "metadata": {},
          "execution_count": 49
        }
      ]
    },
    {
      "cell_type": "markdown",
      "metadata": {
        "id": "H9ojfWLBG1ib"
      },
      "source": [
        "## Exploratory data analysis"
      ]
    },
    {
      "cell_type": "code",
      "execution_count": 9,
      "metadata": {
        "colab": {
          "base_uri": "https://localhost:8080/",
          "height": 295
        },
        "id": "zewBv5tMG1io",
        "outputId": "1369f249-ecec-4ca9-e452-dbf8f2464f64"
      },
      "outputs": [
        {
          "output_type": "display_data",
          "data": {
            "text/plain": [
              "<Figure size 432x288 with 1 Axes>"
            ],
            "image/png": "[encoded data removed]"
          },
          "metadata": {
            "needs_background": "light"
          }
        }
      ],
      "source": [
        "plt.figure(figsize=(6, 4))\n",
        "\n",
        "sns.histplot(df.msrp, bins=40, color='black', alpha=1)\n",
        "plt.ylabel('Frequency')\n",
        "plt.xlabel('Price')\n",
        "plt.title('Distribution of prices')\n",
        "\n",
        "plt.show()"
      ]
    },
    {
      "cell_type": "code",
      "execution_count": 10,
      "metadata": {
        "colab": {
          "base_uri": "https://localhost:8080/",
          "height": 295
        },
        "id": "qRT4_ObzG1ip",
        "outputId": "b1107a4c-4c61-4a92-adcb-ee83c992173a"
      },
      "outputs": [
        {
          "output_type": "display_data",
          "data": {
            "text/plain": [
              "<Figure size 432x288 with 1 Axes>"
            ],
            "image/png": "[encoded data removed]"
          },
          "metadata": {
            "needs_background": "light"
          }
        }
      ],
      "source": [
        "plt.figure(figsize=(6, 4))\n",
        "\n",
        "sns.histplot(df.msrp[df.msrp < 100000], bins=40, color='black', alpha=1)\n",
        "plt.ylabel('Frequency')\n",
        "plt.xlabel('Price')\n",
        "plt.title('Distribution of prices')\n",
        "\n",
        "plt.show()"
      ]
    },
    {
      "cell_type": "code",
      "execution_count": 11,
      "metadata": {
        "colab": {
          "base_uri": "https://localhost:8080/",
          "height": 295
        },
        "id": "DEa6KU63G1ir",
        "outputId": "1efe5383-60e7-4feb-9652-a153d2abfe9f"
      },
      "outputs": [
        {
          "output_type": "display_data",
          "data": {
            "text/plain": [
              "<Figure size 432x288 with 1 Axes>"
            ],
            "image/png": "[encoded data removed]"
          },
          "metadata": {
            "needs_background": "light"
          }
        }
      ],
      "source": [
        "log_price = np.log1p(df.msrp)\n",
        "\n",
        "plt.figure(figsize=(6, 4))\n",
        "\n",
        "sns.histplot(log_price, bins=40, color='black', alpha=1)\n",
        "plt.ylabel('Frequency')\n",
        "plt.xlabel('Log(Price + 1)')\n",
        "plt.title('Distribution of prices after log tranformation')\n",
        "\n",
        "plt.show()"
      ]
    },
    {
      "cell_type": "code",
      "execution_count": null,
      "metadata": {
        "id": "LhHsj0qlG1it",
        "outputId": "8677a479-cebe-4bc1-c55f-ab84cad2a3f7"
      },
      "outputs": [
        {
          "data": {
            "text/plain": [
              "make                    0\n",
              "model                   0\n",
              "year                    0\n",
              "engine_fuel_type        3\n",
              "engine_hp              69\n",
              "engine_cylinders       30\n",
              "transmission_type       0\n",
              "driven_wheels           0\n",
              "number_of_doors         6\n",
              "market_category      3742\n",
              "vehicle_size            0\n",
              "vehicle_style           0\n",
              "highway_mpg             0\n",
              "city_mpg                0\n",
              "popularity              0\n",
              "msrp                    0\n",
              "dtype: int64"
            ]
          },
          "execution_count": 9,
          "metadata": {},
          "output_type": "execute_result"
        }
      ],
      "source": [
        "df.isnull().sum()"
      ]
    },
    {
      "cell_type": "markdown",
      "metadata": {
        "id": "1jsI-3MvG1iu"
      },
      "source": [
        "## Validation framework"
      ]
    },
    {
      "cell_type": "code",
      "execution_count": 12,
      "metadata": {
        "id": "as7geOSpG1iv"
      },
      "outputs": [],
      "source": [
        "np.random.seed(2)\n",
        "\n",
        "n = len(df)\n",
        "\n",
        "n_val = int(0.2 * n)\n",
        "n_test = int(0.2 * n)\n",
        "n_train = n - (n_val + n_test)\n",
        "\n",
        "idx = np.arange(n)\n",
        "np.random.shuffle(idx)\n",
        "\n",
        "df_shuffled = df.iloc[idx]\n",
        "\n",
        "df_train = df_shuffled.iloc[:n_train].copy()\n",
        "df_val = df_shuffled.iloc[n_train:n_train+n_val].copy()\n",
        "df_test = df_shuffled.iloc[n_train+n_val:].copy()"
      ]
    },
    {
      "cell_type": "code",
      "execution_count": 14,
      "metadata": {
        "id": "dfBU7rdOG1iw"
      },
      "outputs": [],
      "source": [
        "y_train_orig = df_train.msrp.values\n",
        "y_val_orig = df_val.msrp.values\n",
        "y_test_orig = df_test.msrp.values\n",
        "\n",
        "y_train = np.log1p(df_train.msrp.values)\n",
        "y_val = np.log1p(df_val.msrp.values)\n",
        "y_test = np.log1p(df_test.msrp.values)\n",
        "\n",
        "del df_train['msrp']\n",
        "del df_val['msrp']\n",
        "del df_test['msrp']"
      ]
    },
    {
      "cell_type": "markdown",
      "metadata": {
        "id": "qFNJmuC2G1iz"
      },
      "source": [
        "## Linear Regression"
      ]
    },
    {
      "cell_type": "code",
      "execution_count": 13,
      "metadata": {
        "id": "3dRH2dUIG1iz"
      },
      "outputs": [],
      "source": [
        "def train_linear_regression(X, y):\n",
        "    ones = np.ones(X.shape[0])\n",
        "    X = np.column_stack([ones, X])\n",
        "\n",
        "    XTX = X.T.dot(X)\n",
        "    XTX_inv = np.linalg.inv(XTX)\n",
        "    w = XTX_inv.dot(X.T).dot(y)\n",
        "    \n",
        "    return w[0], w[1:]"
      ]
    },
    {
      "cell_type": "markdown",
      "metadata": {
        "id": "9J44T0O7G1i0"
      },
      "source": [
        "## Baseline solution"
      ]
    },
    {
      "cell_type": "code",
      "execution_count": 15,
      "metadata": {
        "id": "L9FLATGCG1i1"
      },
      "outputs": [],
      "source": [
        "base = ['engine_hp', 'engine_cylinders', 'highway_mpg', 'city_mpg', 'popularity']"
      ]
    },
    {
      "cell_type": "code",
      "execution_count": null,
      "metadata": {
        "id": "QmZki6TUG1i1"
      },
      "outputs": [],
      "source": [
        "def prepare_X(df):\n",
        "    df_num = df[base]\n",
        "    df_num = df_num.fillna(0)\n",
        "    X = df_num.values\n",
        "    return X"
      ]
    },
    {
      "cell_type": "code",
      "execution_count": null,
      "metadata": {
        "id": "WoumjKVqG1i2"
      },
      "outputs": [],
      "source": [
        "X_train = prepare_X(df_train)\n",
        "w_0, w = train_linear_regression(X_train, y_train)"
      ]
    },
    {
      "cell_type": "code",
      "execution_count": null,
      "metadata": {
        "id": "EXSPWl4HG1i2"
      },
      "outputs": [],
      "source": [
        "y_pred = w_0 + X_train.dot(w)"
      ]
    },
    {
      "cell_type": "code",
      "execution_count": null,
      "metadata": {
        "id": "ij9b9sN9G1i3",
        "outputId": "53fd81c0-8f96-4bb4-86c5-6f2f4b690dc6"
      },
      "outputs": [
        {
          "data": {
            "image/png": "[encoded data removed]",
            "text/plain": [
              "<Figure size 432x288 with 1 Axes>"
            ]
          },
          "metadata": {
            "needs_background": "light"
          },
          "output_type": "display_data"
        }
      ],
      "source": [
        "plt.figure(figsize=(6, 4))\n",
        "\n",
        "sns.histplot(y_train, label='target', color='#222222', alpha=0.6, bins=40)\n",
        "sns.histplot(y_pred, label='prediction', color='#aaaaaa', alpha=0.8, bins=40)\n",
        "\n",
        "plt.legend()\n",
        "\n",
        "plt.ylabel('Frequency')\n",
        "plt.xlabel('Log(Price + 1)')\n",
        "plt.title('Predictions vs actual distribution')\n",
        "\n",
        "plt.show()"
      ]
    },
    {
      "cell_type": "code",
      "execution_count": null,
      "metadata": {
        "id": "UAI5CzpOG1i4"
      },
      "outputs": [],
      "source": [
        "def rmse(y, y_pred):\n",
        "    error = y_pred - y\n",
        "    mse = (error ** 2).mean()\n",
        "    return np.sqrt(mse)"
      ]
    },
    {
      "cell_type": "code",
      "execution_count": null,
      "metadata": {
        "id": "gCdoMswoG1i4",
        "outputId": "88c5ad16-df22-4b77-9293-b173a66f5df4"
      },
      "outputs": [
        {
          "data": {
            "text/plain": [
              "0.7554192603920132"
            ]
          },
          "execution_count": 19,
          "metadata": {},
          "output_type": "execute_result"
        }
      ],
      "source": [
        "rmse(y_train, y_pred)"
      ]
    },
    {
      "cell_type": "code",
      "execution_count": null,
      "metadata": {
        "id": "_qIfZ3L6G1i5"
      },
      "outputs": [],
      "source": [
        "X_val = prepare_X(df_val)\n",
        "y_pred = w_0 + X_val.dot(w)"
      ]
    },
    {
      "cell_type": "code",
      "execution_count": null,
      "metadata": {
        "scrolled": true,
        "id": "ZMVC_A-BG1i6",
        "outputId": "f3641500-50fc-4089-92f6-68970173627f"
      },
      "outputs": [
        {
          "data": {
            "text/plain": [
              "0.7616530991301601"
            ]
          },
          "execution_count": 21,
          "metadata": {},
          "output_type": "execute_result"
        }
      ],
      "source": [
        "rmse(y_val, y_pred)"
      ]
    },
    {
      "cell_type": "markdown",
      "metadata": {
        "id": "Nzs0bAIbG1i6"
      },
      "source": [
        "## Simple feature engineering"
      ]
    },
    {
      "cell_type": "code",
      "execution_count": null,
      "metadata": {
        "id": "c5Jr0d0PG1i6"
      },
      "outputs": [],
      "source": [
        "def prepare_X(df):\n",
        "    df = df.copy()\n",
        "    features = base.copy()\n",
        "\n",
        "    df['age'] = 2017 - df.year\n",
        "    features.append('age')\n",
        "\n",
        "    df_num = df[features]\n",
        "    df_num = df_num.fillna(0)\n",
        "    X = df_num.values\n",
        "    return X"
      ]
    },
    {
      "cell_type": "code",
      "execution_count": null,
      "metadata": {
        "id": "oee8vd8hG1i7",
        "outputId": "ccc2b20a-0460-4393-90d7-8f1e59d84077"
      },
      "outputs": [
        {
          "name": "stdout",
          "output_type": "stream",
          "text": [
            "train 0.5175055465840046\n",
            "validation 0.5172055461058335\n"
          ]
        }
      ],
      "source": [
        "X_train = prepare_X(df_train)\n",
        "w_0, w = train_linear_regression(X_train, y_train)\n",
        "\n",
        "y_pred = w_0 + X_train.dot(w)\n",
        "print('train', rmse(y_train, y_pred))\n",
        "\n",
        "X_val = prepare_X(df_val)\n",
        "y_pred = w_0 + X_val.dot(w)\n",
        "print('validation', rmse(y_val, y_pred))"
      ]
    },
    {
      "cell_type": "code",
      "execution_count": null,
      "metadata": {
        "id": "M_Y3ETIuG1i7",
        "outputId": "1d04612f-e864-4c29-f968-67942c059825"
      },
      "outputs": [
        {
          "data": {
            "image/png": "[encoded data removed]",
            "text/plain": [
              "<Figure size 432x288 with 1 Axes>"
            ]
          },
          "metadata": {
            "needs_background": "light"
          },
          "output_type": "display_data"
        }
      ],
      "source": [
        "plt.figure(figsize=(6, 4))\n",
        "\n",
        "\n",
        "sns.histplot(y_val, label='target', color='#222222', alpha=0.6, bins=40)\n",
        "sns.histplot(y_pred, label='prediction', color='#aaaaaa', alpha=0.8, bins=40)\n",
        "\n",
        "plt.legend()\n",
        "\n",
        "plt.ylabel('Frequency')\n",
        "plt.xlabel('Log(Price + 1)')\n",
        "plt.title('Predictions vs actual distribution')\n",
        "\n",
        "plt.show()"
      ]
    },
    {
      "cell_type": "code",
      "execution_count": null,
      "metadata": {
        "id": "p1c9SgE9G1i8",
        "outputId": "faba3733-3538-45c7-9b16-105431f46699"
      },
      "outputs": [
        {
          "data": {
            "text/plain": [
              "chevrolet     1123\n",
              "ford           881\n",
              "volkswagen     809\n",
              "toyota         746\n",
              "dodge          626\n",
              "Name: make, dtype: int64"
            ]
          },
          "execution_count": 25,
          "metadata": {},
          "output_type": "execute_result"
        }
      ],
      "source": [
        "df['make'].value_counts().head(5)"
      ]
    },
    {
      "cell_type": "code",
      "execution_count": null,
      "metadata": {
        "id": "PFKCTIUAG1i8"
      },
      "outputs": [],
      "source": [
        "def prepare_X(df):\n",
        "    df = df.copy()\n",
        "    features = base.copy()\n",
        "\n",
        "    df['age'] = 2017 - df.year\n",
        "    features.append('age')\n",
        "\n",
        "    for v in [2, 3, 4]:\n",
        "        feature = 'num_doors_%s' % v\n",
        "        df[feature] = (df['number_of_doors'] == v).astype(int)\n",
        "        features.append(feature)\n",
        "\n",
        "    for v in ['chevrolet', 'ford', 'volkswagen', 'toyota', 'dodge']:\n",
        "        feature = 'is_make_%s' % v\n",
        "        df[feature] = (df['make'] == v).astype(int)\n",
        "        features.append(feature)\n",
        "\n",
        "    df_num = df[features]\n",
        "    df_num = df_num.fillna(0)\n",
        "    X = df_num.values\n",
        "    return X"
      ]
    },
    {
      "cell_type": "code",
      "execution_count": null,
      "metadata": {
        "id": "O-jDs2PmG1i9",
        "outputId": "79cc5df0-d573-4b19-b3c7-203bcb3d00a6"
      },
      "outputs": [
        {
          "name": "stdout",
          "output_type": "stream",
          "text": [
            "train: 0.5058876515487503\n",
            "validation: 0.5076038849557035\n"
          ]
        }
      ],
      "source": [
        "X_train = prepare_X(df_train)\n",
        "w_0, w = train_linear_regression(X_train, y_train)\n",
        "\n",
        "y_pred = w_0 + X_train.dot(w)\n",
        "print('train:', rmse(y_train, y_pred))\n",
        "\n",
        "X_val = prepare_X(df_val)\n",
        "y_pred = w_0 + X_val.dot(w)\n",
        "print('validation:', rmse(y_val, y_pred))"
      ]
    },
    {
      "cell_type": "code",
      "execution_count": null,
      "metadata": {
        "id": "IkEj4bePG1i_",
        "outputId": "b5be96d9-cf61-4944-fc17-7d3b8af34aa8"
      },
      "outputs": [
        {
          "data": {
            "text/plain": [
              "regular_unleaded                                7172\n",
              "premium_unleaded_(required)                     2009\n",
              "premium_unleaded_(recommended)                  1523\n",
              "flex-fuel_(unleaded/e85)                         899\n",
              "diesel                                           154\n",
              "electric                                          66\n",
              "flex-fuel_(premium_unleaded_required/e85)         54\n",
              "flex-fuel_(premium_unleaded_recommended/e85)      26\n",
              "flex-fuel_(unleaded/natural_gas)                   6\n",
              "natural_gas                                        2\n",
              "Name: engine_fuel_type, dtype: int64"
            ]
          },
          "execution_count": 28,
          "metadata": {},
          "output_type": "execute_result"
        }
      ],
      "source": [
        "df['engine_fuel_type'].value_counts()"
      ]
    },
    {
      "cell_type": "code",
      "execution_count": null,
      "metadata": {
        "id": "yXVFUk61G1i_"
      },
      "outputs": [],
      "source": [
        "def prepare_X(df):\n",
        "    df = df.copy()\n",
        "    features = base.copy()\n",
        "\n",
        "    df['age'] = 2017 - df.year\n",
        "    features.append('age')\n",
        "    \n",
        "    for v in [2, 3, 4]:\n",
        "        feature = 'num_doors_%s' % v\n",
        "        df[feature] = (df['number_of_doors'] == v).astype(int)\n",
        "        features.append(feature)\n",
        "\n",
        "    for v in ['chevrolet', 'ford', 'volkswagen', 'toyota', 'dodge']:\n",
        "        feature = 'is_make_%s' % v\n",
        "        df[feature] = (df['make'] == v).astype(int)\n",
        "        features.append(feature)\n",
        "\n",
        "    for v in ['regular_unleaded', 'premium_unleaded_(required)', \n",
        "              'premium_unleaded_(recommended)', 'flex-fuel_(unleaded/e85)']:\n",
        "        feature = 'is_type_%s' % v\n",
        "        df[feature] = (df['engine_fuel_type'] == v).astype(int)\n",
        "        features.append(feature)\n",
        "        \n",
        "    df_num = df[features]\n",
        "    df_num = df_num.fillna(0)\n",
        "    X = df_num.values\n",
        "    return X"
      ]
    },
    {
      "cell_type": "code",
      "execution_count": null,
      "metadata": {
        "id": "5r9E9sBPG1jA",
        "outputId": "482a983d-a3df-497c-fe2a-f8b6c8633829"
      },
      "outputs": [
        {
          "name": "stdout",
          "output_type": "stream",
          "text": [
            "train: 0.4788482615078598\n",
            "validation: 0.4748256737227088\n"
          ]
        }
      ],
      "source": [
        "X_train = prepare_X(df_train)\n",
        "w_0, w = train_linear_regression(X_train, y_train)\n",
        "\n",
        "y_pred = w_0 + X_train.dot(w)\n",
        "print('train:', rmse(y_train, y_pred))\n",
        "\n",
        "X_val = prepare_X(df_val)\n",
        "y_pred = w_0 + X_val.dot(w)\n",
        "print('validation:', rmse(y_val, y_pred))"
      ]
    },
    {
      "cell_type": "code",
      "execution_count": null,
      "metadata": {
        "id": "8nNYRn1OG1jB",
        "outputId": "10c9e699-a53c-4a41-9aaa-46c89c05c91e"
      },
      "outputs": [
        {
          "data": {
            "text/plain": [
              "automatic           8266\n",
              "manual              2935\n",
              "automated_manual     626\n",
              "direct_drive          68\n",
              "unknown               19\n",
              "Name: transmission_type, dtype: int64"
            ]
          },
          "execution_count": 31,
          "metadata": {},
          "output_type": "execute_result"
        }
      ],
      "source": [
        "df['transmission_type'].value_counts()"
      ]
    },
    {
      "cell_type": "code",
      "execution_count": null,
      "metadata": {
        "id": "EN7n1mmcG1jC"
      },
      "outputs": [],
      "source": [
        "def prepare_X(df):\n",
        "    df = df.copy()\n",
        "    features = base.copy()\n",
        "\n",
        "    df['age'] = 2017 - df.year\n",
        "    features.append('age')\n",
        "    \n",
        "    for v in [2, 3, 4]:\n",
        "        feature = 'num_doors_%s' % v\n",
        "        df[feature] = (df['number_of_doors'] == v).astype(int)\n",
        "        features.append(feature)\n",
        "\n",
        "    for v in ['chevrolet', 'ford', 'volkswagen', 'toyota', 'dodge']:\n",
        "        feature = 'is_make_%s' % v\n",
        "        df[feature] = (df['make'] == v).astype(int)\n",
        "        features.append(feature)\n",
        "\n",
        "    for v in ['regular_unleaded', 'premium_unleaded_(required)', \n",
        "              'premium_unleaded_(recommended)', 'flex-fuel_(unleaded/e85)']:\n",
        "        feature = 'is_type_%s' % v\n",
        "        df[feature] = (df['engine_fuel_type'] == v).astype(int)\n",
        "        features.append(feature)\n",
        "\n",
        "    for v in ['automatic', 'manual', 'automated_manual']:\n",
        "        feature = 'is_transmission_%s' % v\n",
        "        df[feature] = (df['transmission_type'] == v).astype(int)\n",
        "        features.append(feature)\n",
        "        \n",
        "    df_num = df[features]\n",
        "    df_num = df_num.fillna(0)\n",
        "    X = df_num.values\n",
        "    return X"
      ]
    },
    {
      "cell_type": "code",
      "execution_count": null,
      "metadata": {
        "id": "DxvyXB0JG1jF",
        "outputId": "134f03db-de7b-4554-a021-a5cb341d394c"
      },
      "outputs": [
        {
          "name": "stdout",
          "output_type": "stream",
          "text": [
            "train: 0.4745380510924004\n",
            "validation: 0.4685879194659198\n"
          ]
        }
      ],
      "source": [
        "X_train = prepare_X(df_train)\n",
        "w_0, w = train_linear_regression(X_train, y_train)\n",
        "\n",
        "y_pred = w_0 + X_train.dot(w)\n",
        "print('train:', rmse(y_train, y_pred))\n",
        "\n",
        "X_val = prepare_X(df_val)\n",
        "y_pred = w_0 + X_val.dot(w)\n",
        "print('validation:', rmse(y_val, y_pred))"
      ]
    },
    {
      "cell_type": "code",
      "execution_count": null,
      "metadata": {
        "id": "Y8rrDxEZG1jF",
        "outputId": "ebca4a73-0c1c-4ebb-ca2f-e321ff533f70"
      },
      "outputs": [
        {
          "data": {
            "text/plain": [
              "front_wheel_drive    4787\n",
              "rear_wheel_drive     3371\n",
              "all_wheel_drive      2353\n",
              "four_wheel_drive     1403\n",
              "Name: driven_wheels, dtype: int64"
            ]
          },
          "execution_count": 34,
          "metadata": {},
          "output_type": "execute_result"
        }
      ],
      "source": [
        "df['driven_wheels'].value_counts()"
      ]
    },
    {
      "cell_type": "code",
      "execution_count": null,
      "metadata": {
        "id": "7MxmbxE9G1jG",
        "outputId": "b00071b2-55d1-4638-8bf2-8e23c31b34da"
      },
      "outputs": [
        {
          "data": {
            "text/plain": [
              "crossover             1110\n",
              "flex_fuel              872\n",
              "luxury                 855\n",
              "luxury,performance     673\n",
              "hatchback              641\n",
              "Name: market_category, dtype: int64"
            ]
          },
          "execution_count": 35,
          "metadata": {},
          "output_type": "execute_result"
        }
      ],
      "source": [
        "df['market_category'].value_counts().head(5)"
      ]
    },
    {
      "cell_type": "code",
      "execution_count": null,
      "metadata": {
        "id": "tAQTElTGG1jG",
        "outputId": "845b00aa-bfbc-416f-ec45-49e7ccc3b55a"
      },
      "outputs": [
        {
          "data": {
            "text/plain": [
              "compact    4764\n",
              "midsize    4373\n",
              "large      2777\n",
              "Name: vehicle_size, dtype: int64"
            ]
          },
          "execution_count": 36,
          "metadata": {},
          "output_type": "execute_result"
        }
      ],
      "source": [
        "df['vehicle_size'].value_counts().head(5)"
      ]
    },
    {
      "cell_type": "code",
      "execution_count": null,
      "metadata": {
        "id": "Zb8gs6GrG1jH",
        "outputId": "def20c58-35d2-4f75-995d-59d275b9dfc7"
      },
      "outputs": [
        {
          "data": {
            "text/plain": [
              "sedan            3048\n",
              "4dr_suv          2488\n",
              "coupe            1211\n",
              "convertible       793\n",
              "4dr_hatchback     702\n",
              "Name: vehicle_style, dtype: int64"
            ]
          },
          "execution_count": 37,
          "metadata": {},
          "output_type": "execute_result"
        }
      ],
      "source": [
        "df['vehicle_style'].value_counts().head(5)"
      ]
    },
    {
      "cell_type": "code",
      "execution_count": null,
      "metadata": {
        "id": "PVZiJsj5G1jH"
      },
      "outputs": [],
      "source": [
        "def prepare_X(df):\n",
        "    df = df.copy()\n",
        "    features = base.copy()\n",
        "\n",
        "    df['age'] = 2017 - df.year\n",
        "    features.append('age')\n",
        "    \n",
        "    for v in [2, 3, 4]:\n",
        "        feature = 'num_doors_%s' % v\n",
        "        df[feature] = (df['number_of_doors'] == v).astype(int)\n",
        "        features.append(feature)\n",
        "\n",
        "    for v in ['chevrolet', 'ford', 'volkswagen', 'toyota', 'dodge']:\n",
        "        feature = 'is_make_%s' % v\n",
        "        df[feature] = (df['make'] == v).astype(int)\n",
        "        features.append(feature)\n",
        "\n",
        "    for v in ['regular_unleaded', 'premium_unleaded_(required)', \n",
        "              'premium_unleaded_(recommended)', 'flex-fuel_(unleaded/e85)']:\n",
        "        feature = 'is_type_%s' % v\n",
        "        df[feature] = (df['engine_fuel_type'] == v).astype(int)\n",
        "        features.append(feature)\n",
        "\n",
        "    for v in ['automatic', 'manual', 'automated_manual']:\n",
        "        feature = 'is_transmission_%s' % v\n",
        "        df[feature] = (df['transmission_type'] == v).astype(int)\n",
        "        features.append(feature)\n",
        "\n",
        "    for v in ['front_wheel_drive', 'rear_wheel_drive', 'all_wheel_drive', 'four_wheel_drive']:\n",
        "        feature = 'is_driven_wheens_%s' % v\n",
        "        df[feature] = (df['driven_wheels'] == v).astype(int)\n",
        "        features.append(feature)\n",
        "\n",
        "    for v in ['crossover', 'flex_fuel', 'luxury', 'luxury,performance', 'hatchback']:\n",
        "        feature = 'is_mc_%s' % v\n",
        "        df[feature] = (df['market_category'] == v).astype(int)\n",
        "        features.append(feature)\n",
        "\n",
        "    for v in ['compact', 'midsize', 'large']:\n",
        "        feature = 'is_size_%s' % v\n",
        "        df[feature] = (df['vehicle_size'] == v).astype(int)\n",
        "        features.append(feature)\n",
        "\n",
        "    for v in ['sedan', '4dr_suv', 'coupe', 'convertible', '4dr_hatchback']:\n",
        "        feature = 'is_style_%s' % v\n",
        "        df[feature] = (df['vehicle_style'] == v).astype(int)\n",
        "        features.append(feature)\n",
        "\n",
        "    df_num = df[features]\n",
        "    df_num = df_num.fillna(0)\n",
        "    X = df_num.values\n",
        "    return X"
      ]
    },
    {
      "cell_type": "code",
      "execution_count": null,
      "metadata": {
        "id": "2YLkPQJ2G1jI",
        "outputId": "32fe20e9-3fd5-4321-d21d-33bff5cc2bf3"
      },
      "outputs": [
        {
          "name": "stdout",
          "output_type": "stream",
          "text": [
            "train: 1607.4898641126447\n",
            "validation: 830.8920785817741\n"
          ]
        }
      ],
      "source": [
        "X_train = prepare_X(df_train)\n",
        "w_0, w = train_linear_regression(X_train, y_train)\n",
        "\n",
        "y_pred = w_0 + X_train.dot(w)\n",
        "print('train:', rmse(y_train, y_pred))\n",
        "\n",
        "X_val = prepare_X(df_val)\n",
        "y_pred = w_0 + X_val.dot(w)\n",
        "print('validation:', rmse(y_val, y_pred))"
      ]
    },
    {
      "cell_type": "code",
      "execution_count": null,
      "metadata": {
        "id": "TMGjyWL9G1jI",
        "outputId": "7b920145-aa77-42f7-de13-c3142eb67b4c"
      },
      "outputs": [
        {
          "data": {
            "text/plain": [
              "-6.947006956027172e+17"
            ]
          },
          "execution_count": 40,
          "metadata": {},
          "output_type": "execute_result"
        }
      ],
      "source": [
        "w_0"
      ]
    },
    {
      "cell_type": "markdown",
      "metadata": {
        "id": "m2k7M5LXG1jJ"
      },
      "source": [
        "## Regularization"
      ]
    },
    {
      "cell_type": "code",
      "execution_count": null,
      "metadata": {
        "id": "OeSIxJ31G1jJ"
      },
      "outputs": [],
      "source": [
        "def train_linear_regression_reg(X, y, r=0.0):\n",
        "    ones = np.ones(X.shape[0])\n",
        "    X = np.column_stack([ones, X])\n",
        "\n",
        "    XTX = X.T.dot(X)\n",
        "    reg = r * np.eye(XTX.shape[0])\n",
        "    XTX = XTX + reg\n",
        "\n",
        "    XTX_inv = np.linalg.inv(XTX)\n",
        "    w = XTX_inv.dot(X.T).dot(y)\n",
        "    \n",
        "    return w[0], w[1:]"
      ]
    },
    {
      "cell_type": "code",
      "execution_count": null,
      "metadata": {
        "id": "6oJcpDVMG1jK"
      },
      "outputs": [],
      "source": [
        "X_train = prepare_X(df_train)"
      ]
    },
    {
      "cell_type": "code",
      "execution_count": null,
      "metadata": {
        "id": "mOxruG6tG1jK",
        "outputId": "a39886f9-1598-4254-e12a-a4e608c59950"
      },
      "outputs": [
        {
          "name": "stdout",
          "output_type": "stream",
          "text": [
            "    0, -694700695602717184.00, 278.96, 694700695602667008.00\n",
            "0.001, 7.19, -0.10, 1.81\n",
            " 0.01, 7.18, -0.10, 1.81\n",
            "  0.1, 7.05, -0.10, 1.78\n",
            "    1, 6.22, -0.10, 1.56\n",
            "   10, 4.39, -0.09, 1.08\n"
          ]
        }
      ],
      "source": [
        "for r in [0, 0.001, 0.01, 0.1, 1, 10]:\n",
        "    w_0, w = train_linear_regression_reg(X_train, y_train, r=r)\n",
        "    print('%5s, %.2f, %.2f, %.2f' % (r, w_0, w[13], w[21]))"
      ]
    },
    {
      "cell_type": "code",
      "execution_count": null,
      "metadata": {
        "id": "DTFHna2_G1jK",
        "outputId": "2ea42123-c531-4b38-c808-70f5d8ae41d7"
      },
      "outputs": [
        {
          "name": "stdout",
          "output_type": "stream",
          "text": [
            "train 1607.4898641126447\n",
            "val 830.8920785817741\n"
          ]
        }
      ],
      "source": [
        "X_train = prepare_X(df_train)\n",
        "w_0, w = train_linear_regression_reg(X_train, y_train, r=0)\n",
        "\n",
        "y_pred = w_0 + X_train.dot(w)\n",
        "print('train', rmse(y_train, y_pred))\n",
        "\n",
        "X_val = prepare_X(df_val)\n",
        "y_pred = w_0 + X_val.dot(w)\n",
        "print('val', rmse(y_val, y_pred))"
      ]
    },
    {
      "cell_type": "code",
      "execution_count": null,
      "metadata": {
        "id": "iyD6tSkWG1jL",
        "outputId": "c05794c8-3288-4d07-c557-7161fdc5140b"
      },
      "outputs": [
        {
          "name": "stdout",
          "output_type": "stream",
          "text": [
            "train 0.46431248945738135\n",
            "val 0.46023949632611183\n"
          ]
        }
      ],
      "source": [
        "X_train = prepare_X(df_train)\n",
        "w_0, w = train_linear_regression_reg(X_train, y_train, r=0.01)\n",
        "\n",
        "y_pred = w_0 + X_train.dot(w)\n",
        "print('train', rmse(y_train, y_pred))\n",
        "\n",
        "X_val = prepare_X(df_val)\n",
        "y_pred = w_0 + X_val.dot(w)\n",
        "print('val', rmse(y_val, y_pred))"
      ]
    },
    {
      "cell_type": "code",
      "execution_count": null,
      "metadata": {
        "id": "DfpbQjgLG1jL",
        "outputId": "51a2d1e6-93c6-4c56-d6cf-56ebea0a0e7a"
      },
      "outputs": [
        {
          "name": "stdout",
          "output_type": "stream",
          "text": [
            " 1e-06 0.4602255729429437\n",
            "0.0001 0.4602254945347706\n",
            " 0.001 0.46022676266043516\n",
            "  0.01 0.46023949632611183\n",
            "   0.1 0.46037006958137333\n",
            "     1 0.46182980426538955\n",
            "     5 0.46840796275338076\n",
            "    10 0.4757248100693528\n"
          ]
        }
      ],
      "source": [
        "X_train = prepare_X(df_train)\n",
        "X_val = prepare_X(df_val)\n",
        "\n",
        "for r in [0.000001, 0.0001, 0.001, 0.01, 0.1, 1, 5, 10]:\n",
        "    w_0, w = train_linear_regression_reg(X_train, y_train, r=r)\n",
        "    y_pred = w_0 + X_val.dot(w)\n",
        "    print('%6s' %r, rmse(y_val, y_pred))"
      ]
    },
    {
      "cell_type": "code",
      "execution_count": null,
      "metadata": {
        "id": "-2VdXdkbG1jM",
        "outputId": "b2a4e0f3-b604-4b7d-e583-551dc1e2017c"
      },
      "outputs": [
        {
          "name": "stdout",
          "output_type": "stream",
          "text": [
            "validation: 0.46023949632611183\n",
            "test: 0.4571813679692604\n"
          ]
        }
      ],
      "source": [
        "X_train = prepare_X(df_train)\n",
        "w_0, w = train_linear_regression_reg(X_train, y_train, r=0.01)\n",
        "\n",
        "X_val = prepare_X(df_val)\n",
        "y_pred = w_0 + X_val.dot(w)\n",
        "print('validation:', rmse(y_val, y_pred))\n",
        "\n",
        "X_test = prepare_X(df_test)\n",
        "y_pred = w_0 + X_test.dot(w)\n",
        "print('test:', rmse(y_test, y_pred))"
      ]
    },
    {
      "cell_type": "markdown",
      "metadata": {
        "id": "KOC1lsuhG1jM"
      },
      "source": [
        "## Using the model"
      ]
    },
    {
      "cell_type": "code",
      "execution_count": null,
      "metadata": {
        "id": "z3gyd2LcG1jN",
        "outputId": "146f37e6-6c94-4423-ff0d-a6688b0ff621"
      },
      "outputs": [
        {
          "data": {
            "text/plain": [
              "{'make': 'toyota',\n",
              " 'model': 'venza',\n",
              " 'year': 2013,\n",
              " 'engine_fuel_type': 'regular_unleaded',\n",
              " 'engine_hp': 268.0,\n",
              " 'engine_cylinders': 6.0,\n",
              " 'transmission_type': 'automatic',\n",
              " 'driven_wheels': 'all_wheel_drive',\n",
              " 'number_of_doors': 4.0,\n",
              " 'market_category': 'crossover,performance',\n",
              " 'vehicle_size': 'midsize',\n",
              " 'vehicle_style': 'wagon',\n",
              " 'highway_mpg': 25,\n",
              " 'city_mpg': 18,\n",
              " 'popularity': 2031}"
            ]
          },
          "execution_count": 48,
          "metadata": {},
          "output_type": "execute_result"
        }
      ],
      "source": [
        "i = 2\n",
        "ad = df_test.iloc[i].to_dict()\n",
        "ad"
      ]
    },
    {
      "cell_type": "code",
      "execution_count": null,
      "metadata": {
        "id": "Dk-Dk8srG1jN",
        "outputId": "75008467-a522-47d0-ea0d-8dc0c1e700b7"
      },
      "outputs": [
        {
          "data": {
            "text/plain": [
              "28294.135912260714"
            ]
          },
          "execution_count": 49,
          "metadata": {},
          "output_type": "execute_result"
        }
      ],
      "source": [
        "X_test = prepare_X(pd.DataFrame([ad]))[0]\n",
        "y_pred = w_0 + X_test.dot(w)\n",
        "suggestion = np.expm1(y_pred)\n",
        "suggestion"
      ]
    },
    {
      "cell_type": "code",
      "execution_count": null,
      "metadata": {
        "id": "v6pI8H5wG1jO"
      },
      "outputs": [],
      "source": []
    },
    {
      "cell_type": "code",
      "execution_count": null,
      "metadata": {
        "id": "T4cfKG63G1jO"
      },
      "outputs": [],
      "source": []
    }
  ],
  "metadata": {
    "anaconda-cloud": {},
    "kernelspec": {
      "display_name": "Python 3",
      "language": "python",
      "name": "python3"
    },
    "language_info": {
      "codemirror_mode": {
        "name": "ipython",
        "version": 3
      },
      "file_extension": ".py",
      "mimetype": "text/x-python",
      "name": "python",
      "nbconvert_exporter": "python",
      "pygments_lexer": "ipython3",
      "version": "3.8.8"
    },
    "colab": {
      "provenance": [],
      "include_colab_link": true
    }
  },
  "nbformat": 4,
  "nbformat_minor": 0
}