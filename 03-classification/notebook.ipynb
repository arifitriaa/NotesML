{
  "cells": [
    {
      "cell_type": "markdown",
      "metadata": {
        "id": "6BB6U4XcF2aZ"
      },
      "source": [
        "# 3. Machine Learning for Classification\n",
        "\n",
        "We'll use logistic regression to predict churn\n",
        "\n",
        "\n",
        "## 3.1 Churn prediction project\n",
        "\n",
        "* Dataset: https://www.kaggle.com/blastchar/telco-customer-churn\n",
        "* https://raw.githubusercontent.com/alexeygrigorev/mlbookcamp-code/master/chapter-03-churn-prediction/WA_Fn-UseC_-Telco-Customer-Churn.csv\n"
      ],
      "id": "6BB6U4XcF2aZ"
    },
    {
      "cell_type": "markdown",
      "metadata": {
        "id": "aPYEfA2uF2ag"
      },
      "source": [
        "## 3.2 Data preparation\n",
        "\n",
        "* Download the data, read it with pandas\n",
        "* Look at the data\n",
        "* Make column names and values look uniform\n",
        "* Check if all the columns read correctly\n",
        "* Check if the churn variable needs any preparation"
      ],
      "id": "aPYEfA2uF2ag"
    },
    {
      "cell_type": "code",
      "execution_count": 1,
      "metadata": {
        "id": "bNdTgbyQF2ai"
      },
      "outputs": [],
      "source": [
        "import pandas as pd\n",
        "import numpy as np\n",
        "\n",
        "import matplotlib.pyplot as plt"
      ],
      "id": "bNdTgbyQF2ai"
    },
    {
      "cell_type": "code",
      "execution_count": 2,
      "metadata": {
        "id": "FBV7V8feF2ak"
      },
      "outputs": [],
      "source": [
        "data = 'https://raw.githubusercontent.com/alexeygrigorev/mlbookcamp-code/master/chapter-03-churn-prediction/WA_Fn-UseC_-Telco-Customer-Churn.csv'"
      ],
      "id": "FBV7V8feF2ak"
    },
    {
      "cell_type": "code",
      "execution_count": 3,
      "metadata": {
        "id": "WEBjPsgWF2al",
        "outputId": "87574cc6-f98c-4183-a500-191ce3fbeee8",
        "colab": {
          "base_uri": "https://localhost:8080/"
        }
      },
      "outputs": [
        {
          "output_type": "stream",
          "name": "stdout",
          "text": [
            "--2022-09-26 04:39:25--  https://raw.githubusercontent.com/alexeygrigorev/mlbookcamp-code/master/chapter-03-churn-prediction/WA_Fn-UseC_-Telco-Customer-Churn.csv\n",
            "Resolving raw.githubusercontent.com (raw.githubusercontent.com)... 185.199.109.133, 185.199.110.133, 185.199.108.133, ...\n",
            "Connecting to raw.githubusercontent.com (raw.githubusercontent.com)|185.199.109.133|:443... connected.\n",
            "HTTP request sent, awaiting response... 200 OK\n",
            "Length: 977501 (955K) [text/plain]\n",
            "Saving to: ‘data-week-3.csv’\n",
            "\n",
            "\rdata-week-3.csv       0%[                    ]       0  --.-KB/s               \rdata-week-3.csv     100%[===================>] 954.59K  --.-KB/s    in 0.007s  \n",
            "\n",
            "2022-09-26 04:39:25 (133 MB/s) - ‘data-week-3.csv’ saved [977501/977501]\n",
            "\n"
          ]
        }
      ],
      "source": [
        "!wget $data -O data-week-3.csv "
      ],
      "id": "WEBjPsgWF2al"
    },
    {
      "cell_type": "code",
      "execution_count": 4,
      "metadata": {
        "id": "x2UGxDkFF2ap",
        "outputId": "02880079-f254-482e-b94f-8cbcff9616b2",
        "colab": {
          "base_uri": "https://localhost:8080/",
          "height": 386
        }
      },
      "outputs": [
        {
          "output_type": "execute_result",
          "data": {
            "text/plain": [
              "   customerID  gender  SeniorCitizen Partner Dependents  tenure PhoneService  \\\n",
              "0  7590-VHVEG  Female              0     Yes         No       1           No   \n",
              "1  5575-GNVDE    Male              0      No         No      34          Yes   \n",
              "2  3668-QPYBK    Male              0      No         No       2          Yes   \n",
              "3  7795-CFOCW    Male              0      No         No      45           No   \n",
              "4  9237-HQITU  Female              0      No         No       2          Yes   \n",
              "\n",
              "      MultipleLines InternetService OnlineSecurity  ... DeviceProtection  \\\n",
              "0  No phone service             DSL             No  ...               No   \n",
              "1                No             DSL            Yes  ...              Yes   \n",
              "2                No             DSL            Yes  ...               No   \n",
              "3  No phone service             DSL            Yes  ...              Yes   \n",
              "4                No     Fiber optic             No  ...               No   \n",
              "\n",
              "  TechSupport StreamingTV StreamingMovies        Contract PaperlessBilling  \\\n",
              "0          No          No              No  Month-to-month              Yes   \n",
              "1          No          No              No        One year               No   \n",
              "2          No          No              No  Month-to-month              Yes   \n",
              "3         Yes          No              No        One year               No   \n",
              "4          No          No              No  Month-to-month              Yes   \n",
              "\n",
              "               PaymentMethod MonthlyCharges  TotalCharges Churn  \n",
              "0           Electronic check          29.85         29.85    No  \n",
              "1               Mailed check          56.95        1889.5    No  \n",
              "2               Mailed check          53.85        108.15   Yes  \n",
              "3  Bank transfer (automatic)          42.30       1840.75    No  \n",
              "4           Electronic check          70.70        151.65   Yes  \n",
              "\n",
              "[5 rows x 21 columns]"
            ],
            "text/html": [
              "\n",
              "  <div id=\"df-dd294041-bee8-4839-b280-97902adc7161\">\n",
              "    <div class=\"colab-df-container\">\n",
              "      <div>\n",
              "<style scoped>\n",
              "    .dataframe tbody tr th:only-of-type {\n",
              "        vertical-align: middle;\n",
              "    }\n",
              "\n",
              "    .dataframe tbody tr th {\n",
              "        vertical-align: top;\n",
              "    }\n",
              "\n",
              "    .dataframe thead th {\n",
              "        text-align: right;\n",
              "    }\n",
              "</style>\n",
              "<table border=\"1\" class=\"dataframe\">\n",
              "  <thead>\n",
              "    <tr style=\"text-align: right;\">\n",
              "      <th></th>\n",
              "      <th>customerID</th>\n",
              "      <th>gender</th>\n",
              "      <th>SeniorCitizen</th>\n",
              "      <th>Partner</th>\n",
              "      <th>Dependents</th>\n",
              "      <th>tenure</th>\n",
              "      <th>PhoneService</th>\n",
              "      <th>MultipleLines</th>\n",
              "      <th>InternetService</th>\n",
              "      <th>OnlineSecurity</th>\n",
              "      <th>...</th>\n",
              "      <th>DeviceProtection</th>\n",
              "      <th>TechSupport</th>\n",
              "      <th>StreamingTV</th>\n",
              "      <th>StreamingMovies</th>\n",
              "      <th>Contract</th>\n",
              "      <th>PaperlessBilling</th>\n",
              "      <th>PaymentMethod</th>\n",
              "      <th>MonthlyCharges</th>\n",
              "      <th>TotalCharges</th>\n",
              "      <th>Churn</th>\n",
              "    </tr>\n",
              "  </thead>\n",
              "  <tbody>\n",
              "    <tr>\n",
              "      <th>0</th>\n",
              "      <td>7590-VHVEG</td>\n",
              "      <td>Female</td>\n",
              "      <td>0</td>\n",
              "      <td>Yes</td>\n",
              "      <td>No</td>\n",
              "      <td>1</td>\n",
              "      <td>No</td>\n",
              "      <td>No phone service</td>\n",
              "      <td>DSL</td>\n",
              "      <td>No</td>\n",
              "      <td>...</td>\n",
              "      <td>No</td>\n",
              "      <td>No</td>\n",
              "      <td>No</td>\n",
              "      <td>No</td>\n",
              "      <td>Month-to-month</td>\n",
              "      <td>Yes</td>\n",
              "      <td>Electronic check</td>\n",
              "      <td>29.85</td>\n",
              "      <td>29.85</td>\n",
              "      <td>No</td>\n",
              "    </tr>\n",
              "    <tr>\n",
              "      <th>1</th>\n",
              "      <td>5575-GNVDE</td>\n",
              "      <td>Male</td>\n",
              "      <td>0</td>\n",
              "      <td>No</td>\n",
              "      <td>No</td>\n",
              "      <td>34</td>\n",
              "      <td>Yes</td>\n",
              "      <td>No</td>\n",
              "      <td>DSL</td>\n",
              "      <td>Yes</td>\n",
              "      <td>...</td>\n",
              "      <td>Yes</td>\n",
              "      <td>No</td>\n",
              "      <td>No</td>\n",
              "      <td>No</td>\n",
              "      <td>One year</td>\n",
              "      <td>No</td>\n",
              "      <td>Mailed check</td>\n",
              "      <td>56.95</td>\n",
              "      <td>1889.5</td>\n",
              "      <td>No</td>\n",
              "    </tr>\n",
              "    <tr>\n",
              "      <th>2</th>\n",
              "      <td>3668-QPYBK</td>\n",
              "      <td>Male</td>\n",
              "      <td>0</td>\n",
              "      <td>No</td>\n",
              "      <td>No</td>\n",
              "      <td>2</td>\n",
              "      <td>Yes</td>\n",
              "      <td>No</td>\n",
              "      <td>DSL</td>\n",
              "      <td>Yes</td>\n",
              "      <td>...</td>\n",
              "      <td>No</td>\n",
              "      <td>No</td>\n",
              "      <td>No</td>\n",
              "      <td>No</td>\n",
              "      <td>Month-to-month</td>\n",
              "      <td>Yes</td>\n",
              "      <td>Mailed check</td>\n",
              "      <td>53.85</td>\n",
              "      <td>108.15</td>\n",
              "      <td>Yes</td>\n",
              "    </tr>\n",
              "    <tr>\n",
              "      <th>3</th>\n",
              "      <td>7795-CFOCW</td>\n",
              "      <td>Male</td>\n",
              "      <td>0</td>\n",
              "      <td>No</td>\n",
              "      <td>No</td>\n",
              "      <td>45</td>\n",
              "      <td>No</td>\n",
              "      <td>No phone service</td>\n",
              "      <td>DSL</td>\n",
              "      <td>Yes</td>\n",
              "      <td>...</td>\n",
              "      <td>Yes</td>\n",
              "      <td>Yes</td>\n",
              "      <td>No</td>\n",
              "      <td>No</td>\n",
              "      <td>One year</td>\n",
              "      <td>No</td>\n",
              "      <td>Bank transfer (automatic)</td>\n",
              "      <td>42.30</td>\n",
              "      <td>1840.75</td>\n",
              "      <td>No</td>\n",
              "    </tr>\n",
              "    <tr>\n",
              "      <th>4</th>\n",
              "      <td>9237-HQITU</td>\n",
              "      <td>Female</td>\n",
              "      <td>0</td>\n",
              "      <td>No</td>\n",
              "      <td>No</td>\n",
              "      <td>2</td>\n",
              "      <td>Yes</td>\n",
              "      <td>No</td>\n",
              "      <td>Fiber optic</td>\n",
              "      <td>No</td>\n",
              "      <td>...</td>\n",
              "      <td>No</td>\n",
              "      <td>No</td>\n",
              "      <td>No</td>\n",
              "      <td>No</td>\n",
              "      <td>Month-to-month</td>\n",
              "      <td>Yes</td>\n",
              "      <td>Electronic check</td>\n",
              "      <td>70.70</td>\n",
              "      <td>151.65</td>\n",
              "      <td>Yes</td>\n",
              "    </tr>\n",
              "  </tbody>\n",
              "</table>\n",
              "<p>5 rows × 21 columns</p>\n",
              "</div>\n",
              "      <button class=\"colab-df-convert\" onclick=\"convertToInteractive('df-dd294041-bee8-4839-b280-97902adc7161')\"\n",
              "              title=\"Convert this dataframe to an interactive table.\"\n",
              "              style=\"display:none;\">\n",
              "        \n",
              "  <svg xmlns=\"http://www.w3.org/2000/svg\" height=\"24px\"viewBox=\"0 0 24 24\"\n",
              "       width=\"24px\">\n",
              "    <path d=\"M0 0h24v24H0V0z\" fill=\"none\"/>\n",
              "    <path d=\"M18.56 5.44l.94 2.06.94-2.06 2.06-.94-2.06-.94-.94-2.06-.94 2.06-2.06.94zm-11 1L8.5 8.5l.94-2.06 2.06-.94-2.06-.94L8.5 2.5l-.94 2.06-2.06.94zm10 10l.94 2.06.94-2.06 2.06-.94-2.06-.94-.94-2.06-.94 2.06-2.06.94z\"/><path d=\"M17.41 7.96l-1.37-1.37c-.4-.4-.92-.59-1.43-.59-.52 0-1.04.2-1.43.59L10.3 9.45l-7.72 7.72c-.78.78-.78 2.05 0 2.83L4 21.41c.39.39.9.59 1.41.59.51 0 1.02-.2 1.41-.59l7.78-7.78 2.81-2.81c.8-.78.8-2.07 0-2.86zM5.41 20L4 18.59l7.72-7.72 1.47 1.35L5.41 20z\"/>\n",
              "  </svg>\n",
              "      </button>\n",
              "      \n",
              "  <style>\n",
              "    .colab-df-container {\n",
              "      display:flex;\n",
              "      flex-wrap:wrap;\n",
              "      gap: 12px;\n",
              "    }\n",
              "\n",
              "    .colab-df-convert {\n",
              "      background-color: #E8F0FE;\n",
              "      border: none;\n",
              "      border-radius: 50%;\n",
              "      cursor: pointer;\n",
              "      display: none;\n",
              "      fill: #1967D2;\n",
              "      height: 32px;\n",
              "      padding: 0 0 0 0;\n",
              "      width: 32px;\n",
              "    }\n",
              "\n",
              "    .colab-df-convert:hover {\n",
              "      background-color: #E2EBFA;\n",
              "      box-shadow: 0px 1px 2px rgba(60, 64, 67, 0.3), 0px 1px 3px 1px rgba(60, 64, 67, 0.15);\n",
              "      fill: #174EA6;\n",
              "    }\n",
              "\n",
              "    [theme=dark] .colab-df-convert {\n",
              "      background-color: #3B4455;\n",
              "      fill: #D2E3FC;\n",
              "    }\n",
              "\n",
              "    [theme=dark] .colab-df-convert:hover {\n",
              "      background-color: #434B5C;\n",
              "      box-shadow: 0px 1px 3px 1px rgba(0, 0, 0, 0.15);\n",
              "      filter: drop-shadow(0px 1px 2px rgba(0, 0, 0, 0.3));\n",
              "      fill: #FFFFFF;\n",
              "    }\n",
              "  </style>\n",
              "\n",
              "      <script>\n",
              "        const buttonEl =\n",
              "          document.querySelector('#df-dd294041-bee8-4839-b280-97902adc7161 button.colab-df-convert');\n",
              "        buttonEl.style.display =\n",
              "          google.colab.kernel.accessAllowed ? 'block' : 'none';\n",
              "\n",
              "        async function convertToInteractive(key) {\n",
              "          const element = document.querySelector('#df-dd294041-bee8-4839-b280-97902adc7161');\n",
              "          const dataTable =\n",
              "            await google.colab.kernel.invokeFunction('convertToInteractive',\n",
              "                                                     [key], {});\n",
              "          if (!dataTable) return;\n",
              "\n",
              "          const docLinkHtml = 'Like what you see? Visit the ' +\n",
              "            '<a target=\"_blank\" href=https://colab.research.google.com/notebooks/data_table.ipynb>data table notebook</a>'\n",
              "            + ' to learn more about interactive tables.';\n",
              "          element.innerHTML = '';\n",
              "          dataTable['output_type'] = 'display_data';\n",
              "          await google.colab.output.renderOutput(dataTable, element);\n",
              "          const docLink = document.createElement('div');\n",
              "          docLink.innerHTML = docLinkHtml;\n",
              "          element.appendChild(docLink);\n",
              "        }\n",
              "      </script>\n",
              "    </div>\n",
              "  </div>\n",
              "  "
            ]
          },
          "metadata": {},
          "execution_count": 4
        }
      ],
      "source": [
        "df = pd.read_csv('data-week-3.csv')\n",
        "df.head()"
      ],
      "id": "x2UGxDkFF2ap"
    },
    {
      "cell_type": "code",
      "execution_count": 5,
      "metadata": {
        "id": "iDmswkD3F2aq"
      },
      "outputs": [],
      "source": [
        "df.columns = df.columns.str.lower().str.replace(' ', '_')\n",
        "\n",
        "categorical_columns = list(df.dtypes[df.dtypes == 'object'].index)\n",
        "\n",
        "for c in categorical_columns:\n",
        "    df[c] = df[c].str.lower().str.replace(' ', '_')"
      ],
      "id": "iDmswkD3F2aq"
    },
    {
      "cell_type": "code",
      "execution_count": 6,
      "metadata": {
        "id": "r68ZXelTF2as",
        "outputId": "ba88ab1d-40d7-4e47-a404-d9745edeb9cc",
        "colab": {
          "base_uri": "https://localhost:8080/",
          "height": 708
        }
      },
      "outputs": [
        {
          "output_type": "execute_result",
          "data": {
            "text/plain": [
              "                                 0             1               2  \\\n",
              "customerid              7590-vhveg    5575-gnvde      3668-qpybk   \n",
              "gender                      female          male            male   \n",
              "seniorcitizen                    0             0               0   \n",
              "partner                        yes            no              no   \n",
              "dependents                      no            no              no   \n",
              "tenure                           1            34               2   \n",
              "phoneservice                    no           yes             yes   \n",
              "multiplelines     no_phone_service            no              no   \n",
              "internetservice                dsl           dsl             dsl   \n",
              "onlinesecurity                  no           yes             yes   \n",
              "onlinebackup                   yes            no             yes   \n",
              "deviceprotection                no           yes              no   \n",
              "techsupport                     no            no              no   \n",
              "streamingtv                     no            no              no   \n",
              "streamingmovies                 no            no              no   \n",
              "contract            month-to-month      one_year  month-to-month   \n",
              "paperlessbilling               yes            no             yes   \n",
              "paymentmethod     electronic_check  mailed_check    mailed_check   \n",
              "monthlycharges               29.85         56.95           53.85   \n",
              "totalcharges                 29.85        1889.5          108.15   \n",
              "churn                           no            no             yes   \n",
              "\n",
              "                                          3                 4  \n",
              "customerid                       7795-cfocw        9237-hqitu  \n",
              "gender                                 male            female  \n",
              "seniorcitizen                             0                 0  \n",
              "partner                                  no                no  \n",
              "dependents                               no                no  \n",
              "tenure                                   45                 2  \n",
              "phoneservice                             no               yes  \n",
              "multiplelines              no_phone_service                no  \n",
              "internetservice                         dsl       fiber_optic  \n",
              "onlinesecurity                          yes                no  \n",
              "onlinebackup                             no                no  \n",
              "deviceprotection                        yes                no  \n",
              "techsupport                             yes                no  \n",
              "streamingtv                              no                no  \n",
              "streamingmovies                          no                no  \n",
              "contract                           one_year    month-to-month  \n",
              "paperlessbilling                         no               yes  \n",
              "paymentmethod     bank_transfer_(automatic)  electronic_check  \n",
              "monthlycharges                         42.3              70.7  \n",
              "totalcharges                        1840.75            151.65  \n",
              "churn                                    no               yes  "
            ],
            "text/html": [
              "\n",
              "  <div id=\"df-224fd2a6-0ee8-43af-b4f2-3da0df33d8d0\">\n",
              "    <div class=\"colab-df-container\">\n",
              "      <div>\n",
              "<style scoped>\n",
              "    .dataframe tbody tr th:only-of-type {\n",
              "        vertical-align: middle;\n",
              "    }\n",
              "\n",
              "    .dataframe tbody tr th {\n",
              "        vertical-align: top;\n",
              "    }\n",
              "\n",
              "    .dataframe thead th {\n",
              "        text-align: right;\n",
              "    }\n",
              "</style>\n",
              "<table border=\"1\" class=\"dataframe\">\n",
              "  <thead>\n",
              "    <tr style=\"text-align: right;\">\n",
              "      <th></th>\n",
              "      <th>0</th>\n",
              "      <th>1</th>\n",
              "      <th>2</th>\n",
              "      <th>3</th>\n",
              "      <th>4</th>\n",
              "    </tr>\n",
              "  </thead>\n",
              "  <tbody>\n",
              "    <tr>\n",
              "      <th>customerid</th>\n",
              "      <td>7590-vhveg</td>\n",
              "      <td>5575-gnvde</td>\n",
              "      <td>3668-qpybk</td>\n",
              "      <td>7795-cfocw</td>\n",
              "      <td>9237-hqitu</td>\n",
              "    </tr>\n",
              "    <tr>\n",
              "      <th>gender</th>\n",
              "      <td>female</td>\n",
              "      <td>male</td>\n",
              "      <td>male</td>\n",
              "      <td>male</td>\n",
              "      <td>female</td>\n",
              "    </tr>\n",
              "    <tr>\n",
              "      <th>seniorcitizen</th>\n",
              "      <td>0</td>\n",
              "      <td>0</td>\n",
              "      <td>0</td>\n",
              "      <td>0</td>\n",
              "      <td>0</td>\n",
              "    </tr>\n",
              "    <tr>\n",
              "      <th>partner</th>\n",
              "      <td>yes</td>\n",
              "      <td>no</td>\n",
              "      <td>no</td>\n",
              "      <td>no</td>\n",
              "      <td>no</td>\n",
              "    </tr>\n",
              "    <tr>\n",
              "      <th>dependents</th>\n",
              "      <td>no</td>\n",
              "      <td>no</td>\n",
              "      <td>no</td>\n",
              "      <td>no</td>\n",
              "      <td>no</td>\n",
              "    </tr>\n",
              "    <tr>\n",
              "      <th>tenure</th>\n",
              "      <td>1</td>\n",
              "      <td>34</td>\n",
              "      <td>2</td>\n",
              "      <td>45</td>\n",
              "      <td>2</td>\n",
              "    </tr>\n",
              "    <tr>\n",
              "      <th>phoneservice</th>\n",
              "      <td>no</td>\n",
              "      <td>yes</td>\n",
              "      <td>yes</td>\n",
              "      <td>no</td>\n",
              "      <td>yes</td>\n",
              "    </tr>\n",
              "    <tr>\n",
              "      <th>multiplelines</th>\n",
              "      <td>no_phone_service</td>\n",
              "      <td>no</td>\n",
              "      <td>no</td>\n",
              "      <td>no_phone_service</td>\n",
              "      <td>no</td>\n",
              "    </tr>\n",
              "    <tr>\n",
              "      <th>internetservice</th>\n",
              "      <td>dsl</td>\n",
              "      <td>dsl</td>\n",
              "      <td>dsl</td>\n",
              "      <td>dsl</td>\n",
              "      <td>fiber_optic</td>\n",
              "    </tr>\n",
              "    <tr>\n",
              "      <th>onlinesecurity</th>\n",
              "      <td>no</td>\n",
              "      <td>yes</td>\n",
              "      <td>yes</td>\n",
              "      <td>yes</td>\n",
              "      <td>no</td>\n",
              "    </tr>\n",
              "    <tr>\n",
              "      <th>onlinebackup</th>\n",
              "      <td>yes</td>\n",
              "      <td>no</td>\n",
              "      <td>yes</td>\n",
              "      <td>no</td>\n",
              "      <td>no</td>\n",
              "    </tr>\n",
              "    <tr>\n",
              "      <th>deviceprotection</th>\n",
              "      <td>no</td>\n",
              "      <td>yes</td>\n",
              "      <td>no</td>\n",
              "      <td>yes</td>\n",
              "      <td>no</td>\n",
              "    </tr>\n",
              "    <tr>\n",
              "      <th>techsupport</th>\n",
              "      <td>no</td>\n",
              "      <td>no</td>\n",
              "      <td>no</td>\n",
              "      <td>yes</td>\n",
              "      <td>no</td>\n",
              "    </tr>\n",
              "    <tr>\n",
              "      <th>streamingtv</th>\n",
              "      <td>no</td>\n",
              "      <td>no</td>\n",
              "      <td>no</td>\n",
              "      <td>no</td>\n",
              "      <td>no</td>\n",
              "    </tr>\n",
              "    <tr>\n",
              "      <th>streamingmovies</th>\n",
              "      <td>no</td>\n",
              "      <td>no</td>\n",
              "      <td>no</td>\n",
              "      <td>no</td>\n",
              "      <td>no</td>\n",
              "    </tr>\n",
              "    <tr>\n",
              "      <th>contract</th>\n",
              "      <td>month-to-month</td>\n",
              "      <td>one_year</td>\n",
              "      <td>month-to-month</td>\n",
              "      <td>one_year</td>\n",
              "      <td>month-to-month</td>\n",
              "    </tr>\n",
              "    <tr>\n",
              "      <th>paperlessbilling</th>\n",
              "      <td>yes</td>\n",
              "      <td>no</td>\n",
              "      <td>yes</td>\n",
              "      <td>no</td>\n",
              "      <td>yes</td>\n",
              "    </tr>\n",
              "    <tr>\n",
              "      <th>paymentmethod</th>\n",
              "      <td>electronic_check</td>\n",
              "      <td>mailed_check</td>\n",
              "      <td>mailed_check</td>\n",
              "      <td>bank_transfer_(automatic)</td>\n",
              "      <td>electronic_check</td>\n",
              "    </tr>\n",
              "    <tr>\n",
              "      <th>monthlycharges</th>\n",
              "      <td>29.85</td>\n",
              "      <td>56.95</td>\n",
              "      <td>53.85</td>\n",
              "      <td>42.3</td>\n",
              "      <td>70.7</td>\n",
              "    </tr>\n",
              "    <tr>\n",
              "      <th>totalcharges</th>\n",
              "      <td>29.85</td>\n",
              "      <td>1889.5</td>\n",
              "      <td>108.15</td>\n",
              "      <td>1840.75</td>\n",
              "      <td>151.65</td>\n",
              "    </tr>\n",
              "    <tr>\n",
              "      <th>churn</th>\n",
              "      <td>no</td>\n",
              "      <td>no</td>\n",
              "      <td>yes</td>\n",
              "      <td>no</td>\n",
              "      <td>yes</td>\n",
              "    </tr>\n",
              "  </tbody>\n",
              "</table>\n",
              "</div>\n",
              "      <button class=\"colab-df-convert\" onclick=\"convertToInteractive('df-224fd2a6-0ee8-43af-b4f2-3da0df33d8d0')\"\n",
              "              title=\"Convert this dataframe to an interactive table.\"\n",
              "              style=\"display:none;\">\n",
              "        \n",
              "  <svg xmlns=\"http://www.w3.org/2000/svg\" height=\"24px\"viewBox=\"0 0 24 24\"\n",
              "       width=\"24px\">\n",
              "    <path d=\"M0 0h24v24H0V0z\" fill=\"none\"/>\n",
              "    <path d=\"M18.56 5.44l.94 2.06.94-2.06 2.06-.94-2.06-.94-.94-2.06-.94 2.06-2.06.94zm-11 1L8.5 8.5l.94-2.06 2.06-.94-2.06-.94L8.5 2.5l-.94 2.06-2.06.94zm10 10l.94 2.06.94-2.06 2.06-.94-2.06-.94-.94-2.06-.94 2.06-2.06.94z\"/><path d=\"M17.41 7.96l-1.37-1.37c-.4-.4-.92-.59-1.43-.59-.52 0-1.04.2-1.43.59L10.3 9.45l-7.72 7.72c-.78.78-.78 2.05 0 2.83L4 21.41c.39.39.9.59 1.41.59.51 0 1.02-.2 1.41-.59l7.78-7.78 2.81-2.81c.8-.78.8-2.07 0-2.86zM5.41 20L4 18.59l7.72-7.72 1.47 1.35L5.41 20z\"/>\n",
              "  </svg>\n",
              "      </button>\n",
              "      \n",
              "  <style>\n",
              "    .colab-df-container {\n",
              "      display:flex;\n",
              "      flex-wrap:wrap;\n",
              "      gap: 12px;\n",
              "    }\n",
              "\n",
              "    .colab-df-convert {\n",
              "      background-color: #E8F0FE;\n",
              "      border: none;\n",
              "      border-radius: 50%;\n",
              "      cursor: pointer;\n",
              "      display: none;\n",
              "      fill: #1967D2;\n",
              "      height: 32px;\n",
              "      padding: 0 0 0 0;\n",
              "      width: 32px;\n",
              "    }\n",
              "\n",
              "    .colab-df-convert:hover {\n",
              "      background-color: #E2EBFA;\n",
              "      box-shadow: 0px 1px 2px rgba(60, 64, 67, 0.3), 0px 1px 3px 1px rgba(60, 64, 67, 0.15);\n",
              "      fill: #174EA6;\n",
              "    }\n",
              "\n",
              "    [theme=dark] .colab-df-convert {\n",
              "      background-color: #3B4455;\n",
              "      fill: #D2E3FC;\n",
              "    }\n",
              "\n",
              "    [theme=dark] .colab-df-convert:hover {\n",
              "      background-color: #434B5C;\n",
              "      box-shadow: 0px 1px 3px 1px rgba(0, 0, 0, 0.15);\n",
              "      filter: drop-shadow(0px 1px 2px rgba(0, 0, 0, 0.3));\n",
              "      fill: #FFFFFF;\n",
              "    }\n",
              "  </style>\n",
              "\n",
              "      <script>\n",
              "        const buttonEl =\n",
              "          document.querySelector('#df-224fd2a6-0ee8-43af-b4f2-3da0df33d8d0 button.colab-df-convert');\n",
              "        buttonEl.style.display =\n",
              "          google.colab.kernel.accessAllowed ? 'block' : 'none';\n",
              "\n",
              "        async function convertToInteractive(key) {\n",
              "          const element = document.querySelector('#df-224fd2a6-0ee8-43af-b4f2-3da0df33d8d0');\n",
              "          const dataTable =\n",
              "            await google.colab.kernel.invokeFunction('convertToInteractive',\n",
              "                                                     [key], {});\n",
              "          if (!dataTable) return;\n",
              "\n",
              "          const docLinkHtml = 'Like what you see? Visit the ' +\n",
              "            '<a target=\"_blank\" href=https://colab.research.google.com/notebooks/data_table.ipynb>data table notebook</a>'\n",
              "            + ' to learn more about interactive tables.';\n",
              "          element.innerHTML = '';\n",
              "          dataTable['output_type'] = 'display_data';\n",
              "          await google.colab.output.renderOutput(dataTable, element);\n",
              "          const docLink = document.createElement('div');\n",
              "          docLink.innerHTML = docLinkHtml;\n",
              "          element.appendChild(docLink);\n",
              "        }\n",
              "      </script>\n",
              "    </div>\n",
              "  </div>\n",
              "  "
            ]
          },
          "metadata": {},
          "execution_count": 6
        }
      ],
      "source": [
        "df.head().T"
      ],
      "id": "r68ZXelTF2as"
    },
    {
      "cell_type": "code",
      "execution_count": 7,
      "metadata": {
        "id": "NY9juYFmF2au"
      },
      "outputs": [],
      "source": [
        "tc = pd.to_numeric(df.totalcharges, errors='coerce')"
      ],
      "id": "NY9juYFmF2au"
    },
    {
      "cell_type": "code",
      "execution_count": 8,
      "metadata": {
        "id": "xtjbI5fGF2av"
      },
      "outputs": [],
      "source": [
        "df.totalcharges = pd.to_numeric(df.totalcharges, errors='coerce')"
      ],
      "id": "xtjbI5fGF2av"
    },
    {
      "cell_type": "code",
      "execution_count": 9,
      "metadata": {
        "id": "PeASgk2CF2aw"
      },
      "outputs": [],
      "source": [
        "df.totalcharges = df.totalcharges.fillna(0)"
      ],
      "id": "PeASgk2CF2aw"
    },
    {
      "cell_type": "code",
      "execution_count": 10,
      "metadata": {
        "id": "Ah9GWBpGF2ax",
        "outputId": "4361796a-f568-4400-8908-a788c88b063e",
        "colab": {
          "base_uri": "https://localhost:8080/"
        }
      },
      "outputs": [
        {
          "output_type": "execute_result",
          "data": {
            "text/plain": [
              "0     no\n",
              "1     no\n",
              "2    yes\n",
              "3     no\n",
              "4    yes\n",
              "Name: churn, dtype: object"
            ]
          },
          "metadata": {},
          "execution_count": 10
        }
      ],
      "source": [
        "df.churn.head()"
      ],
      "id": "Ah9GWBpGF2ax"
    },
    {
      "cell_type": "code",
      "execution_count": 11,
      "metadata": {
        "id": "MJSFbZyqF2ax"
      },
      "outputs": [],
      "source": [
        "df.churn = (df.churn == 'yes').astype(int)"
      ],
      "id": "MJSFbZyqF2ax"
    },
    {
      "cell_type": "markdown",
      "metadata": {
        "id": "JBzQtyTpF2ay"
      },
      "source": [
        "## 3.3 Setting up the validation framework\n",
        "\n",
        "* Perform the train/validation/test split with Scikit-Learn"
      ],
      "id": "JBzQtyTpF2ay"
    },
    {
      "cell_type": "code",
      "execution_count": 12,
      "metadata": {
        "id": "fnaCd_8EF2az"
      },
      "outputs": [],
      "source": [
        "from sklearn.model_selection import train_test_split"
      ],
      "id": "fnaCd_8EF2az"
    },
    {
      "cell_type": "code",
      "execution_count": 13,
      "metadata": {
        "id": "oAuwRY02F2az"
      },
      "outputs": [],
      "source": [
        "df_full_train, df_test = train_test_split(df, test_size=0.2, random_state=1)\n",
        "df_train, df_val = train_test_split(df_full_train, test_size=0.25, random_state=1)"
      ],
      "id": "oAuwRY02F2az"
    },
    {
      "cell_type": "code",
      "execution_count": 14,
      "metadata": {
        "id": "JgZTAYsuF2a0",
        "outputId": "35385cba-d7dd-4707-d85e-9639b9343e35",
        "colab": {
          "base_uri": "https://localhost:8080/"
        }
      },
      "outputs": [
        {
          "output_type": "execute_result",
          "data": {
            "text/plain": [
              "(4225, 1409, 1409)"
            ]
          },
          "metadata": {},
          "execution_count": 14
        }
      ],
      "source": [
        "len(df_train), len(df_val), len(df_test)"
      ],
      "id": "JgZTAYsuF2a0"
    },
    {
      "cell_type": "code",
      "execution_count": 15,
      "metadata": {
        "id": "E9JFXjx4F2a1"
      },
      "outputs": [],
      "source": [
        "df_train = df_train.reset_index(drop=True)\n",
        "df_val = df_val.reset_index(drop=True)\n",
        "df_test = df_test.reset_index(drop=True)"
      ],
      "id": "E9JFXjx4F2a1"
    },
    {
      "cell_type": "code",
      "execution_count": 16,
      "metadata": {
        "id": "u7_uPLbcF2a1"
      },
      "outputs": [],
      "source": [
        "y_train = df_train.churn.values\n",
        "y_val = df_val.churn.values\n",
        "y_test = df_test.churn.values\n",
        "\n",
        "del df_train['churn']\n",
        "del df_val['churn']\n",
        "del df_test['churn']"
      ],
      "id": "u7_uPLbcF2a1"
    },
    {
      "cell_type": "markdown",
      "metadata": {
        "id": "cmALGf52F2a2"
      },
      "source": [
        "## 3.4 EDA\n",
        "\n",
        "* Check missing values\n",
        "* Look at the target variable (churn)\n",
        "* Look at numerical and categorical variables"
      ],
      "id": "cmALGf52F2a2"
    },
    {
      "cell_type": "code",
      "execution_count": 17,
      "metadata": {
        "id": "Sf7MDDwKF2a2"
      },
      "outputs": [],
      "source": [
        "df_full_train = df_full_train.reset_index(drop=True)"
      ],
      "id": "Sf7MDDwKF2a2"
    },
    {
      "cell_type": "code",
      "execution_count": 18,
      "metadata": {
        "id": "ebX7jvZ0F2a4",
        "outputId": "228ac1d4-bcba-4306-ab83-bd0a6cbc9a91",
        "colab": {
          "base_uri": "https://localhost:8080/"
        }
      },
      "outputs": [
        {
          "output_type": "execute_result",
          "data": {
            "text/plain": [
              "customerid          0\n",
              "gender              0\n",
              "seniorcitizen       0\n",
              "partner             0\n",
              "dependents          0\n",
              "tenure              0\n",
              "phoneservice        0\n",
              "multiplelines       0\n",
              "internetservice     0\n",
              "onlinesecurity      0\n",
              "onlinebackup        0\n",
              "deviceprotection    0\n",
              "techsupport         0\n",
              "streamingtv         0\n",
              "streamingmovies     0\n",
              "contract            0\n",
              "paperlessbilling    0\n",
              "paymentmethod       0\n",
              "monthlycharges      0\n",
              "totalcharges        0\n",
              "churn               0\n",
              "dtype: int64"
            ]
          },
          "metadata": {},
          "execution_count": 18
        }
      ],
      "source": [
        "df_full_train.isnull().sum()"
      ],
      "id": "ebX7jvZ0F2a4"
    },
    {
      "cell_type": "code",
      "execution_count": 19,
      "metadata": {
        "id": "2PEdfUavF2a5",
        "outputId": "fefa978a-034e-4177-94a3-ac42bfc8b041",
        "colab": {
          "base_uri": "https://localhost:8080/"
        }
      },
      "outputs": [
        {
          "output_type": "execute_result",
          "data": {
            "text/plain": [
              "0    0.730032\n",
              "1    0.269968\n",
              "Name: churn, dtype: float64"
            ]
          },
          "metadata": {},
          "execution_count": 19
        }
      ],
      "source": [
        "df_full_train.churn.value_counts(normalize=True)"
      ],
      "id": "2PEdfUavF2a5"
    },
    {
      "cell_type": "code",
      "execution_count": 20,
      "metadata": {
        "id": "mw-r7ANVF2a6",
        "outputId": "476190c8-d14c-4dcf-ef24-2fa82c46417b",
        "colab": {
          "base_uri": "https://localhost:8080/"
        }
      },
      "outputs": [
        {
          "output_type": "execute_result",
          "data": {
            "text/plain": [
              "0.26996805111821087"
            ]
          },
          "metadata": {},
          "execution_count": 20
        }
      ],
      "source": [
        "df_full_train.churn.mean()"
      ],
      "id": "mw-r7ANVF2a6"
    },
    {
      "cell_type": "code",
      "execution_count": 21,
      "metadata": {
        "id": "T26yNJPFF2a7"
      },
      "outputs": [],
      "source": [
        "numerical = ['tenure', 'monthlycharges', 'totalcharges']"
      ],
      "id": "T26yNJPFF2a7"
    },
    {
      "cell_type": "code",
      "execution_count": 22,
      "metadata": {
        "id": "PS39GapuF2a7"
      },
      "outputs": [],
      "source": [
        "categorical = [\n",
        "    'gender',\n",
        "    'seniorcitizen',\n",
        "    'partner',\n",
        "    'dependents',\n",
        "    'phoneservice',\n",
        "    'multiplelines',\n",
        "    'internetservice',\n",
        "    'onlinesecurity',\n",
        "    'onlinebackup',\n",
        "    'deviceprotection',\n",
        "    'techsupport',\n",
        "    'streamingtv',\n",
        "    'streamingmovies',\n",
        "    'contract',\n",
        "    'paperlessbilling',\n",
        "    'paymentmethod',\n",
        "]"
      ],
      "id": "PS39GapuF2a7"
    },
    {
      "cell_type": "code",
      "execution_count": 23,
      "metadata": {
        "id": "4R7eYPVmF2a8",
        "outputId": "dc3c371d-d6ff-4d4a-c2f6-dfc05c71de81",
        "colab": {
          "base_uri": "https://localhost:8080/"
        }
      },
      "outputs": [
        {
          "output_type": "execute_result",
          "data": {
            "text/plain": [
              "gender              2\n",
              "seniorcitizen       2\n",
              "partner             2\n",
              "dependents          2\n",
              "phoneservice        2\n",
              "multiplelines       3\n",
              "internetservice     3\n",
              "onlinesecurity      3\n",
              "onlinebackup        3\n",
              "deviceprotection    3\n",
              "techsupport         3\n",
              "streamingtv         3\n",
              "streamingmovies     3\n",
              "contract            3\n",
              "paperlessbilling    2\n",
              "paymentmethod       4\n",
              "dtype: int64"
            ]
          },
          "metadata": {},
          "execution_count": 23
        }
      ],
      "source": [
        "df_full_train[categorical].nunique()"
      ],
      "id": "4R7eYPVmF2a8"
    },
    {
      "cell_type": "markdown",
      "metadata": {
        "id": "KucXN7bXF2a9"
      },
      "source": [
        "## 3.5 Feature importance: Churn rate and risk ratio\n",
        "\n",
        "Feature importance analysis (part of EDA) - identifying which features affect our target variable\n",
        "\n",
        "* Churn rate\n",
        "* Risk ratio\n",
        "* Mutual information - later"
      ],
      "id": "KucXN7bXF2a9"
    },
    {
      "cell_type": "markdown",
      "metadata": {
        "id": "DaUV0QPWF2a9"
      },
      "source": [
        "#### Churn rate"
      ],
      "id": "DaUV0QPWF2a9"
    },
    {
      "cell_type": "code",
      "execution_count": 24,
      "metadata": {
        "id": "K8jV0DrEF2a-",
        "outputId": "e161841c-2c31-4839-8dc9-03e0a9b7baae",
        "colab": {
          "base_uri": "https://localhost:8080/",
          "height": 0
        }
      },
      "outputs": [
        {
          "output_type": "execute_result",
          "data": {
            "text/plain": [
              "   customerid  gender  seniorcitizen partner dependents  tenure phoneservice  \\\n",
              "0  5442-pptjy    male              0     yes        yes      12          yes   \n",
              "1  6261-rcvns  female              0      no         no      42          yes   \n",
              "2  2176-osjuv    male              0     yes         no      71          yes   \n",
              "3  6161-erdgd    male              0     yes        yes      71          yes   \n",
              "4  2364-ufrom    male              0      no         no      30          yes   \n",
              "\n",
              "  multiplelines internetservice       onlinesecurity  ...  \\\n",
              "0            no              no  no_internet_service  ...   \n",
              "1            no             dsl                  yes  ...   \n",
              "2           yes             dsl                  yes  ...   \n",
              "3           yes             dsl                  yes  ...   \n",
              "4            no             dsl                  yes  ...   \n",
              "\n",
              "      deviceprotection          techsupport          streamingtv  \\\n",
              "0  no_internet_service  no_internet_service  no_internet_service   \n",
              "1                  yes                  yes                   no   \n",
              "2                   no                  yes                   no   \n",
              "3                  yes                  yes                  yes   \n",
              "4                   no                  yes                  yes   \n",
              "\n",
              "       streamingmovies  contract paperlessbilling              paymentmethod  \\\n",
              "0  no_internet_service  two_year               no               mailed_check   \n",
              "1                  yes  one_year               no    credit_card_(automatic)   \n",
              "2                   no  two_year               no  bank_transfer_(automatic)   \n",
              "3                  yes  one_year               no           electronic_check   \n",
              "4                   no  one_year               no           electronic_check   \n",
              "\n",
              "  monthlycharges  totalcharges  churn  \n",
              "0          19.70        258.35      0  \n",
              "1          73.90       3160.55      1  \n",
              "2          65.15       4681.75      0  \n",
              "3          85.45       6300.85      0  \n",
              "4          70.40       2044.75      0  \n",
              "\n",
              "[5 rows x 21 columns]"
            ],
            "text/html": [
              "\n",
              "  <div id=\"df-462431a6-effa-4196-9a15-6412db49a987\">\n",
              "    <div class=\"colab-df-container\">\n",
              "      <div>\n",
              "<style scoped>\n",
              "    .dataframe tbody tr th:only-of-type {\n",
              "        vertical-align: middle;\n",
              "    }\n",
              "\n",
              "    .dataframe tbody tr th {\n",
              "        vertical-align: top;\n",
              "    }\n",
              "\n",
              "    .dataframe thead th {\n",
              "        text-align: right;\n",
              "    }\n",
              "</style>\n",
              "<table border=\"1\" class=\"dataframe\">\n",
              "  <thead>\n",
              "    <tr style=\"text-align: right;\">\n",
              "      <th></th>\n",
              "      <th>customerid</th>\n",
              "      <th>gender</th>\n",
              "      <th>seniorcitizen</th>\n",
              "      <th>partner</th>\n",
              "      <th>dependents</th>\n",
              "      <th>tenure</th>\n",
              "      <th>phoneservice</th>\n",
              "      <th>multiplelines</th>\n",
              "      <th>internetservice</th>\n",
              "      <th>onlinesecurity</th>\n",
              "      <th>...</th>\n",
              "      <th>deviceprotection</th>\n",
              "      <th>techsupport</th>\n",
              "      <th>streamingtv</th>\n",
              "      <th>streamingmovies</th>\n",
              "      <th>contract</th>\n",
              "      <th>paperlessbilling</th>\n",
              "      <th>paymentmethod</th>\n",
              "      <th>monthlycharges</th>\n",
              "      <th>totalcharges</th>\n",
              "      <th>churn</th>\n",
              "    </tr>\n",
              "  </thead>\n",
              "  <tbody>\n",
              "    <tr>\n",
              "      <th>0</th>\n",
              "      <td>5442-pptjy</td>\n",
              "      <td>male</td>\n",
              "      <td>0</td>\n",
              "      <td>yes</td>\n",
              "      <td>yes</td>\n",
              "      <td>12</td>\n",
              "      <td>yes</td>\n",
              "      <td>no</td>\n",
              "      <td>no</td>\n",
              "      <td>no_internet_service</td>\n",
              "      <td>...</td>\n",
              "      <td>no_internet_service</td>\n",
              "      <td>no_internet_service</td>\n",
              "      <td>no_internet_service</td>\n",
              "      <td>no_internet_service</td>\n",
              "      <td>two_year</td>\n",
              "      <td>no</td>\n",
              "      <td>mailed_check</td>\n",
              "      <td>19.70</td>\n",
              "      <td>258.35</td>\n",
              "      <td>0</td>\n",
              "    </tr>\n",
              "    <tr>\n",
              "      <th>1</th>\n",
              "      <td>6261-rcvns</td>\n",
              "      <td>female</td>\n",
              "      <td>0</td>\n",
              "      <td>no</td>\n",
              "      <td>no</td>\n",
              "      <td>42</td>\n",
              "      <td>yes</td>\n",
              "      <td>no</td>\n",
              "      <td>dsl</td>\n",
              "      <td>yes</td>\n",
              "      <td>...</td>\n",
              "      <td>yes</td>\n",
              "      <td>yes</td>\n",
              "      <td>no</td>\n",
              "      <td>yes</td>\n",
              "      <td>one_year</td>\n",
              "      <td>no</td>\n",
              "      <td>credit_card_(automatic)</td>\n",
              "      <td>73.90</td>\n",
              "      <td>3160.55</td>\n",
              "      <td>1</td>\n",
              "    </tr>\n",
              "    <tr>\n",
              "      <th>2</th>\n",
              "      <td>2176-osjuv</td>\n",
              "      <td>male</td>\n",
              "      <td>0</td>\n",
              "      <td>yes</td>\n",
              "      <td>no</td>\n",
              "      <td>71</td>\n",
              "      <td>yes</td>\n",
              "      <td>yes</td>\n",
              "      <td>dsl</td>\n",
              "      <td>yes</td>\n",
              "      <td>...</td>\n",
              "      <td>no</td>\n",
              "      <td>yes</td>\n",
              "      <td>no</td>\n",
              "      <td>no</td>\n",
              "      <td>two_year</td>\n",
              "      <td>no</td>\n",
              "      <td>bank_transfer_(automatic)</td>\n",
              "      <td>65.15</td>\n",
              "      <td>4681.75</td>\n",
              "      <td>0</td>\n",
              "    </tr>\n",
              "    <tr>\n",
              "      <th>3</th>\n",
              "      <td>6161-erdgd</td>\n",
              "      <td>male</td>\n",
              "      <td>0</td>\n",
              "      <td>yes</td>\n",
              "      <td>yes</td>\n",
              "      <td>71</td>\n",
              "      <td>yes</td>\n",
              "      <td>yes</td>\n",
              "      <td>dsl</td>\n",
              "      <td>yes</td>\n",
              "      <td>...</td>\n",
              "      <td>yes</td>\n",
              "      <td>yes</td>\n",
              "      <td>yes</td>\n",
              "      <td>yes</td>\n",
              "      <td>one_year</td>\n",
              "      <td>no</td>\n",
              "      <td>electronic_check</td>\n",
              "      <td>85.45</td>\n",
              "      <td>6300.85</td>\n",
              "      <td>0</td>\n",
              "    </tr>\n",
              "    <tr>\n",
              "      <th>4</th>\n",
              "      <td>2364-ufrom</td>\n",
              "      <td>male</td>\n",
              "      <td>0</td>\n",
              "      <td>no</td>\n",
              "      <td>no</td>\n",
              "      <td>30</td>\n",
              "      <td>yes</td>\n",
              "      <td>no</td>\n",
              "      <td>dsl</td>\n",
              "      <td>yes</td>\n",
              "      <td>...</td>\n",
              "      <td>no</td>\n",
              "      <td>yes</td>\n",
              "      <td>yes</td>\n",
              "      <td>no</td>\n",
              "      <td>one_year</td>\n",
              "      <td>no</td>\n",
              "      <td>electronic_check</td>\n",
              "      <td>70.40</td>\n",
              "      <td>2044.75</td>\n",
              "      <td>0</td>\n",
              "    </tr>\n",
              "  </tbody>\n",
              "</table>\n",
              "<p>5 rows × 21 columns</p>\n",
              "</div>\n",
              "      <button class=\"colab-df-convert\" onclick=\"convertToInteractive('df-462431a6-effa-4196-9a15-6412db49a987')\"\n",
              "              title=\"Convert this dataframe to an interactive table.\"\n",
              "              style=\"display:none;\">\n",
              "        \n",
              "  <svg xmlns=\"http://www.w3.org/2000/svg\" height=\"24px\"viewBox=\"0 0 24 24\"\n",
              "       width=\"24px\">\n",
              "    <path d=\"M0 0h24v24H0V0z\" fill=\"none\"/>\n",
              "    <path d=\"M18.56 5.44l.94 2.06.94-2.06 2.06-.94-2.06-.94-.94-2.06-.94 2.06-2.06.94zm-11 1L8.5 8.5l.94-2.06 2.06-.94-2.06-.94L8.5 2.5l-.94 2.06-2.06.94zm10 10l.94 2.06.94-2.06 2.06-.94-2.06-.94-.94-2.06-.94 2.06-2.06.94z\"/><path d=\"M17.41 7.96l-1.37-1.37c-.4-.4-.92-.59-1.43-.59-.52 0-1.04.2-1.43.59L10.3 9.45l-7.72 7.72c-.78.78-.78 2.05 0 2.83L4 21.41c.39.39.9.59 1.41.59.51 0 1.02-.2 1.41-.59l7.78-7.78 2.81-2.81c.8-.78.8-2.07 0-2.86zM5.41 20L4 18.59l7.72-7.72 1.47 1.35L5.41 20z\"/>\n",
              "  </svg>\n",
              "      </button>\n",
              "      \n",
              "  <style>\n",
              "    .colab-df-container {\n",
              "      display:flex;\n",
              "      flex-wrap:wrap;\n",
              "      gap: 12px;\n",
              "    }\n",
              "\n",
              "    .colab-df-convert {\n",
              "      background-color: #E8F0FE;\n",
              "      border: none;\n",
              "      border-radius: 50%;\n",
              "      cursor: pointer;\n",
              "      display: none;\n",
              "      fill: #1967D2;\n",
              "      height: 32px;\n",
              "      padding: 0 0 0 0;\n",
              "      width: 32px;\n",
              "    }\n",
              "\n",
              "    .colab-df-convert:hover {\n",
              "      background-color: #E2EBFA;\n",
              "      box-shadow: 0px 1px 2px rgba(60, 64, 67, 0.3), 0px 1px 3px 1px rgba(60, 64, 67, 0.15);\n",
              "      fill: #174EA6;\n",
              "    }\n",
              "\n",
              "    [theme=dark] .colab-df-convert {\n",
              "      background-color: #3B4455;\n",
              "      fill: #D2E3FC;\n",
              "    }\n",
              "\n",
              "    [theme=dark] .colab-df-convert:hover {\n",
              "      background-color: #434B5C;\n",
              "      box-shadow: 0px 1px 3px 1px rgba(0, 0, 0, 0.15);\n",
              "      filter: drop-shadow(0px 1px 2px rgba(0, 0, 0, 0.3));\n",
              "      fill: #FFFFFF;\n",
              "    }\n",
              "  </style>\n",
              "\n",
              "      <script>\n",
              "        const buttonEl =\n",
              "          document.querySelector('#df-462431a6-effa-4196-9a15-6412db49a987 button.colab-df-convert');\n",
              "        buttonEl.style.display =\n",
              "          google.colab.kernel.accessAllowed ? 'block' : 'none';\n",
              "\n",
              "        async function convertToInteractive(key) {\n",
              "          const element = document.querySelector('#df-462431a6-effa-4196-9a15-6412db49a987');\n",
              "          const dataTable =\n",
              "            await google.colab.kernel.invokeFunction('convertToInteractive',\n",
              "                                                     [key], {});\n",
              "          if (!dataTable) return;\n",
              "\n",
              "          const docLinkHtml = 'Like what you see? Visit the ' +\n",
              "            '<a target=\"_blank\" href=https://colab.research.google.com/notebooks/data_table.ipynb>data table notebook</a>'\n",
              "            + ' to learn more about interactive tables.';\n",
              "          element.innerHTML = '';\n",
              "          dataTable['output_type'] = 'display_data';\n",
              "          await google.colab.output.renderOutput(dataTable, element);\n",
              "          const docLink = document.createElement('div');\n",
              "          docLink.innerHTML = docLinkHtml;\n",
              "          element.appendChild(docLink);\n",
              "        }\n",
              "      </script>\n",
              "    </div>\n",
              "  </div>\n",
              "  "
            ]
          },
          "metadata": {},
          "execution_count": 24
        }
      ],
      "source": [
        "df_full_train.head()"
      ],
      "id": "K8jV0DrEF2a-"
    },
    {
      "cell_type": "code",
      "execution_count": 25,
      "metadata": {
        "id": "qO3CO83hF2a_",
        "outputId": "6cca32ba-1dcc-4741-e50f-7def4e0fdd20",
        "colab": {
          "base_uri": "https://localhost:8080/"
        }
      },
      "outputs": [
        {
          "output_type": "execute_result",
          "data": {
            "text/plain": [
              "0.27682403433476394"
            ]
          },
          "metadata": {},
          "execution_count": 25
        }
      ],
      "source": [
        "churn_female = df_full_train[df_full_train.gender == 'female'].churn.mean()\n",
        "churn_female"
      ],
      "id": "qO3CO83hF2a_"
    },
    {
      "cell_type": "code",
      "execution_count": 26,
      "metadata": {
        "id": "-P8HI1OFF2a_",
        "outputId": "514e03ee-188f-4932-a3b0-5dfa223dc415",
        "colab": {
          "base_uri": "https://localhost:8080/"
        }
      },
      "outputs": [
        {
          "output_type": "execute_result",
          "data": {
            "text/plain": [
              "0.2632135306553911"
            ]
          },
          "metadata": {},
          "execution_count": 26
        }
      ],
      "source": [
        "churn_male = df_full_train[df_full_train.gender == 'male'].churn.mean()\n",
        "churn_male"
      ],
      "id": "-P8HI1OFF2a_"
    },
    {
      "cell_type": "code",
      "execution_count": 27,
      "metadata": {
        "id": "ccdRRchxF2bA",
        "outputId": "c3f2ebef-508d-4087-cf2c-fc95907ace0a",
        "colab": {
          "base_uri": "https://localhost:8080/"
        }
      },
      "outputs": [
        {
          "output_type": "execute_result",
          "data": {
            "text/plain": [
              "0.26996805111821087"
            ]
          },
          "metadata": {},
          "execution_count": 27
        }
      ],
      "source": [
        "global_churn = df_full_train.churn.mean()\n",
        "global_churn"
      ],
      "id": "ccdRRchxF2bA"
    },
    {
      "cell_type": "code",
      "execution_count": 28,
      "metadata": {
        "id": "mZR5uJZPF2bA",
        "outputId": "d07112dd-16f1-4bb3-eb59-f8293f160a01",
        "colab": {
          "base_uri": "https://localhost:8080/"
        }
      },
      "outputs": [
        {
          "output_type": "execute_result",
          "data": {
            "text/plain": [
              "-0.006855983216553063"
            ]
          },
          "metadata": {},
          "execution_count": 28
        }
      ],
      "source": [
        "global_churn - churn_female"
      ],
      "id": "mZR5uJZPF2bA"
    },
    {
      "cell_type": "code",
      "execution_count": 29,
      "metadata": {
        "id": "GfA23T34F2bB",
        "outputId": "50894fa8-7e8a-4278-a1fa-94e826a9282c",
        "colab": {
          "base_uri": "https://localhost:8080/"
        }
      },
      "outputs": [
        {
          "output_type": "execute_result",
          "data": {
            "text/plain": [
              "0.006754520462819769"
            ]
          },
          "metadata": {},
          "execution_count": 29
        }
      ],
      "source": [
        "global_churn - churn_male"
      ],
      "id": "GfA23T34F2bB"
    },
    {
      "cell_type": "code",
      "execution_count": 30,
      "metadata": {
        "id": "U01gWiitF2bB",
        "outputId": "a9ff11a6-b45b-4d01-b5fd-b93501910576",
        "colab": {
          "base_uri": "https://localhost:8080/"
        }
      },
      "outputs": [
        {
          "output_type": "execute_result",
          "data": {
            "text/plain": [
              "no     2932\n",
              "yes    2702\n",
              "Name: partner, dtype: int64"
            ]
          },
          "metadata": {},
          "execution_count": 30
        }
      ],
      "source": [
        "df_full_train.partner.value_counts()"
      ],
      "id": "U01gWiitF2bB"
    },
    {
      "cell_type": "code",
      "execution_count": 31,
      "metadata": {
        "id": "txJpq5cfF2bC",
        "outputId": "ca670bd2-f3ec-4320-aaf2-57f5011d1c9b",
        "colab": {
          "base_uri": "https://localhost:8080/"
        }
      },
      "outputs": [
        {
          "output_type": "execute_result",
          "data": {
            "text/plain": [
              "0.20503330866025166"
            ]
          },
          "metadata": {},
          "execution_count": 31
        }
      ],
      "source": [
        "churn_partner = df_full_train[df_full_train.partner == 'yes'].churn.mean()\n",
        "churn_partner"
      ],
      "id": "txJpq5cfF2bC"
    },
    {
      "cell_type": "code",
      "execution_count": 32,
      "metadata": {
        "id": "O2BmMEyDF2bC",
        "outputId": "58b6b0b5-7b58-41bc-dead-8f484d0e5d24",
        "colab": {
          "base_uri": "https://localhost:8080/"
        }
      },
      "outputs": [
        {
          "output_type": "execute_result",
          "data": {
            "text/plain": [
              "0.06493474245795922"
            ]
          },
          "metadata": {},
          "execution_count": 32
        }
      ],
      "source": [
        "global_churn - churn_partner"
      ],
      "id": "O2BmMEyDF2bC"
    },
    {
      "cell_type": "code",
      "execution_count": 33,
      "metadata": {
        "id": "dmwLC8NEF2bC",
        "outputId": "77fe3a96-0cae-4ef7-d4a3-8b1caec606c5",
        "colab": {
          "base_uri": "https://localhost:8080/"
        }
      },
      "outputs": [
        {
          "output_type": "execute_result",
          "data": {
            "text/plain": [
              "0.3298090040927694"
            ]
          },
          "metadata": {},
          "execution_count": 33
        }
      ],
      "source": [
        "churn_no_partner = df_full_train[df_full_train.partner == 'no'].churn.mean()\n",
        "churn_no_partner"
      ],
      "id": "dmwLC8NEF2bC"
    },
    {
      "cell_type": "code",
      "execution_count": 34,
      "metadata": {
        "id": "_Qr8IFvuF2bD",
        "outputId": "8cc073d3-496c-454d-df1b-cdbebde21023",
        "colab": {
          "base_uri": "https://localhost:8080/"
        }
      },
      "outputs": [
        {
          "output_type": "execute_result",
          "data": {
            "text/plain": [
              "-0.05984095297455855"
            ]
          },
          "metadata": {},
          "execution_count": 34
        }
      ],
      "source": [
        "global_churn - churn_no_partner"
      ],
      "id": "_Qr8IFvuF2bD"
    },
    {
      "cell_type": "markdown",
      "metadata": {
        "id": "AXFZp1kyF2bD"
      },
      "source": [
        "#### Risk ratio"
      ],
      "id": "AXFZp1kyF2bD"
    },
    {
      "cell_type": "code",
      "execution_count": 35,
      "metadata": {
        "id": "JvtPTPhFF2bD",
        "outputId": "2b41090b-5ab4-4f3a-a242-1973a26d8edf",
        "colab": {
          "base_uri": "https://localhost:8080/"
        }
      },
      "outputs": [
        {
          "output_type": "execute_result",
          "data": {
            "text/plain": [
              "1.2216593879412643"
            ]
          },
          "metadata": {},
          "execution_count": 35
        }
      ],
      "source": [
        "churn_no_partner / global_churn"
      ],
      "id": "JvtPTPhFF2bD"
    },
    {
      "cell_type": "code",
      "execution_count": 36,
      "metadata": {
        "id": "gLePc6tyF2bE",
        "outputId": "620cede8-23a1-4af2-d9eb-ca445fcffe1c",
        "colab": {
          "base_uri": "https://localhost:8080/"
        }
      },
      "outputs": [
        {
          "output_type": "execute_result",
          "data": {
            "text/plain": [
              "0.7594724924338315"
            ]
          },
          "metadata": {},
          "execution_count": 36
        }
      ],
      "source": [
        "churn_partner / global_churn"
      ],
      "id": "gLePc6tyF2bE"
    },
    {
      "cell_type": "markdown",
      "metadata": {
        "id": "NXZArjEyF2bE"
      },
      "source": [
        "```\n",
        "SELECT\n",
        "    gender,\n",
        "    AVG(churn),\n",
        "    AVG(churn) - global_churn AS diff,\n",
        "    AVG(churn) / global_churn AS risk\n",
        "FROM\n",
        "    data\n",
        "GROUP BY\n",
        "    gender;\n",
        "```"
      ],
      "id": "NXZArjEyF2bE"
    },
    {
      "cell_type": "code",
      "execution_count": 37,
      "metadata": {
        "id": "_iqiZ8ooF2bF"
      },
      "outputs": [],
      "source": [
        "from IPython.display import display"
      ],
      "id": "_iqiZ8ooF2bF"
    },
    {
      "cell_type": "code",
      "execution_count": 38,
      "metadata": {
        "id": "TxdF2ucqF2bF",
        "outputId": "0b9f4574-fb6e-4451-c49e-030ad313a508",
        "colab": {
          "base_uri": "https://localhost:8080/",
          "height": 0
        }
      },
      "outputs": [
        {
          "output_type": "stream",
          "name": "stdout",
          "text": [
            "gender\n"
          ]
        },
        {
          "output_type": "display_data",
          "data": {
            "text/plain": [
              "            mean  count      diff      risk\n",
              "gender                                     \n",
              "female  0.276824   2796  0.006856  1.025396\n",
              "male    0.263214   2838 -0.006755  0.974980"
            ],
            "text/html": [
              "\n",
              "  <div id=\"df-27b63fe9-2c20-402e-b100-7f9ae823c3a7\">\n",
              "    <div class=\"colab-df-container\">\n",
              "      <div>\n",
              "<style scoped>\n",
              "    .dataframe tbody tr th:only-of-type {\n",
              "        vertical-align: middle;\n",
              "    }\n",
              "\n",
              "    .dataframe tbody tr th {\n",
              "        vertical-align: top;\n",
              "    }\n",
              "\n",
              "    .dataframe thead th {\n",
              "        text-align: right;\n",
              "    }\n",
              "</style>\n",
              "<table border=\"1\" class=\"dataframe\">\n",
              "  <thead>\n",
              "    <tr style=\"text-align: right;\">\n",
              "      <th></th>\n",
              "      <th>mean</th>\n",
              "      <th>count</th>\n",
              "      <th>diff</th>\n",
              "      <th>risk</th>\n",
              "    </tr>\n",
              "    <tr>\n",
              "      <th>gender</th>\n",
              "      <th></th>\n",
              "      <th></th>\n",
              "      <th></th>\n",
              "      <th></th>\n",
              "    </tr>\n",
              "  </thead>\n",
              "  <tbody>\n",
              "    <tr>\n",
              "      <th>female</th>\n",
              "      <td>0.276824</td>\n",
              "      <td>2796</td>\n",
              "      <td>0.006856</td>\n",
              "      <td>1.025396</td>\n",
              "    </tr>\n",
              "    <tr>\n",
              "      <th>male</th>\n",
              "      <td>0.263214</td>\n",
              "      <td>2838</td>\n",
              "      <td>-0.006755</td>\n",
              "      <td>0.974980</td>\n",
              "    </tr>\n",
              "  </tbody>\n",
              "</table>\n",
              "</div>\n",
              "      <button class=\"colab-df-convert\" onclick=\"convertToInteractive('df-27b63fe9-2c20-402e-b100-7f9ae823c3a7')\"\n",
              "              title=\"Convert this dataframe to an interactive table.\"\n",
              "              style=\"display:none;\">\n",
              "        \n",
              "  <svg xmlns=\"http://www.w3.org/2000/svg\" height=\"24px\"viewBox=\"0 0 24 24\"\n",
              "       width=\"24px\">\n",
              "    <path d=\"M0 0h24v24H0V0z\" fill=\"none\"/>\n",
              "    <path d=\"M18.56 5.44l.94 2.06.94-2.06 2.06-.94-2.06-.94-.94-2.06-.94 2.06-2.06.94zm-11 1L8.5 8.5l.94-2.06 2.06-.94-2.06-.94L8.5 2.5l-.94 2.06-2.06.94zm10 10l.94 2.06.94-2.06 2.06-.94-2.06-.94-.94-2.06-.94 2.06-2.06.94z\"/><path d=\"M17.41 7.96l-1.37-1.37c-.4-.4-.92-.59-1.43-.59-.52 0-1.04.2-1.43.59L10.3 9.45l-7.72 7.72c-.78.78-.78 2.05 0 2.83L4 21.41c.39.39.9.59 1.41.59.51 0 1.02-.2 1.41-.59l7.78-7.78 2.81-2.81c.8-.78.8-2.07 0-2.86zM5.41 20L4 18.59l7.72-7.72 1.47 1.35L5.41 20z\"/>\n",
              "  </svg>\n",
              "      </button>\n",
              "      \n",
              "  <style>\n",
              "    .colab-df-container {\n",
              "      display:flex;\n",
              "      flex-wrap:wrap;\n",
              "      gap: 12px;\n",
              "    }\n",
              "\n",
              "    .colab-df-convert {\n",
              "      background-color: #E8F0FE;\n",
              "      border: none;\n",
              "      border-radius: 50%;\n",
              "      cursor: pointer;\n",
              "      display: none;\n",
              "      fill: #1967D2;\n",
              "      height: 32px;\n",
              "      padding: 0 0 0 0;\n",
              "      width: 32px;\n",
              "    }\n",
              "\n",
              "    .colab-df-convert:hover {\n",
              "      background-color: #E2EBFA;\n",
              "      box-shadow: 0px 1px 2px rgba(60, 64, 67, 0.3), 0px 1px 3px 1px rgba(60, 64, 67, 0.15);\n",
              "      fill: #174EA6;\n",
              "    }\n",
              "\n",
              "    [theme=dark] .colab-df-convert {\n",
              "      background-color: #3B4455;\n",
              "      fill: #D2E3FC;\n",
              "    }\n",
              "\n",
              "    [theme=dark] .colab-df-convert:hover {\n",
              "      background-color: #434B5C;\n",
              "      box-shadow: 0px 1px 3px 1px rgba(0, 0, 0, 0.15);\n",
              "      filter: drop-shadow(0px 1px 2px rgba(0, 0, 0, 0.3));\n",
              "      fill: #FFFFFF;\n",
              "    }\n",
              "  </style>\n",
              "\n",
              "      <script>\n",
              "        const buttonEl =\n",
              "          document.querySelector('#df-27b63fe9-2c20-402e-b100-7f9ae823c3a7 button.colab-df-convert');\n",
              "        buttonEl.style.display =\n",
              "          google.colab.kernel.accessAllowed ? 'block' : 'none';\n",
              "\n",
              "        async function convertToInteractive(key) {\n",
              "          const element = document.querySelector('#df-27b63fe9-2c20-402e-b100-7f9ae823c3a7');\n",
              "          const dataTable =\n",
              "            await google.colab.kernel.invokeFunction('convertToInteractive',\n",
              "                                                     [key], {});\n",
              "          if (!dataTable) return;\n",
              "\n",
              "          const docLinkHtml = 'Like what you see? Visit the ' +\n",
              "            '<a target=\"_blank\" href=https://colab.research.google.com/notebooks/data_table.ipynb>data table notebook</a>'\n",
              "            + ' to learn more about interactive tables.';\n",
              "          element.innerHTML = '';\n",
              "          dataTable['output_type'] = 'display_data';\n",
              "          await google.colab.output.renderOutput(dataTable, element);\n",
              "          const docLink = document.createElement('div');\n",
              "          docLink.innerHTML = docLinkHtml;\n",
              "          element.appendChild(docLink);\n",
              "        }\n",
              "      </script>\n",
              "    </div>\n",
              "  </div>\n",
              "  "
            ]
          },
          "metadata": {}
        },
        {
          "output_type": "stream",
          "name": "stdout",
          "text": [
            "\n",
            "\n",
            "seniorcitizen\n"
          ]
        },
        {
          "output_type": "display_data",
          "data": {
            "text/plain": [
              "                   mean  count      diff      risk\n",
              "seniorcitizen                                     \n",
              "0              0.242270   4722 -0.027698  0.897403\n",
              "1              0.413377    912  0.143409  1.531208"
            ],
            "text/html": [
              "\n",
              "  <div id=\"df-40d097ff-7217-46e1-b25e-0563cb1e4854\">\n",
              "    <div class=\"colab-df-container\">\n",
              "      <div>\n",
              "<style scoped>\n",
              "    .dataframe tbody tr th:only-of-type {\n",
              "        vertical-align: middle;\n",
              "    }\n",
              "\n",
              "    .dataframe tbody tr th {\n",
              "        vertical-align: top;\n",
              "    }\n",
              "\n",
              "    .dataframe thead th {\n",
              "        text-align: right;\n",
              "    }\n",
              "</style>\n",
              "<table border=\"1\" class=\"dataframe\">\n",
              "  <thead>\n",
              "    <tr style=\"text-align: right;\">\n",
              "      <th></th>\n",
              "      <th>mean</th>\n",
              "      <th>count</th>\n",
              "      <th>diff</th>\n",
              "      <th>risk</th>\n",
              "    </tr>\n",
              "    <tr>\n",
              "      <th>seniorcitizen</th>\n",
              "      <th></th>\n",
              "      <th></th>\n",
              "      <th></th>\n",
              "      <th></th>\n",
              "    </tr>\n",
              "  </thead>\n",
              "  <tbody>\n",
              "    <tr>\n",
              "      <th>0</th>\n",
              "      <td>0.242270</td>\n",
              "      <td>4722</td>\n",
              "      <td>-0.027698</td>\n",
              "      <td>0.897403</td>\n",
              "    </tr>\n",
              "    <tr>\n",
              "      <th>1</th>\n",
              "      <td>0.413377</td>\n",
              "      <td>912</td>\n",
              "      <td>0.143409</td>\n",
              "      <td>1.531208</td>\n",
              "    </tr>\n",
              "  </tbody>\n",
              "</table>\n",
              "</div>\n",
              "      <button class=\"colab-df-convert\" onclick=\"convertToInteractive('df-40d097ff-7217-46e1-b25e-0563cb1e4854')\"\n",
              "              title=\"Convert this dataframe to an interactive table.\"\n",
              "              style=\"display:none;\">\n",
              "        \n",
              "  <svg xmlns=\"http://www.w3.org/2000/svg\" height=\"24px\"viewBox=\"0 0 24 24\"\n",
              "       width=\"24px\">\n",
              "    <path d=\"M0 0h24v24H0V0z\" fill=\"none\"/>\n",
              "    <path d=\"M18.56 5.44l.94 2.06.94-2.06 2.06-.94-2.06-.94-.94-2.06-.94 2.06-2.06.94zm-11 1L8.5 8.5l.94-2.06 2.06-.94-2.06-.94L8.5 2.5l-.94 2.06-2.06.94zm10 10l.94 2.06.94-2.06 2.06-.94-2.06-.94-.94-2.06-.94 2.06-2.06.94z\"/><path d=\"M17.41 7.96l-1.37-1.37c-.4-.4-.92-.59-1.43-.59-.52 0-1.04.2-1.43.59L10.3 9.45l-7.72 7.72c-.78.78-.78 2.05 0 2.83L4 21.41c.39.39.9.59 1.41.59.51 0 1.02-.2 1.41-.59l7.78-7.78 2.81-2.81c.8-.78.8-2.07 0-2.86zM5.41 20L4 18.59l7.72-7.72 1.47 1.35L5.41 20z\"/>\n",
              "  </svg>\n",
              "      </button>\n",
              "      \n",
              "  <style>\n",
              "    .colab-df-container {\n",
              "      display:flex;\n",
              "      flex-wrap:wrap;\n",
              "      gap: 12px;\n",
              "    }\n",
              "\n",
              "    .colab-df-convert {\n",
              "      background-color: #E8F0FE;\n",
              "      border: none;\n",
              "      border-radius: 50%;\n",
              "      cursor: pointer;\n",
              "      display: none;\n",
              "      fill: #1967D2;\n",
              "      height: 32px;\n",
              "      padding: 0 0 0 0;\n",
              "      width: 32px;\n",
              "    }\n",
              "\n",
              "    .colab-df-convert:hover {\n",
              "      background-color: #E2EBFA;\n",
              "      box-shadow: 0px 1px 2px rgba(60, 64, 67, 0.3), 0px 1px 3px 1px rgba(60, 64, 67, 0.15);\n",
              "      fill: #174EA6;\n",
              "    }\n",
              "\n",
              "    [theme=dark] .colab-df-convert {\n",
              "      background-color: #3B4455;\n",
              "      fill: #D2E3FC;\n",
              "    }\n",
              "\n",
              "    [theme=dark] .colab-df-convert:hover {\n",
              "      background-color: #434B5C;\n",
              "      box-shadow: 0px 1px 3px 1px rgba(0, 0, 0, 0.15);\n",
              "      filter: drop-shadow(0px 1px 2px rgba(0, 0, 0, 0.3));\n",
              "      fill: #FFFFFF;\n",
              "    }\n",
              "  </style>\n",
              "\n",
              "      <script>\n",
              "        const buttonEl =\n",
              "          document.querySelector('#df-40d097ff-7217-46e1-b25e-0563cb1e4854 button.colab-df-convert');\n",
              "        buttonEl.style.display =\n",
              "          google.colab.kernel.accessAllowed ? 'block' : 'none';\n",
              "\n",
              "        async function convertToInteractive(key) {\n",
              "          const element = document.querySelector('#df-40d097ff-7217-46e1-b25e-0563cb1e4854');\n",
              "          const dataTable =\n",
              "            await google.colab.kernel.invokeFunction('convertToInteractive',\n",
              "                                                     [key], {});\n",
              "          if (!dataTable) return;\n",
              "\n",
              "          const docLinkHtml = 'Like what you see? Visit the ' +\n",
              "            '<a target=\"_blank\" href=https://colab.research.google.com/notebooks/data_table.ipynb>data table notebook</a>'\n",
              "            + ' to learn more about interactive tables.';\n",
              "          element.innerHTML = '';\n",
              "          dataTable['output_type'] = 'display_data';\n",
              "          await google.colab.output.renderOutput(dataTable, element);\n",
              "          const docLink = document.createElement('div');\n",
              "          docLink.innerHTML = docLinkHtml;\n",
              "          element.appendChild(docLink);\n",
              "        }\n",
              "      </script>\n",
              "    </div>\n",
              "  </div>\n",
              "  "
            ]
          },
          "metadata": {}
        },
        {
          "output_type": "stream",
          "name": "stdout",
          "text": [
            "\n",
            "\n",
            "partner\n"
          ]
        },
        {
          "output_type": "display_data",
          "data": {
            "text/plain": [
              "             mean  count      diff      risk\n",
              "partner                                     \n",
              "no       0.329809   2932  0.059841  1.221659\n",
              "yes      0.205033   2702 -0.064935  0.759472"
            ],
            "text/html": [
              "\n",
              "  <div id=\"df-530ab809-038a-4261-acc3-c32b9ad9257b\">\n",
              "    <div class=\"colab-df-container\">\n",
              "      <div>\n",
              "<style scoped>\n",
              "    .dataframe tbody tr th:only-of-type {\n",
              "        vertical-align: middle;\n",
              "    }\n",
              "\n",
              "    .dataframe tbody tr th {\n",
              "        vertical-align: top;\n",
              "    }\n",
              "\n",
              "    .dataframe thead th {\n",
              "        text-align: right;\n",
              "    }\n",
              "</style>\n",
              "<table border=\"1\" class=\"dataframe\">\n",
              "  <thead>\n",
              "    <tr style=\"text-align: right;\">\n",
              "      <th></th>\n",
              "      <th>mean</th>\n",
              "      <th>count</th>\n",
              "      <th>diff</th>\n",
              "      <th>risk</th>\n",
              "    </tr>\n",
              "    <tr>\n",
              "      <th>partner</th>\n",
              "      <th></th>\n",
              "      <th></th>\n",
              "      <th></th>\n",
              "      <th></th>\n",
              "    </tr>\n",
              "  </thead>\n",
              "  <tbody>\n",
              "    <tr>\n",
              "      <th>no</th>\n",
              "      <td>0.329809</td>\n",
              "      <td>2932</td>\n",
              "      <td>0.059841</td>\n",
              "      <td>1.221659</td>\n",
              "    </tr>\n",
              "    <tr>\n",
              "      <th>yes</th>\n",
              "      <td>0.205033</td>\n",
              "      <td>2702</td>\n",
              "      <td>-0.064935</td>\n",
              "      <td>0.759472</td>\n",
              "    </tr>\n",
              "  </tbody>\n",
              "</table>\n",
              "</div>\n",
              "      <button class=\"colab-df-convert\" onclick=\"convertToInteractive('df-530ab809-038a-4261-acc3-c32b9ad9257b')\"\n",
              "              title=\"Convert this dataframe to an interactive table.\"\n",
              "              style=\"display:none;\">\n",
              "        \n",
              "  <svg xmlns=\"http://www.w3.org/2000/svg\" height=\"24px\"viewBox=\"0 0 24 24\"\n",
              "       width=\"24px\">\n",
              "    <path d=\"M0 0h24v24H0V0z\" fill=\"none\"/>\n",
              "    <path d=\"M18.56 5.44l.94 2.06.94-2.06 2.06-.94-2.06-.94-.94-2.06-.94 2.06-2.06.94zm-11 1L8.5 8.5l.94-2.06 2.06-.94-2.06-.94L8.5 2.5l-.94 2.06-2.06.94zm10 10l.94 2.06.94-2.06 2.06-.94-2.06-.94-.94-2.06-.94 2.06-2.06.94z\"/><path d=\"M17.41 7.96l-1.37-1.37c-.4-.4-.92-.59-1.43-.59-.52 0-1.04.2-1.43.59L10.3 9.45l-7.72 7.72c-.78.78-.78 2.05 0 2.83L4 21.41c.39.39.9.59 1.41.59.51 0 1.02-.2 1.41-.59l7.78-7.78 2.81-2.81c.8-.78.8-2.07 0-2.86zM5.41 20L4 18.59l7.72-7.72 1.47 1.35L5.41 20z\"/>\n",
              "  </svg>\n",
              "      </button>\n",
              "      \n",
              "  <style>\n",
              "    .colab-df-container {\n",
              "      display:flex;\n",
              "      flex-wrap:wrap;\n",
              "      gap: 12px;\n",
              "    }\n",
              "\n",
              "    .colab-df-convert {\n",
              "      background-color: #E8F0FE;\n",
              "      border: none;\n",
              "      border-radius: 50%;\n",
              "      cursor: pointer;\n",
              "      display: none;\n",
              "      fill: #1967D2;\n",
              "      height: 32px;\n",
              "      padding: 0 0 0 0;\n",
              "      width: 32px;\n",
              "    }\n",
              "\n",
              "    .colab-df-convert:hover {\n",
              "      background-color: #E2EBFA;\n",
              "      box-shadow: 0px 1px 2px rgba(60, 64, 67, 0.3), 0px 1px 3px 1px rgba(60, 64, 67, 0.15);\n",
              "      fill: #174EA6;\n",
              "    }\n",
              "\n",
              "    [theme=dark] .colab-df-convert {\n",
              "      background-color: #3B4455;\n",
              "      fill: #D2E3FC;\n",
              "    }\n",
              "\n",
              "    [theme=dark] .colab-df-convert:hover {\n",
              "      background-color: #434B5C;\n",
              "      box-shadow: 0px 1px 3px 1px rgba(0, 0, 0, 0.15);\n",
              "      filter: drop-shadow(0px 1px 2px rgba(0, 0, 0, 0.3));\n",
              "      fill: #FFFFFF;\n",
              "    }\n",
              "  </style>\n",
              "\n",
              "      <script>\n",
              "        const buttonEl =\n",
              "          document.querySelector('#df-530ab809-038a-4261-acc3-c32b9ad9257b button.colab-df-convert');\n",
              "        buttonEl.style.display =\n",
              "          google.colab.kernel.accessAllowed ? 'block' : 'none';\n",
              "\n",
              "        async function convertToInteractive(key) {\n",
              "          const element = document.querySelector('#df-530ab809-038a-4261-acc3-c32b9ad9257b');\n",
              "          const dataTable =\n",
              "            await google.colab.kernel.invokeFunction('convertToInteractive',\n",
              "                                                     [key], {});\n",
              "          if (!dataTable) return;\n",
              "\n",
              "          const docLinkHtml = 'Like what you see? Visit the ' +\n",
              "            '<a target=\"_blank\" href=https://colab.research.google.com/notebooks/data_table.ipynb>data table notebook</a>'\n",
              "            + ' to learn more about interactive tables.';\n",
              "          element.innerHTML = '';\n",
              "          dataTable['output_type'] = 'display_data';\n",
              "          await google.colab.output.renderOutput(dataTable, element);\n",
              "          const docLink = document.createElement('div');\n",
              "          docLink.innerHTML = docLinkHtml;\n",
              "          element.appendChild(docLink);\n",
              "        }\n",
              "      </script>\n",
              "    </div>\n",
              "  </div>\n",
              "  "
            ]
          },
          "metadata": {}
        },
        {
          "output_type": "stream",
          "name": "stdout",
          "text": [
            "\n",
            "\n",
            "dependents\n"
          ]
        },
        {
          "output_type": "display_data",
          "data": {
            "text/plain": [
              "                mean  count      diff      risk\n",
              "dependents                                     \n",
              "no          0.313760   3968  0.043792  1.162212\n",
              "yes         0.165666   1666 -0.104302  0.613651"
            ],
            "text/html": [
              "\n",
              "  <div id=\"df-3703126d-d46a-46d3-b47f-c95609de30bd\">\n",
              "    <div class=\"colab-df-container\">\n",
              "      <div>\n",
              "<style scoped>\n",
              "    .dataframe tbody tr th:only-of-type {\n",
              "        vertical-align: middle;\n",
              "    }\n",
              "\n",
              "    .dataframe tbody tr th {\n",
              "        vertical-align: top;\n",
              "    }\n",
              "\n",
              "    .dataframe thead th {\n",
              "        text-align: right;\n",
              "    }\n",
              "</style>\n",
              "<table border=\"1\" class=\"dataframe\">\n",
              "  <thead>\n",
              "    <tr style=\"text-align: right;\">\n",
              "      <th></th>\n",
              "      <th>mean</th>\n",
              "      <th>count</th>\n",
              "      <th>diff</th>\n",
              "      <th>risk</th>\n",
              "    </tr>\n",
              "    <tr>\n",
              "      <th>dependents</th>\n",
              "      <th></th>\n",
              "      <th></th>\n",
              "      <th></th>\n",
              "      <th></th>\n",
              "    </tr>\n",
              "  </thead>\n",
              "  <tbody>\n",
              "    <tr>\n",
              "      <th>no</th>\n",
              "      <td>0.313760</td>\n",
              "      <td>3968</td>\n",
              "      <td>0.043792</td>\n",
              "      <td>1.162212</td>\n",
              "    </tr>\n",
              "    <tr>\n",
              "      <th>yes</th>\n",
              "      <td>0.165666</td>\n",
              "      <td>1666</td>\n",
              "      <td>-0.104302</td>\n",
              "      <td>0.613651</td>\n",
              "    </tr>\n",
              "  </tbody>\n",
              "</table>\n",
              "</div>\n",
              "      <button class=\"colab-df-convert\" onclick=\"convertToInteractive('df-3703126d-d46a-46d3-b47f-c95609de30bd')\"\n",
              "              title=\"Convert this dataframe to an interactive table.\"\n",
              "              style=\"display:none;\">\n",
              "        \n",
              "  <svg xmlns=\"http://www.w3.org/2000/svg\" height=\"24px\"viewBox=\"0 0 24 24\"\n",
              "       width=\"24px\">\n",
              "    <path d=\"M0 0h24v24H0V0z\" fill=\"none\"/>\n",
              "    <path d=\"M18.56 5.44l.94 2.06.94-2.06 2.06-.94-2.06-.94-.94-2.06-.94 2.06-2.06.94zm-11 1L8.5 8.5l.94-2.06 2.06-.94-2.06-.94L8.5 2.5l-.94 2.06-2.06.94zm10 10l.94 2.06.94-2.06 2.06-.94-2.06-.94-.94-2.06-.94 2.06-2.06.94z\"/><path d=\"M17.41 7.96l-1.37-1.37c-.4-.4-.92-.59-1.43-.59-.52 0-1.04.2-1.43.59L10.3 9.45l-7.72 7.72c-.78.78-.78 2.05 0 2.83L4 21.41c.39.39.9.59 1.41.59.51 0 1.02-.2 1.41-.59l7.78-7.78 2.81-2.81c.8-.78.8-2.07 0-2.86zM5.41 20L4 18.59l7.72-7.72 1.47 1.35L5.41 20z\"/>\n",
              "  </svg>\n",
              "      </button>\n",
              "      \n",
              "  <style>\n",
              "    .colab-df-container {\n",
              "      display:flex;\n",
              "      flex-wrap:wrap;\n",
              "      gap: 12px;\n",
              "    }\n",
              "\n",
              "    .colab-df-convert {\n",
              "      background-color: #E8F0FE;\n",
              "      border: none;\n",
              "      border-radius: 50%;\n",
              "      cursor: pointer;\n",
              "      display: none;\n",
              "      fill: #1967D2;\n",
              "      height: 32px;\n",
              "      padding: 0 0 0 0;\n",
              "      width: 32px;\n",
              "    }\n",
              "\n",
              "    .colab-df-convert:hover {\n",
              "      background-color: #E2EBFA;\n",
              "      box-shadow: 0px 1px 2px rgba(60, 64, 67, 0.3), 0px 1px 3px 1px rgba(60, 64, 67, 0.15);\n",
              "      fill: #174EA6;\n",
              "    }\n",
              "\n",
              "    [theme=dark] .colab-df-convert {\n",
              "      background-color: #3B4455;\n",
              "      fill: #D2E3FC;\n",
              "    }\n",
              "\n",
              "    [theme=dark] .colab-df-convert:hover {\n",
              "      background-color: #434B5C;\n",
              "      box-shadow: 0px 1px 3px 1px rgba(0, 0, 0, 0.15);\n",
              "      filter: drop-shadow(0px 1px 2px rgba(0, 0, 0, 0.3));\n",
              "      fill: #FFFFFF;\n",
              "    }\n",
              "  </style>\n",
              "\n",
              "      <script>\n",
              "        const buttonEl =\n",
              "          document.querySelector('#df-3703126d-d46a-46d3-b47f-c95609de30bd button.colab-df-convert');\n",
              "        buttonEl.style.display =\n",
              "          google.colab.kernel.accessAllowed ? 'block' : 'none';\n",
              "\n",
              "        async function convertToInteractive(key) {\n",
              "          const element = document.querySelector('#df-3703126d-d46a-46d3-b47f-c95609de30bd');\n",
              "          const dataTable =\n",
              "            await google.colab.kernel.invokeFunction('convertToInteractive',\n",
              "                                                     [key], {});\n",
              "          if (!dataTable) return;\n",
              "\n",
              "          const docLinkHtml = 'Like what you see? Visit the ' +\n",
              "            '<a target=\"_blank\" href=https://colab.research.google.com/notebooks/data_table.ipynb>data table notebook</a>'\n",
              "            + ' to learn more about interactive tables.';\n",
              "          element.innerHTML = '';\n",
              "          dataTable['output_type'] = 'display_data';\n",
              "          await google.colab.output.renderOutput(dataTable, element);\n",
              "          const docLink = document.createElement('div');\n",
              "          docLink.innerHTML = docLinkHtml;\n",
              "          element.appendChild(docLink);\n",
              "        }\n",
              "      </script>\n",
              "    </div>\n",
              "  </div>\n",
              "  "
            ]
          },
          "metadata": {}
        },
        {
          "output_type": "stream",
          "name": "stdout",
          "text": [
            "\n",
            "\n",
            "phoneservice\n"
          ]
        },
        {
          "output_type": "display_data",
          "data": {
            "text/plain": [
              "                  mean  count      diff      risk\n",
              "phoneservice                                     \n",
              "no            0.241316    547 -0.028652  0.893870\n",
              "yes           0.273049   5087  0.003081  1.011412"
            ],
            "text/html": [
              "\n",
              "  <div id=\"df-e3122085-d38c-4cd3-a949-9ea2ec4257a9\">\n",
              "    <div class=\"colab-df-container\">\n",
              "      <div>\n",
              "<style scoped>\n",
              "    .dataframe tbody tr th:only-of-type {\n",
              "        vertical-align: middle;\n",
              "    }\n",
              "\n",
              "    .dataframe tbody tr th {\n",
              "        vertical-align: top;\n",
              "    }\n",
              "\n",
              "    .dataframe thead th {\n",
              "        text-align: right;\n",
              "    }\n",
              "</style>\n",
              "<table border=\"1\" class=\"dataframe\">\n",
              "  <thead>\n",
              "    <tr style=\"text-align: right;\">\n",
              "      <th></th>\n",
              "      <th>mean</th>\n",
              "      <th>count</th>\n",
              "      <th>diff</th>\n",
              "      <th>risk</th>\n",
              "    </tr>\n",
              "    <tr>\n",
              "      <th>phoneservice</th>\n",
              "      <th></th>\n",
              "      <th></th>\n",
              "      <th></th>\n",
              "      <th></th>\n",
              "    </tr>\n",
              "  </thead>\n",
              "  <tbody>\n",
              "    <tr>\n",
              "      <th>no</th>\n",
              "      <td>0.241316</td>\n",
              "      <td>547</td>\n",
              "      <td>-0.028652</td>\n",
              "      <td>0.893870</td>\n",
              "    </tr>\n",
              "    <tr>\n",
              "      <th>yes</th>\n",
              "      <td>0.273049</td>\n",
              "      <td>5087</td>\n",
              "      <td>0.003081</td>\n",
              "      <td>1.011412</td>\n",
              "    </tr>\n",
              "  </tbody>\n",
              "</table>\n",
              "</div>\n",
              "      <button class=\"colab-df-convert\" onclick=\"convertToInteractive('df-e3122085-d38c-4cd3-a949-9ea2ec4257a9')\"\n",
              "              title=\"Convert this dataframe to an interactive table.\"\n",
              "              style=\"display:none;\">\n",
              "        \n",
              "  <svg xmlns=\"http://www.w3.org/2000/svg\" height=\"24px\"viewBox=\"0 0 24 24\"\n",
              "       width=\"24px\">\n",
              "    <path d=\"M0 0h24v24H0V0z\" fill=\"none\"/>\n",
              "    <path d=\"M18.56 5.44l.94 2.06.94-2.06 2.06-.94-2.06-.94-.94-2.06-.94 2.06-2.06.94zm-11 1L8.5 8.5l.94-2.06 2.06-.94-2.06-.94L8.5 2.5l-.94 2.06-2.06.94zm10 10l.94 2.06.94-2.06 2.06-.94-2.06-.94-.94-2.06-.94 2.06-2.06.94z\"/><path d=\"M17.41 7.96l-1.37-1.37c-.4-.4-.92-.59-1.43-.59-.52 0-1.04.2-1.43.59L10.3 9.45l-7.72 7.72c-.78.78-.78 2.05 0 2.83L4 21.41c.39.39.9.59 1.41.59.51 0 1.02-.2 1.41-.59l7.78-7.78 2.81-2.81c.8-.78.8-2.07 0-2.86zM5.41 20L4 18.59l7.72-7.72 1.47 1.35L5.41 20z\"/>\n",
              "  </svg>\n",
              "      </button>\n",
              "      \n",
              "  <style>\n",
              "    .colab-df-container {\n",
              "      display:flex;\n",
              "      flex-wrap:wrap;\n",
              "      gap: 12px;\n",
              "    }\n",
              "\n",
              "    .colab-df-convert {\n",
              "      background-color: #E8F0FE;\n",
              "      border: none;\n",
              "      border-radius: 50%;\n",
              "      cursor: pointer;\n",
              "      display: none;\n",
              "      fill: #1967D2;\n",
              "      height: 32px;\n",
              "      padding: 0 0 0 0;\n",
              "      width: 32px;\n",
              "    }\n",
              "\n",
              "    .colab-df-convert:hover {\n",
              "      background-color: #E2EBFA;\n",
              "      box-shadow: 0px 1px 2px rgba(60, 64, 67, 0.3), 0px 1px 3px 1px rgba(60, 64, 67, 0.15);\n",
              "      fill: #174EA6;\n",
              "    }\n",
              "\n",
              "    [theme=dark] .colab-df-convert {\n",
              "      background-color: #3B4455;\n",
              "      fill: #D2E3FC;\n",
              "    }\n",
              "\n",
              "    [theme=dark] .colab-df-convert:hover {\n",
              "      background-color: #434B5C;\n",
              "      box-shadow: 0px 1px 3px 1px rgba(0, 0, 0, 0.15);\n",
              "      filter: drop-shadow(0px 1px 2px rgba(0, 0, 0, 0.3));\n",
              "      fill: #FFFFFF;\n",
              "    }\n",
              "  </style>\n",
              "\n",
              "      <script>\n",
              "        const buttonEl =\n",
              "          document.querySelector('#df-e3122085-d38c-4cd3-a949-9ea2ec4257a9 button.colab-df-convert');\n",
              "        buttonEl.style.display =\n",
              "          google.colab.kernel.accessAllowed ? 'block' : 'none';\n",
              "\n",
              "        async function convertToInteractive(key) {\n",
              "          const element = document.querySelector('#df-e3122085-d38c-4cd3-a949-9ea2ec4257a9');\n",
              "          const dataTable =\n",
              "            await google.colab.kernel.invokeFunction('convertToInteractive',\n",
              "                                                     [key], {});\n",
              "          if (!dataTable) return;\n",
              "\n",
              "          const docLinkHtml = 'Like what you see? Visit the ' +\n",
              "            '<a target=\"_blank\" href=https://colab.research.google.com/notebooks/data_table.ipynb>data table notebook</a>'\n",
              "            + ' to learn more about interactive tables.';\n",
              "          element.innerHTML = '';\n",
              "          dataTable['output_type'] = 'display_data';\n",
              "          await google.colab.output.renderOutput(dataTable, element);\n",
              "          const docLink = document.createElement('div');\n",
              "          docLink.innerHTML = docLinkHtml;\n",
              "          element.appendChild(docLink);\n",
              "        }\n",
              "      </script>\n",
              "    </div>\n",
              "  </div>\n",
              "  "
            ]
          },
          "metadata": {}
        },
        {
          "output_type": "stream",
          "name": "stdout",
          "text": [
            "\n",
            "\n",
            "multiplelines\n"
          ]
        },
        {
          "output_type": "display_data",
          "data": {
            "text/plain": [
              "                      mean  count      diff      risk\n",
              "multiplelines                                        \n",
              "no                0.257407   2700 -0.012561  0.953474\n",
              "no_phone_service  0.241316    547 -0.028652  0.893870\n",
              "yes               0.290742   2387  0.020773  1.076948"
            ],
            "text/html": [
              "\n",
              "  <div id=\"df-45b1f2e4-ba34-41bb-9946-9ee883494676\">\n",
              "    <div class=\"colab-df-container\">\n",
              "      <div>\n",
              "<style scoped>\n",
              "    .dataframe tbody tr th:only-of-type {\n",
              "        vertical-align: middle;\n",
              "    }\n",
              "\n",
              "    .dataframe tbody tr th {\n",
              "        vertical-align: top;\n",
              "    }\n",
              "\n",
              "    .dataframe thead th {\n",
              "        text-align: right;\n",
              "    }\n",
              "</style>\n",
              "<table border=\"1\" class=\"dataframe\">\n",
              "  <thead>\n",
              "    <tr style=\"text-align: right;\">\n",
              "      <th></th>\n",
              "      <th>mean</th>\n",
              "      <th>count</th>\n",
              "      <th>diff</th>\n",
              "      <th>risk</th>\n",
              "    </tr>\n",
              "    <tr>\n",
              "      <th>multiplelines</th>\n",
              "      <th></th>\n",
              "      <th></th>\n",
              "      <th></th>\n",
              "      <th></th>\n",
              "    </tr>\n",
              "  </thead>\n",
              "  <tbody>\n",
              "    <tr>\n",
              "      <th>no</th>\n",
              "      <td>0.257407</td>\n",
              "      <td>2700</td>\n",
              "      <td>-0.012561</td>\n",
              "      <td>0.953474</td>\n",
              "    </tr>\n",
              "    <tr>\n",
              "      <th>no_phone_service</th>\n",
              "      <td>0.241316</td>\n",
              "      <td>547</td>\n",
              "      <td>-0.028652</td>\n",
              "      <td>0.893870</td>\n",
              "    </tr>\n",
              "    <tr>\n",
              "      <th>yes</th>\n",
              "      <td>0.290742</td>\n",
              "      <td>2387</td>\n",
              "      <td>0.020773</td>\n",
              "      <td>1.076948</td>\n",
              "    </tr>\n",
              "  </tbody>\n",
              "</table>\n",
              "</div>\n",
              "      <button class=\"colab-df-convert\" onclick=\"convertToInteractive('df-45b1f2e4-ba34-41bb-9946-9ee883494676')\"\n",
              "              title=\"Convert this dataframe to an interactive table.\"\n",
              "              style=\"display:none;\">\n",
              "        \n",
              "  <svg xmlns=\"http://www.w3.org/2000/svg\" height=\"24px\"viewBox=\"0 0 24 24\"\n",
              "       width=\"24px\">\n",
              "    <path d=\"M0 0h24v24H0V0z\" fill=\"none\"/>\n",
              "    <path d=\"M18.56 5.44l.94 2.06.94-2.06 2.06-.94-2.06-.94-.94-2.06-.94 2.06-2.06.94zm-11 1L8.5 8.5l.94-2.06 2.06-.94-2.06-.94L8.5 2.5l-.94 2.06-2.06.94zm10 10l.94 2.06.94-2.06 2.06-.94-2.06-.94-.94-2.06-.94 2.06-2.06.94z\"/><path d=\"M17.41 7.96l-1.37-1.37c-.4-.4-.92-.59-1.43-.59-.52 0-1.04.2-1.43.59L10.3 9.45l-7.72 7.72c-.78.78-.78 2.05 0 2.83L4 21.41c.39.39.9.59 1.41.59.51 0 1.02-.2 1.41-.59l7.78-7.78 2.81-2.81c.8-.78.8-2.07 0-2.86zM5.41 20L4 18.59l7.72-7.72 1.47 1.35L5.41 20z\"/>\n",
              "  </svg>\n",
              "      </button>\n",
              "      \n",
              "  <style>\n",
              "    .colab-df-container {\n",
              "      display:flex;\n",
              "      flex-wrap:wrap;\n",
              "      gap: 12px;\n",
              "    }\n",
              "\n",
              "    .colab-df-convert {\n",
              "      background-color: #E8F0FE;\n",
              "      border: none;\n",
              "      border-radius: 50%;\n",
              "      cursor: pointer;\n",
              "      display: none;\n",
              "      fill: #1967D2;\n",
              "      height: 32px;\n",
              "      padding: 0 0 0 0;\n",
              "      width: 32px;\n",
              "    }\n",
              "\n",
              "    .colab-df-convert:hover {\n",
              "      background-color: #E2EBFA;\n",
              "      box-shadow: 0px 1px 2px rgba(60, 64, 67, 0.3), 0px 1px 3px 1px rgba(60, 64, 67, 0.15);\n",
              "      fill: #174EA6;\n",
              "    }\n",
              "\n",
              "    [theme=dark] .colab-df-convert {\n",
              "      background-color: #3B4455;\n",
              "      fill: #D2E3FC;\n",
              "    }\n",
              "\n",
              "    [theme=dark] .colab-df-convert:hover {\n",
              "      background-color: #434B5C;\n",
              "      box-shadow: 0px 1px 3px 1px rgba(0, 0, 0, 0.15);\n",
              "      filter: drop-shadow(0px 1px 2px rgba(0, 0, 0, 0.3));\n",
              "      fill: #FFFFFF;\n",
              "    }\n",
              "  </style>\n",
              "\n",
              "      <script>\n",
              "        const buttonEl =\n",
              "          document.querySelector('#df-45b1f2e4-ba34-41bb-9946-9ee883494676 button.colab-df-convert');\n",
              "        buttonEl.style.display =\n",
              "          google.colab.kernel.accessAllowed ? 'block' : 'none';\n",
              "\n",
              "        async function convertToInteractive(key) {\n",
              "          const element = document.querySelector('#df-45b1f2e4-ba34-41bb-9946-9ee883494676');\n",
              "          const dataTable =\n",
              "            await google.colab.kernel.invokeFunction('convertToInteractive',\n",
              "                                                     [key], {});\n",
              "          if (!dataTable) return;\n",
              "\n",
              "          const docLinkHtml = 'Like what you see? Visit the ' +\n",
              "            '<a target=\"_blank\" href=https://colab.research.google.com/notebooks/data_table.ipynb>data table notebook</a>'\n",
              "            + ' to learn more about interactive tables.';\n",
              "          element.innerHTML = '';\n",
              "          dataTable['output_type'] = 'display_data';\n",
              "          await google.colab.output.renderOutput(dataTable, element);\n",
              "          const docLink = document.createElement('div');\n",
              "          docLink.innerHTML = docLinkHtml;\n",
              "          element.appendChild(docLink);\n",
              "        }\n",
              "      </script>\n",
              "    </div>\n",
              "  </div>\n",
              "  "
            ]
          },
          "metadata": {}
        },
        {
          "output_type": "stream",
          "name": "stdout",
          "text": [
            "\n",
            "\n",
            "internetservice\n"
          ]
        },
        {
          "output_type": "display_data",
          "data": {
            "text/plain": [
              "                     mean  count      diff      risk\n",
              "internetservice                                     \n",
              "dsl              0.192347   1934 -0.077621  0.712482\n",
              "fiber_optic      0.425171   2479  0.155203  1.574895\n",
              "no               0.077805   1221 -0.192163  0.288201"
            ],
            "text/html": [
              "\n",
              "  <div id=\"df-0c4ce02b-778e-4425-af3c-04bce852b279\">\n",
              "    <div class=\"colab-df-container\">\n",
              "      <div>\n",
              "<style scoped>\n",
              "    .dataframe tbody tr th:only-of-type {\n",
              "        vertical-align: middle;\n",
              "    }\n",
              "\n",
              "    .dataframe tbody tr th {\n",
              "        vertical-align: top;\n",
              "    }\n",
              "\n",
              "    .dataframe thead th {\n",
              "        text-align: right;\n",
              "    }\n",
              "</style>\n",
              "<table border=\"1\" class=\"dataframe\">\n",
              "  <thead>\n",
              "    <tr style=\"text-align: right;\">\n",
              "      <th></th>\n",
              "      <th>mean</th>\n",
              "      <th>count</th>\n",
              "      <th>diff</th>\n",
              "      <th>risk</th>\n",
              "    </tr>\n",
              "    <tr>\n",
              "      <th>internetservice</th>\n",
              "      <th></th>\n",
              "      <th></th>\n",
              "      <th></th>\n",
              "      <th></th>\n",
              "    </tr>\n",
              "  </thead>\n",
              "  <tbody>\n",
              "    <tr>\n",
              "      <th>dsl</th>\n",
              "      <td>0.192347</td>\n",
              "      <td>1934</td>\n",
              "      <td>-0.077621</td>\n",
              "      <td>0.712482</td>\n",
              "    </tr>\n",
              "    <tr>\n",
              "      <th>fiber_optic</th>\n",
              "      <td>0.425171</td>\n",
              "      <td>2479</td>\n",
              "      <td>0.155203</td>\n",
              "      <td>1.574895</td>\n",
              "    </tr>\n",
              "    <tr>\n",
              "      <th>no</th>\n",
              "      <td>0.077805</td>\n",
              "      <td>1221</td>\n",
              "      <td>-0.192163</td>\n",
              "      <td>0.288201</td>\n",
              "    </tr>\n",
              "  </tbody>\n",
              "</table>\n",
              "</div>\n",
              "      <button class=\"colab-df-convert\" onclick=\"convertToInteractive('df-0c4ce02b-778e-4425-af3c-04bce852b279')\"\n",
              "              title=\"Convert this dataframe to an interactive table.\"\n",
              "              style=\"display:none;\">\n",
              "        \n",
              "  <svg xmlns=\"http://www.w3.org/2000/svg\" height=\"24px\"viewBox=\"0 0 24 24\"\n",
              "       width=\"24px\">\n",
              "    <path d=\"M0 0h24v24H0V0z\" fill=\"none\"/>\n",
              "    <path d=\"M18.56 5.44l.94 2.06.94-2.06 2.06-.94-2.06-.94-.94-2.06-.94 2.06-2.06.94zm-11 1L8.5 8.5l.94-2.06 2.06-.94-2.06-.94L8.5 2.5l-.94 2.06-2.06.94zm10 10l.94 2.06.94-2.06 2.06-.94-2.06-.94-.94-2.06-.94 2.06-2.06.94z\"/><path d=\"M17.41 7.96l-1.37-1.37c-.4-.4-.92-.59-1.43-.59-.52 0-1.04.2-1.43.59L10.3 9.45l-7.72 7.72c-.78.78-.78 2.05 0 2.83L4 21.41c.39.39.9.59 1.41.59.51 0 1.02-.2 1.41-.59l7.78-7.78 2.81-2.81c.8-.78.8-2.07 0-2.86zM5.41 20L4 18.59l7.72-7.72 1.47 1.35L5.41 20z\"/>\n",
              "  </svg>\n",
              "      </button>\n",
              "      \n",
              "  <style>\n",
              "    .colab-df-container {\n",
              "      display:flex;\n",
              "      flex-wrap:wrap;\n",
              "      gap: 12px;\n",
              "    }\n",
              "\n",
              "    .colab-df-convert {\n",
              "      background-color: #E8F0FE;\n",
              "      border: none;\n",
              "      border-radius: 50%;\n",
              "      cursor: pointer;\n",
              "      display: none;\n",
              "      fill: #1967D2;\n",
              "      height: 32px;\n",
              "      padding: 0 0 0 0;\n",
              "      width: 32px;\n",
              "    }\n",
              "\n",
              "    .colab-df-convert:hover {\n",
              "      background-color: #E2EBFA;\n",
              "      box-shadow: 0px 1px 2px rgba(60, 64, 67, 0.3), 0px 1px 3px 1px rgba(60, 64, 67, 0.15);\n",
              "      fill: #174EA6;\n",
              "    }\n",
              "\n",
              "    [theme=dark] .colab-df-convert {\n",
              "      background-color: #3B4455;\n",
              "      fill: #D2E3FC;\n",
              "    }\n",
              "\n",
              "    [theme=dark] .colab-df-convert:hover {\n",
              "      background-color: #434B5C;\n",
              "      box-shadow: 0px 1px 3px 1px rgba(0, 0, 0, 0.15);\n",
              "      filter: drop-shadow(0px 1px 2px rgba(0, 0, 0, 0.3));\n",
              "      fill: #FFFFFF;\n",
              "    }\n",
              "  </style>\n",
              "\n",
              "      <script>\n",
              "        const buttonEl =\n",
              "          document.querySelector('#df-0c4ce02b-778e-4425-af3c-04bce852b279 button.colab-df-convert');\n",
              "        buttonEl.style.display =\n",
              "          google.colab.kernel.accessAllowed ? 'block' : 'none';\n",
              "\n",
              "        async function convertToInteractive(key) {\n",
              "          const element = document.querySelector('#df-0c4ce02b-778e-4425-af3c-04bce852b279');\n",
              "          const dataTable =\n",
              "            await google.colab.kernel.invokeFunction('convertToInteractive',\n",
              "                                                     [key], {});\n",
              "          if (!dataTable) return;\n",
              "\n",
              "          const docLinkHtml = 'Like what you see? Visit the ' +\n",
              "            '<a target=\"_blank\" href=https://colab.research.google.com/notebooks/data_table.ipynb>data table notebook</a>'\n",
              "            + ' to learn more about interactive tables.';\n",
              "          element.innerHTML = '';\n",
              "          dataTable['output_type'] = 'display_data';\n",
              "          await google.colab.output.renderOutput(dataTable, element);\n",
              "          const docLink = document.createElement('div');\n",
              "          docLink.innerHTML = docLinkHtml;\n",
              "          element.appendChild(docLink);\n",
              "        }\n",
              "      </script>\n",
              "    </div>\n",
              "  </div>\n",
              "  "
            ]
          },
          "metadata": {}
        },
        {
          "output_type": "stream",
          "name": "stdout",
          "text": [
            "\n",
            "\n",
            "onlinesecurity\n"
          ]
        },
        {
          "output_type": "display_data",
          "data": {
            "text/plain": [
              "                         mean  count      diff      risk\n",
              "onlinesecurity                                          \n",
              "no                   0.420921   2801  0.150953  1.559152\n",
              "no_internet_service  0.077805   1221 -0.192163  0.288201\n",
              "yes                  0.153226   1612 -0.116742  0.567570"
            ],
            "text/html": [
              "\n",
              "  <div id=\"df-d20dd6cb-e866-42b0-873e-5bd7c8af29c1\">\n",
              "    <div class=\"colab-df-container\">\n",
              "      <div>\n",
              "<style scoped>\n",
              "    .dataframe tbody tr th:only-of-type {\n",
              "        vertical-align: middle;\n",
              "    }\n",
              "\n",
              "    .dataframe tbody tr th {\n",
              "        vertical-align: top;\n",
              "    }\n",
              "\n",
              "    .dataframe thead th {\n",
              "        text-align: right;\n",
              "    }\n",
              "</style>\n",
              "<table border=\"1\" class=\"dataframe\">\n",
              "  <thead>\n",
              "    <tr style=\"text-align: right;\">\n",
              "      <th></th>\n",
              "      <th>mean</th>\n",
              "      <th>count</th>\n",
              "      <th>diff</th>\n",
              "      <th>risk</th>\n",
              "    </tr>\n",
              "    <tr>\n",
              "      <th>onlinesecurity</th>\n",
              "      <th></th>\n",
              "      <th></th>\n",
              "      <th></th>\n",
              "      <th></th>\n",
              "    </tr>\n",
              "  </thead>\n",
              "  <tbody>\n",
              "    <tr>\n",
              "      <th>no</th>\n",
              "      <td>0.420921</td>\n",
              "      <td>2801</td>\n",
              "      <td>0.150953</td>\n",
              "      <td>1.559152</td>\n",
              "    </tr>\n",
              "    <tr>\n",
              "      <th>no_internet_service</th>\n",
              "      <td>0.077805</td>\n",
              "      <td>1221</td>\n",
              "      <td>-0.192163</td>\n",
              "      <td>0.288201</td>\n",
              "    </tr>\n",
              "    <tr>\n",
              "      <th>yes</th>\n",
              "      <td>0.153226</td>\n",
              "      <td>1612</td>\n",
              "      <td>-0.116742</td>\n",
              "      <td>0.567570</td>\n",
              "    </tr>\n",
              "  </tbody>\n",
              "</table>\n",
              "</div>\n",
              "      <button class=\"colab-df-convert\" onclick=\"convertToInteractive('df-d20dd6cb-e866-42b0-873e-5bd7c8af29c1')\"\n",
              "              title=\"Convert this dataframe to an interactive table.\"\n",
              "              style=\"display:none;\">\n",
              "        \n",
              "  <svg xmlns=\"http://www.w3.org/2000/svg\" height=\"24px\"viewBox=\"0 0 24 24\"\n",
              "       width=\"24px\">\n",
              "    <path d=\"M0 0h24v24H0V0z\" fill=\"none\"/>\n",
              "    <path d=\"M18.56 5.44l.94 2.06.94-2.06 2.06-.94-2.06-.94-.94-2.06-.94 2.06-2.06.94zm-11 1L8.5 8.5l.94-2.06 2.06-.94-2.06-.94L8.5 2.5l-.94 2.06-2.06.94zm10 10l.94 2.06.94-2.06 2.06-.94-2.06-.94-.94-2.06-.94 2.06-2.06.94z\"/><path d=\"M17.41 7.96l-1.37-1.37c-.4-.4-.92-.59-1.43-.59-.52 0-1.04.2-1.43.59L10.3 9.45l-7.72 7.72c-.78.78-.78 2.05 0 2.83L4 21.41c.39.39.9.59 1.41.59.51 0 1.02-.2 1.41-.59l7.78-7.78 2.81-2.81c.8-.78.8-2.07 0-2.86zM5.41 20L4 18.59l7.72-7.72 1.47 1.35L5.41 20z\"/>\n",
              "  </svg>\n",
              "      </button>\n",
              "      \n",
              "  <style>\n",
              "    .colab-df-container {\n",
              "      display:flex;\n",
              "      flex-wrap:wrap;\n",
              "      gap: 12px;\n",
              "    }\n",
              "\n",
              "    .colab-df-convert {\n",
              "      background-color: #E8F0FE;\n",
              "      border: none;\n",
              "      border-radius: 50%;\n",
              "      cursor: pointer;\n",
              "      display: none;\n",
              "      fill: #1967D2;\n",
              "      height: 32px;\n",
              "      padding: 0 0 0 0;\n",
              "      width: 32px;\n",
              "    }\n",
              "\n",
              "    .colab-df-convert:hover {\n",
              "      background-color: #E2EBFA;\n",
              "      box-shadow: 0px 1px 2px rgba(60, 64, 67, 0.3), 0px 1px 3px 1px rgba(60, 64, 67, 0.15);\n",
              "      fill: #174EA6;\n",
              "    }\n",
              "\n",
              "    [theme=dark] .colab-df-convert {\n",
              "      background-color: #3B4455;\n",
              "      fill: #D2E3FC;\n",
              "    }\n",
              "\n",
              "    [theme=dark] .colab-df-convert:hover {\n",
              "      background-color: #434B5C;\n",
              "      box-shadow: 0px 1px 3px 1px rgba(0, 0, 0, 0.15);\n",
              "      filter: drop-shadow(0px 1px 2px rgba(0, 0, 0, 0.3));\n",
              "      fill: #FFFFFF;\n",
              "    }\n",
              "  </style>\n",
              "\n",
              "      <script>\n",
              "        const buttonEl =\n",
              "          document.querySelector('#df-d20dd6cb-e866-42b0-873e-5bd7c8af29c1 button.colab-df-convert');\n",
              "        buttonEl.style.display =\n",
              "          google.colab.kernel.accessAllowed ? 'block' : 'none';\n",
              "\n",
              "        async function convertToInteractive(key) {\n",
              "          const element = document.querySelector('#df-d20dd6cb-e866-42b0-873e-5bd7c8af29c1');\n",
              "          const dataTable =\n",
              "            await google.colab.kernel.invokeFunction('convertToInteractive',\n",
              "                                                     [key], {});\n",
              "          if (!dataTable) return;\n",
              "\n",
              "          const docLinkHtml = 'Like what you see? Visit the ' +\n",
              "            '<a target=\"_blank\" href=https://colab.research.google.com/notebooks/data_table.ipynb>data table notebook</a>'\n",
              "            + ' to learn more about interactive tables.';\n",
              "          element.innerHTML = '';\n",
              "          dataTable['output_type'] = 'display_data';\n",
              "          await google.colab.output.renderOutput(dataTable, element);\n",
              "          const docLink = document.createElement('div');\n",
              "          docLink.innerHTML = docLinkHtml;\n",
              "          element.appendChild(docLink);\n",
              "        }\n",
              "      </script>\n",
              "    </div>\n",
              "  </div>\n",
              "  "
            ]
          },
          "metadata": {}
        },
        {
          "output_type": "stream",
          "name": "stdout",
          "text": [
            "\n",
            "\n",
            "onlinebackup\n"
          ]
        },
        {
          "output_type": "display_data",
          "data": {
            "text/plain": [
              "                         mean  count      diff      risk\n",
              "onlinebackup                                            \n",
              "no                   0.404323   2498  0.134355  1.497672\n",
              "no_internet_service  0.077805   1221 -0.192163  0.288201\n",
              "yes                  0.217232   1915 -0.052736  0.804660"
            ],
            "text/html": [
              "\n",
              "  <div id=\"df-3907aa96-a97f-4131-9e9a-87aeb831fc7d\">\n",
              "    <div class=\"colab-df-container\">\n",
              "      <div>\n",
              "<style scoped>\n",
              "    .dataframe tbody tr th:only-of-type {\n",
              "        vertical-align: middle;\n",
              "    }\n",
              "\n",
              "    .dataframe tbody tr th {\n",
              "        vertical-align: top;\n",
              "    }\n",
              "\n",
              "    .dataframe thead th {\n",
              "        text-align: right;\n",
              "    }\n",
              "</style>\n",
              "<table border=\"1\" class=\"dataframe\">\n",
              "  <thead>\n",
              "    <tr style=\"text-align: right;\">\n",
              "      <th></th>\n",
              "      <th>mean</th>\n",
              "      <th>count</th>\n",
              "      <th>diff</th>\n",
              "      <th>risk</th>\n",
              "    </tr>\n",
              "    <tr>\n",
              "      <th>onlinebackup</th>\n",
              "      <th></th>\n",
              "      <th></th>\n",
              "      <th></th>\n",
              "      <th></th>\n",
              "    </tr>\n",
              "  </thead>\n",
              "  <tbody>\n",
              "    <tr>\n",
              "      <th>no</th>\n",
              "      <td>0.404323</td>\n",
              "      <td>2498</td>\n",
              "      <td>0.134355</td>\n",
              "      <td>1.497672</td>\n",
              "    </tr>\n",
              "    <tr>\n",
              "      <th>no_internet_service</th>\n",
              "      <td>0.077805</td>\n",
              "      <td>1221</td>\n",
              "      <td>-0.192163</td>\n",
              "      <td>0.288201</td>\n",
              "    </tr>\n",
              "    <tr>\n",
              "      <th>yes</th>\n",
              "      <td>0.217232</td>\n",
              "      <td>1915</td>\n",
              "      <td>-0.052736</td>\n",
              "      <td>0.804660</td>\n",
              "    </tr>\n",
              "  </tbody>\n",
              "</table>\n",
              "</div>\n",
              "      <button class=\"colab-df-convert\" onclick=\"convertToInteractive('df-3907aa96-a97f-4131-9e9a-87aeb831fc7d')\"\n",
              "              title=\"Convert this dataframe to an interactive table.\"\n",
              "              style=\"display:none;\">\n",
              "        \n",
              "  <svg xmlns=\"http://www.w3.org/2000/svg\" height=\"24px\"viewBox=\"0 0 24 24\"\n",
              "       width=\"24px\">\n",
              "    <path d=\"M0 0h24v24H0V0z\" fill=\"none\"/>\n",
              "    <path d=\"M18.56 5.44l.94 2.06.94-2.06 2.06-.94-2.06-.94-.94-2.06-.94 2.06-2.06.94zm-11 1L8.5 8.5l.94-2.06 2.06-.94-2.06-.94L8.5 2.5l-.94 2.06-2.06.94zm10 10l.94 2.06.94-2.06 2.06-.94-2.06-.94-.94-2.06-.94 2.06-2.06.94z\"/><path d=\"M17.41 7.96l-1.37-1.37c-.4-.4-.92-.59-1.43-.59-.52 0-1.04.2-1.43.59L10.3 9.45l-7.72 7.72c-.78.78-.78 2.05 0 2.83L4 21.41c.39.39.9.59 1.41.59.51 0 1.02-.2 1.41-.59l7.78-7.78 2.81-2.81c.8-.78.8-2.07 0-2.86zM5.41 20L4 18.59l7.72-7.72 1.47 1.35L5.41 20z\"/>\n",
              "  </svg>\n",
              "      </button>\n",
              "      \n",
              "  <style>\n",
              "    .colab-df-container {\n",
              "      display:flex;\n",
              "      flex-wrap:wrap;\n",
              "      gap: 12px;\n",
              "    }\n",
              "\n",
              "    .colab-df-convert {\n",
              "      background-color: #E8F0FE;\n",
              "      border: none;\n",
              "      border-radius: 50%;\n",
              "      cursor: pointer;\n",
              "      display: none;\n",
              "      fill: #1967D2;\n",
              "      height: 32px;\n",
              "      padding: 0 0 0 0;\n",
              "      width: 32px;\n",
              "    }\n",
              "\n",
              "    .colab-df-convert:hover {\n",
              "      background-color: #E2EBFA;\n",
              "      box-shadow: 0px 1px 2px rgba(60, 64, 67, 0.3), 0px 1px 3px 1px rgba(60, 64, 67, 0.15);\n",
              "      fill: #174EA6;\n",
              "    }\n",
              "\n",
              "    [theme=dark] .colab-df-convert {\n",
              "      background-color: #3B4455;\n",
              "      fill: #D2E3FC;\n",
              "    }\n",
              "\n",
              "    [theme=dark] .colab-df-convert:hover {\n",
              "      background-color: #434B5C;\n",
              "      box-shadow: 0px 1px 3px 1px rgba(0, 0, 0, 0.15);\n",
              "      filter: drop-shadow(0px 1px 2px rgba(0, 0, 0, 0.3));\n",
              "      fill: #FFFFFF;\n",
              "    }\n",
              "  </style>\n",
              "\n",
              "      <script>\n",
              "        const buttonEl =\n",
              "          document.querySelector('#df-3907aa96-a97f-4131-9e9a-87aeb831fc7d button.colab-df-convert');\n",
              "        buttonEl.style.display =\n",
              "          google.colab.kernel.accessAllowed ? 'block' : 'none';\n",
              "\n",
              "        async function convertToInteractive(key) {\n",
              "          const element = document.querySelector('#df-3907aa96-a97f-4131-9e9a-87aeb831fc7d');\n",
              "          const dataTable =\n",
              "            await google.colab.kernel.invokeFunction('convertToInteractive',\n",
              "                                                     [key], {});\n",
              "          if (!dataTable) return;\n",
              "\n",
              "          const docLinkHtml = 'Like what you see? Visit the ' +\n",
              "            '<a target=\"_blank\" href=https://colab.research.google.com/notebooks/data_table.ipynb>data table notebook</a>'\n",
              "            + ' to learn more about interactive tables.';\n",
              "          element.innerHTML = '';\n",
              "          dataTable['output_type'] = 'display_data';\n",
              "          await google.colab.output.renderOutput(dataTable, element);\n",
              "          const docLink = document.createElement('div');\n",
              "          docLink.innerHTML = docLinkHtml;\n",
              "          element.appendChild(docLink);\n",
              "        }\n",
              "      </script>\n",
              "    </div>\n",
              "  </div>\n",
              "  "
            ]
          },
          "metadata": {}
        },
        {
          "output_type": "stream",
          "name": "stdout",
          "text": [
            "\n",
            "\n",
            "deviceprotection\n"
          ]
        },
        {
          "output_type": "display_data",
          "data": {
            "text/plain": [
              "                         mean  count      diff      risk\n",
              "deviceprotection                                        \n",
              "no                   0.395875   2473  0.125907  1.466379\n",
              "no_internet_service  0.077805   1221 -0.192163  0.288201\n",
              "yes                  0.230412   1940 -0.039556  0.853480"
            ],
            "text/html": [
              "\n",
              "  <div id=\"df-a3254dfd-918f-4e47-aeb2-69f66d0a1452\">\n",
              "    <div class=\"colab-df-container\">\n",
              "      <div>\n",
              "<style scoped>\n",
              "    .dataframe tbody tr th:only-of-type {\n",
              "        vertical-align: middle;\n",
              "    }\n",
              "\n",
              "    .dataframe tbody tr th {\n",
              "        vertical-align: top;\n",
              "    }\n",
              "\n",
              "    .dataframe thead th {\n",
              "        text-align: right;\n",
              "    }\n",
              "</style>\n",
              "<table border=\"1\" class=\"dataframe\">\n",
              "  <thead>\n",
              "    <tr style=\"text-align: right;\">\n",
              "      <th></th>\n",
              "      <th>mean</th>\n",
              "      <th>count</th>\n",
              "      <th>diff</th>\n",
              "      <th>risk</th>\n",
              "    </tr>\n",
              "    <tr>\n",
              "      <th>deviceprotection</th>\n",
              "      <th></th>\n",
              "      <th></th>\n",
              "      <th></th>\n",
              "      <th></th>\n",
              "    </tr>\n",
              "  </thead>\n",
              "  <tbody>\n",
              "    <tr>\n",
              "      <th>no</th>\n",
              "      <td>0.395875</td>\n",
              "      <td>2473</td>\n",
              "      <td>0.125907</td>\n",
              "      <td>1.466379</td>\n",
              "    </tr>\n",
              "    <tr>\n",
              "      <th>no_internet_service</th>\n",
              "      <td>0.077805</td>\n",
              "      <td>1221</td>\n",
              "      <td>-0.192163</td>\n",
              "      <td>0.288201</td>\n",
              "    </tr>\n",
              "    <tr>\n",
              "      <th>yes</th>\n",
              "      <td>0.230412</td>\n",
              "      <td>1940</td>\n",
              "      <td>-0.039556</td>\n",
              "      <td>0.853480</td>\n",
              "    </tr>\n",
              "  </tbody>\n",
              "</table>\n",
              "</div>\n",
              "      <button class=\"colab-df-convert\" onclick=\"convertToInteractive('df-a3254dfd-918f-4e47-aeb2-69f66d0a1452')\"\n",
              "              title=\"Convert this dataframe to an interactive table.\"\n",
              "              style=\"display:none;\">\n",
              "        \n",
              "  <svg xmlns=\"http://www.w3.org/2000/svg\" height=\"24px\"viewBox=\"0 0 24 24\"\n",
              "       width=\"24px\">\n",
              "    <path d=\"M0 0h24v24H0V0z\" fill=\"none\"/>\n",
              "    <path d=\"M18.56 5.44l.94 2.06.94-2.06 2.06-.94-2.06-.94-.94-2.06-.94 2.06-2.06.94zm-11 1L8.5 8.5l.94-2.06 2.06-.94-2.06-.94L8.5 2.5l-.94 2.06-2.06.94zm10 10l.94 2.06.94-2.06 2.06-.94-2.06-.94-.94-2.06-.94 2.06-2.06.94z\"/><path d=\"M17.41 7.96l-1.37-1.37c-.4-.4-.92-.59-1.43-.59-.52 0-1.04.2-1.43.59L10.3 9.45l-7.72 7.72c-.78.78-.78 2.05 0 2.83L4 21.41c.39.39.9.59 1.41.59.51 0 1.02-.2 1.41-.59l7.78-7.78 2.81-2.81c.8-.78.8-2.07 0-2.86zM5.41 20L4 18.59l7.72-7.72 1.47 1.35L5.41 20z\"/>\n",
              "  </svg>\n",
              "      </button>\n",
              "      \n",
              "  <style>\n",
              "    .colab-df-container {\n",
              "      display:flex;\n",
              "      flex-wrap:wrap;\n",
              "      gap: 12px;\n",
              "    }\n",
              "\n",
              "    .colab-df-convert {\n",
              "      background-color: #E8F0FE;\n",
              "      border: none;\n",
              "      border-radius: 50%;\n",
              "      cursor: pointer;\n",
              "      display: none;\n",
              "      fill: #1967D2;\n",
              "      height: 32px;\n",
              "      padding: 0 0 0 0;\n",
              "      width: 32px;\n",
              "    }\n",
              "\n",
              "    .colab-df-convert:hover {\n",
              "      background-color: #E2EBFA;\n",
              "      box-shadow: 0px 1px 2px rgba(60, 64, 67, 0.3), 0px 1px 3px 1px rgba(60, 64, 67, 0.15);\n",
              "      fill: #174EA6;\n",
              "    }\n",
              "\n",
              "    [theme=dark] .colab-df-convert {\n",
              "      background-color: #3B4455;\n",
              "      fill: #D2E3FC;\n",
              "    }\n",
              "\n",
              "    [theme=dark] .colab-df-convert:hover {\n",
              "      background-color: #434B5C;\n",
              "      box-shadow: 0px 1px 3px 1px rgba(0, 0, 0, 0.15);\n",
              "      filter: drop-shadow(0px 1px 2px rgba(0, 0, 0, 0.3));\n",
              "      fill: #FFFFFF;\n",
              "    }\n",
              "  </style>\n",
              "\n",
              "      <script>\n",
              "        const buttonEl =\n",
              "          document.querySelector('#df-a3254dfd-918f-4e47-aeb2-69f66d0a1452 button.colab-df-convert');\n",
              "        buttonEl.style.display =\n",
              "          google.colab.kernel.accessAllowed ? 'block' : 'none';\n",
              "\n",
              "        async function convertToInteractive(key) {\n",
              "          const element = document.querySelector('#df-a3254dfd-918f-4e47-aeb2-69f66d0a1452');\n",
              "          const dataTable =\n",
              "            await google.colab.kernel.invokeFunction('convertToInteractive',\n",
              "                                                     [key], {});\n",
              "          if (!dataTable) return;\n",
              "\n",
              "          const docLinkHtml = 'Like what you see? Visit the ' +\n",
              "            '<a target=\"_blank\" href=https://colab.research.google.com/notebooks/data_table.ipynb>data table notebook</a>'\n",
              "            + ' to learn more about interactive tables.';\n",
              "          element.innerHTML = '';\n",
              "          dataTable['output_type'] = 'display_data';\n",
              "          await google.colab.output.renderOutput(dataTable, element);\n",
              "          const docLink = document.createElement('div');\n",
              "          docLink.innerHTML = docLinkHtml;\n",
              "          element.appendChild(docLink);\n",
              "        }\n",
              "      </script>\n",
              "    </div>\n",
              "  </div>\n",
              "  "
            ]
          },
          "metadata": {}
        },
        {
          "output_type": "stream",
          "name": "stdout",
          "text": [
            "\n",
            "\n",
            "techsupport\n"
          ]
        },
        {
          "output_type": "display_data",
          "data": {
            "text/plain": [
              "                         mean  count      diff      risk\n",
              "techsupport                                             \n",
              "no                   0.418914   2781  0.148946  1.551717\n",
              "no_internet_service  0.077805   1221 -0.192163  0.288201\n",
              "yes                  0.159926   1632 -0.110042  0.592390"
            ],
            "text/html": [
              "\n",
              "  <div id=\"df-880c4e0b-6138-4e61-beaa-6d6a432856b6\">\n",
              "    <div class=\"colab-df-container\">\n",
              "      <div>\n",
              "<style scoped>\n",
              "    .dataframe tbody tr th:only-of-type {\n",
              "        vertical-align: middle;\n",
              "    }\n",
              "\n",
              "    .dataframe tbody tr th {\n",
              "        vertical-align: top;\n",
              "    }\n",
              "\n",
              "    .dataframe thead th {\n",
              "        text-align: right;\n",
              "    }\n",
              "</style>\n",
              "<table border=\"1\" class=\"dataframe\">\n",
              "  <thead>\n",
              "    <tr style=\"text-align: right;\">\n",
              "      <th></th>\n",
              "      <th>mean</th>\n",
              "      <th>count</th>\n",
              "      <th>diff</th>\n",
              "      <th>risk</th>\n",
              "    </tr>\n",
              "    <tr>\n",
              "      <th>techsupport</th>\n",
              "      <th></th>\n",
              "      <th></th>\n",
              "      <th></th>\n",
              "      <th></th>\n",
              "    </tr>\n",
              "  </thead>\n",
              "  <tbody>\n",
              "    <tr>\n",
              "      <th>no</th>\n",
              "      <td>0.418914</td>\n",
              "      <td>2781</td>\n",
              "      <td>0.148946</td>\n",
              "      <td>1.551717</td>\n",
              "    </tr>\n",
              "    <tr>\n",
              "      <th>no_internet_service</th>\n",
              "      <td>0.077805</td>\n",
              "      <td>1221</td>\n",
              "      <td>-0.192163</td>\n",
              "      <td>0.288201</td>\n",
              "    </tr>\n",
              "    <tr>\n",
              "      <th>yes</th>\n",
              "      <td>0.159926</td>\n",
              "      <td>1632</td>\n",
              "      <td>-0.110042</td>\n",
              "      <td>0.592390</td>\n",
              "    </tr>\n",
              "  </tbody>\n",
              "</table>\n",
              "</div>\n",
              "      <button class=\"colab-df-convert\" onclick=\"convertToInteractive('df-880c4e0b-6138-4e61-beaa-6d6a432856b6')\"\n",
              "              title=\"Convert this dataframe to an interactive table.\"\n",
              "              style=\"display:none;\">\n",
              "        \n",
              "  <svg xmlns=\"http://www.w3.org/2000/svg\" height=\"24px\"viewBox=\"0 0 24 24\"\n",
              "       width=\"24px\">\n",
              "    <path d=\"M0 0h24v24H0V0z\" fill=\"none\"/>\n",
              "    <path d=\"M18.56 5.44l.94 2.06.94-2.06 2.06-.94-2.06-.94-.94-2.06-.94 2.06-2.06.94zm-11 1L8.5 8.5l.94-2.06 2.06-.94-2.06-.94L8.5 2.5l-.94 2.06-2.06.94zm10 10l.94 2.06.94-2.06 2.06-.94-2.06-.94-.94-2.06-.94 2.06-2.06.94z\"/><path d=\"M17.41 7.96l-1.37-1.37c-.4-.4-.92-.59-1.43-.59-.52 0-1.04.2-1.43.59L10.3 9.45l-7.72 7.72c-.78.78-.78 2.05 0 2.83L4 21.41c.39.39.9.59 1.41.59.51 0 1.02-.2 1.41-.59l7.78-7.78 2.81-2.81c.8-.78.8-2.07 0-2.86zM5.41 20L4 18.59l7.72-7.72 1.47 1.35L5.41 20z\"/>\n",
              "  </svg>\n",
              "      </button>\n",
              "      \n",
              "  <style>\n",
              "    .colab-df-container {\n",
              "      display:flex;\n",
              "      flex-wrap:wrap;\n",
              "      gap: 12px;\n",
              "    }\n",
              "\n",
              "    .colab-df-convert {\n",
              "      background-color: #E8F0FE;\n",
              "      border: none;\n",
              "      border-radius: 50%;\n",
              "      cursor: pointer;\n",
              "      display: none;\n",
              "      fill: #1967D2;\n",
              "      height: 32px;\n",
              "      padding: 0 0 0 0;\n",
              "      width: 32px;\n",
              "    }\n",
              "\n",
              "    .colab-df-convert:hover {\n",
              "      background-color: #E2EBFA;\n",
              "      box-shadow: 0px 1px 2px rgba(60, 64, 67, 0.3), 0px 1px 3px 1px rgba(60, 64, 67, 0.15);\n",
              "      fill: #174EA6;\n",
              "    }\n",
              "\n",
              "    [theme=dark] .colab-df-convert {\n",
              "      background-color: #3B4455;\n",
              "      fill: #D2E3FC;\n",
              "    }\n",
              "\n",
              "    [theme=dark] .colab-df-convert:hover {\n",
              "      background-color: #434B5C;\n",
              "      box-shadow: 0px 1px 3px 1px rgba(0, 0, 0, 0.15);\n",
              "      filter: drop-shadow(0px 1px 2px rgba(0, 0, 0, 0.3));\n",
              "      fill: #FFFFFF;\n",
              "    }\n",
              "  </style>\n",
              "\n",
              "      <script>\n",
              "        const buttonEl =\n",
              "          document.querySelector('#df-880c4e0b-6138-4e61-beaa-6d6a432856b6 button.colab-df-convert');\n",
              "        buttonEl.style.display =\n",
              "          google.colab.kernel.accessAllowed ? 'block' : 'none';\n",
              "\n",
              "        async function convertToInteractive(key) {\n",
              "          const element = document.querySelector('#df-880c4e0b-6138-4e61-beaa-6d6a432856b6');\n",
              "          const dataTable =\n",
              "            await google.colab.kernel.invokeFunction('convertToInteractive',\n",
              "                                                     [key], {});\n",
              "          if (!dataTable) return;\n",
              "\n",
              "          const docLinkHtml = 'Like what you see? Visit the ' +\n",
              "            '<a target=\"_blank\" href=https://colab.research.google.com/notebooks/data_table.ipynb>data table notebook</a>'\n",
              "            + ' to learn more about interactive tables.';\n",
              "          element.innerHTML = '';\n",
              "          dataTable['output_type'] = 'display_data';\n",
              "          await google.colab.output.renderOutput(dataTable, element);\n",
              "          const docLink = document.createElement('div');\n",
              "          docLink.innerHTML = docLinkHtml;\n",
              "          element.appendChild(docLink);\n",
              "        }\n",
              "      </script>\n",
              "    </div>\n",
              "  </div>\n",
              "  "
            ]
          },
          "metadata": {}
        },
        {
          "output_type": "stream",
          "name": "stdout",
          "text": [
            "\n",
            "\n",
            "streamingtv\n"
          ]
        },
        {
          "output_type": "display_data",
          "data": {
            "text/plain": [
              "                         mean  count      diff      risk\n",
              "streamingtv                                             \n",
              "no                   0.342832   2246  0.072864  1.269897\n",
              "no_internet_service  0.077805   1221 -0.192163  0.288201\n",
              "yes                  0.302723   2167  0.032755  1.121328"
            ],
            "text/html": [
              "\n",
              "  <div id=\"df-247e5a11-f442-4290-a2b3-0a3d37b14053\">\n",
              "    <div class=\"colab-df-container\">\n",
              "      <div>\n",
              "<style scoped>\n",
              "    .dataframe tbody tr th:only-of-type {\n",
              "        vertical-align: middle;\n",
              "    }\n",
              "\n",
              "    .dataframe tbody tr th {\n",
              "        vertical-align: top;\n",
              "    }\n",
              "\n",
              "    .dataframe thead th {\n",
              "        text-align: right;\n",
              "    }\n",
              "</style>\n",
              "<table border=\"1\" class=\"dataframe\">\n",
              "  <thead>\n",
              "    <tr style=\"text-align: right;\">\n",
              "      <th></th>\n",
              "      <th>mean</th>\n",
              "      <th>count</th>\n",
              "      <th>diff</th>\n",
              "      <th>risk</th>\n",
              "    </tr>\n",
              "    <tr>\n",
              "      <th>streamingtv</th>\n",
              "      <th></th>\n",
              "      <th></th>\n",
              "      <th></th>\n",
              "      <th></th>\n",
              "    </tr>\n",
              "  </thead>\n",
              "  <tbody>\n",
              "    <tr>\n",
              "      <th>no</th>\n",
              "      <td>0.342832</td>\n",
              "      <td>2246</td>\n",
              "      <td>0.072864</td>\n",
              "      <td>1.269897</td>\n",
              "    </tr>\n",
              "    <tr>\n",
              "      <th>no_internet_service</th>\n",
              "      <td>0.077805</td>\n",
              "      <td>1221</td>\n",
              "      <td>-0.192163</td>\n",
              "      <td>0.288201</td>\n",
              "    </tr>\n",
              "    <tr>\n",
              "      <th>yes</th>\n",
              "      <td>0.302723</td>\n",
              "      <td>2167</td>\n",
              "      <td>0.032755</td>\n",
              "      <td>1.121328</td>\n",
              "    </tr>\n",
              "  </tbody>\n",
              "</table>\n",
              "</div>\n",
              "      <button class=\"colab-df-convert\" onclick=\"convertToInteractive('df-247e5a11-f442-4290-a2b3-0a3d37b14053')\"\n",
              "              title=\"Convert this dataframe to an interactive table.\"\n",
              "              style=\"display:none;\">\n",
              "        \n",
              "  <svg xmlns=\"http://www.w3.org/2000/svg\" height=\"24px\"viewBox=\"0 0 24 24\"\n",
              "       width=\"24px\">\n",
              "    <path d=\"M0 0h24v24H0V0z\" fill=\"none\"/>\n",
              "    <path d=\"M18.56 5.44l.94 2.06.94-2.06 2.06-.94-2.06-.94-.94-2.06-.94 2.06-2.06.94zm-11 1L8.5 8.5l.94-2.06 2.06-.94-2.06-.94L8.5 2.5l-.94 2.06-2.06.94zm10 10l.94 2.06.94-2.06 2.06-.94-2.06-.94-.94-2.06-.94 2.06-2.06.94z\"/><path d=\"M17.41 7.96l-1.37-1.37c-.4-.4-.92-.59-1.43-.59-.52 0-1.04.2-1.43.59L10.3 9.45l-7.72 7.72c-.78.78-.78 2.05 0 2.83L4 21.41c.39.39.9.59 1.41.59.51 0 1.02-.2 1.41-.59l7.78-7.78 2.81-2.81c.8-.78.8-2.07 0-2.86zM5.41 20L4 18.59l7.72-7.72 1.47 1.35L5.41 20z\"/>\n",
              "  </svg>\n",
              "      </button>\n",
              "      \n",
              "  <style>\n",
              "    .colab-df-container {\n",
              "      display:flex;\n",
              "      flex-wrap:wrap;\n",
              "      gap: 12px;\n",
              "    }\n",
              "\n",
              "    .colab-df-convert {\n",
              "      background-color: #E8F0FE;\n",
              "      border: none;\n",
              "      border-radius: 50%;\n",
              "      cursor: pointer;\n",
              "      display: none;\n",
              "      fill: #1967D2;\n",
              "      height: 32px;\n",
              "      padding: 0 0 0 0;\n",
              "      width: 32px;\n",
              "    }\n",
              "\n",
              "    .colab-df-convert:hover {\n",
              "      background-color: #E2EBFA;\n",
              "      box-shadow: 0px 1px 2px rgba(60, 64, 67, 0.3), 0px 1px 3px 1px rgba(60, 64, 67, 0.15);\n",
              "      fill: #174EA6;\n",
              "    }\n",
              "\n",
              "    [theme=dark] .colab-df-convert {\n",
              "      background-color: #3B4455;\n",
              "      fill: #D2E3FC;\n",
              "    }\n",
              "\n",
              "    [theme=dark] .colab-df-convert:hover {\n",
              "      background-color: #434B5C;\n",
              "      box-shadow: 0px 1px 3px 1px rgba(0, 0, 0, 0.15);\n",
              "      filter: drop-shadow(0px 1px 2px rgba(0, 0, 0, 0.3));\n",
              "      fill: #FFFFFF;\n",
              "    }\n",
              "  </style>\n",
              "\n",
              "      <script>\n",
              "        const buttonEl =\n",
              "          document.querySelector('#df-247e5a11-f442-4290-a2b3-0a3d37b14053 button.colab-df-convert');\n",
              "        buttonEl.style.display =\n",
              "          google.colab.kernel.accessAllowed ? 'block' : 'none';\n",
              "\n",
              "        async function convertToInteractive(key) {\n",
              "          const element = document.querySelector('#df-247e5a11-f442-4290-a2b3-0a3d37b14053');\n",
              "          const dataTable =\n",
              "            await google.colab.kernel.invokeFunction('convertToInteractive',\n",
              "                                                     [key], {});\n",
              "          if (!dataTable) return;\n",
              "\n",
              "          const docLinkHtml = 'Like what you see? Visit the ' +\n",
              "            '<a target=\"_blank\" href=https://colab.research.google.com/notebooks/data_table.ipynb>data table notebook</a>'\n",
              "            + ' to learn more about interactive tables.';\n",
              "          element.innerHTML = '';\n",
              "          dataTable['output_type'] = 'display_data';\n",
              "          await google.colab.output.renderOutput(dataTable, element);\n",
              "          const docLink = document.createElement('div');\n",
              "          docLink.innerHTML = docLinkHtml;\n",
              "          element.appendChild(docLink);\n",
              "        }\n",
              "      </script>\n",
              "    </div>\n",
              "  </div>\n",
              "  "
            ]
          },
          "metadata": {}
        },
        {
          "output_type": "stream",
          "name": "stdout",
          "text": [
            "\n",
            "\n",
            "streamingmovies\n"
          ]
        },
        {
          "output_type": "display_data",
          "data": {
            "text/plain": [
              "                         mean  count      diff      risk\n",
              "streamingmovies                                         \n",
              "no                   0.338906   2213  0.068938  1.255358\n",
              "no_internet_service  0.077805   1221 -0.192163  0.288201\n",
              "yes                  0.307273   2200  0.037305  1.138182"
            ],
            "text/html": [
              "\n",
              "  <div id=\"df-b3ac3051-0884-48c9-9ac8-b93477c73ddc\">\n",
              "    <div class=\"colab-df-container\">\n",
              "      <div>\n",
              "<style scoped>\n",
              "    .dataframe tbody tr th:only-of-type {\n",
              "        vertical-align: middle;\n",
              "    }\n",
              "\n",
              "    .dataframe tbody tr th {\n",
              "        vertical-align: top;\n",
              "    }\n",
              "\n",
              "    .dataframe thead th {\n",
              "        text-align: right;\n",
              "    }\n",
              "</style>\n",
              "<table border=\"1\" class=\"dataframe\">\n",
              "  <thead>\n",
              "    <tr style=\"text-align: right;\">\n",
              "      <th></th>\n",
              "      <th>mean</th>\n",
              "      <th>count</th>\n",
              "      <th>diff</th>\n",
              "      <th>risk</th>\n",
              "    </tr>\n",
              "    <tr>\n",
              "      <th>streamingmovies</th>\n",
              "      <th></th>\n",
              "      <th></th>\n",
              "      <th></th>\n",
              "      <th></th>\n",
              "    </tr>\n",
              "  </thead>\n",
              "  <tbody>\n",
              "    <tr>\n",
              "      <th>no</th>\n",
              "      <td>0.338906</td>\n",
              "      <td>2213</td>\n",
              "      <td>0.068938</td>\n",
              "      <td>1.255358</td>\n",
              "    </tr>\n",
              "    <tr>\n",
              "      <th>no_internet_service</th>\n",
              "      <td>0.077805</td>\n",
              "      <td>1221</td>\n",
              "      <td>-0.192163</td>\n",
              "      <td>0.288201</td>\n",
              "    </tr>\n",
              "    <tr>\n",
              "      <th>yes</th>\n",
              "      <td>0.307273</td>\n",
              "      <td>2200</td>\n",
              "      <td>0.037305</td>\n",
              "      <td>1.138182</td>\n",
              "    </tr>\n",
              "  </tbody>\n",
              "</table>\n",
              "</div>\n",
              "      <button class=\"colab-df-convert\" onclick=\"convertToInteractive('df-b3ac3051-0884-48c9-9ac8-b93477c73ddc')\"\n",
              "              title=\"Convert this dataframe to an interactive table.\"\n",
              "              style=\"display:none;\">\n",
              "        \n",
              "  <svg xmlns=\"http://www.w3.org/2000/svg\" height=\"24px\"viewBox=\"0 0 24 24\"\n",
              "       width=\"24px\">\n",
              "    <path d=\"M0 0h24v24H0V0z\" fill=\"none\"/>\n",
              "    <path d=\"M18.56 5.44l.94 2.06.94-2.06 2.06-.94-2.06-.94-.94-2.06-.94 2.06-2.06.94zm-11 1L8.5 8.5l.94-2.06 2.06-.94-2.06-.94L8.5 2.5l-.94 2.06-2.06.94zm10 10l.94 2.06.94-2.06 2.06-.94-2.06-.94-.94-2.06-.94 2.06-2.06.94z\"/><path d=\"M17.41 7.96l-1.37-1.37c-.4-.4-.92-.59-1.43-.59-.52 0-1.04.2-1.43.59L10.3 9.45l-7.72 7.72c-.78.78-.78 2.05 0 2.83L4 21.41c.39.39.9.59 1.41.59.51 0 1.02-.2 1.41-.59l7.78-7.78 2.81-2.81c.8-.78.8-2.07 0-2.86zM5.41 20L4 18.59l7.72-7.72 1.47 1.35L5.41 20z\"/>\n",
              "  </svg>\n",
              "      </button>\n",
              "      \n",
              "  <style>\n",
              "    .colab-df-container {\n",
              "      display:flex;\n",
              "      flex-wrap:wrap;\n",
              "      gap: 12px;\n",
              "    }\n",
              "\n",
              "    .colab-df-convert {\n",
              "      background-color: #E8F0FE;\n",
              "      border: none;\n",
              "      border-radius: 50%;\n",
              "      cursor: pointer;\n",
              "      display: none;\n",
              "      fill: #1967D2;\n",
              "      height: 32px;\n",
              "      padding: 0 0 0 0;\n",
              "      width: 32px;\n",
              "    }\n",
              "\n",
              "    .colab-df-convert:hover {\n",
              "      background-color: #E2EBFA;\n",
              "      box-shadow: 0px 1px 2px rgba(60, 64, 67, 0.3), 0px 1px 3px 1px rgba(60, 64, 67, 0.15);\n",
              "      fill: #174EA6;\n",
              "    }\n",
              "\n",
              "    [theme=dark] .colab-df-convert {\n",
              "      background-color: #3B4455;\n",
              "      fill: #D2E3FC;\n",
              "    }\n",
              "\n",
              "    [theme=dark] .colab-df-convert:hover {\n",
              "      background-color: #434B5C;\n",
              "      box-shadow: 0px 1px 3px 1px rgba(0, 0, 0, 0.15);\n",
              "      filter: drop-shadow(0px 1px 2px rgba(0, 0, 0, 0.3));\n",
              "      fill: #FFFFFF;\n",
              "    }\n",
              "  </style>\n",
              "\n",
              "      <script>\n",
              "        const buttonEl =\n",
              "          document.querySelector('#df-b3ac3051-0884-48c9-9ac8-b93477c73ddc button.colab-df-convert');\n",
              "        buttonEl.style.display =\n",
              "          google.colab.kernel.accessAllowed ? 'block' : 'none';\n",
              "\n",
              "        async function convertToInteractive(key) {\n",
              "          const element = document.querySelector('#df-b3ac3051-0884-48c9-9ac8-b93477c73ddc');\n",
              "          const dataTable =\n",
              "            await google.colab.kernel.invokeFunction('convertToInteractive',\n",
              "                                                     [key], {});\n",
              "          if (!dataTable) return;\n",
              "\n",
              "          const docLinkHtml = 'Like what you see? Visit the ' +\n",
              "            '<a target=\"_blank\" href=https://colab.research.google.com/notebooks/data_table.ipynb>data table notebook</a>'\n",
              "            + ' to learn more about interactive tables.';\n",
              "          element.innerHTML = '';\n",
              "          dataTable['output_type'] = 'display_data';\n",
              "          await google.colab.output.renderOutput(dataTable, element);\n",
              "          const docLink = document.createElement('div');\n",
              "          docLink.innerHTML = docLinkHtml;\n",
              "          element.appendChild(docLink);\n",
              "        }\n",
              "      </script>\n",
              "    </div>\n",
              "  </div>\n",
              "  "
            ]
          },
          "metadata": {}
        },
        {
          "output_type": "stream",
          "name": "stdout",
          "text": [
            "\n",
            "\n",
            "contract\n"
          ]
        },
        {
          "output_type": "display_data",
          "data": {
            "text/plain": [
              "                    mean  count      diff      risk\n",
              "contract                                           \n",
              "month-to-month  0.431701   3104  0.161733  1.599082\n",
              "one_year        0.120573   1186 -0.149395  0.446621\n",
              "two_year        0.028274   1344 -0.241694  0.104730"
            ],
            "text/html": [
              "\n",
              "  <div id=\"df-a60ef145-0097-48f2-b6d8-346c965948b1\">\n",
              "    <div class=\"colab-df-container\">\n",
              "      <div>\n",
              "<style scoped>\n",
              "    .dataframe tbody tr th:only-of-type {\n",
              "        vertical-align: middle;\n",
              "    }\n",
              "\n",
              "    .dataframe tbody tr th {\n",
              "        vertical-align: top;\n",
              "    }\n",
              "\n",
              "    .dataframe thead th {\n",
              "        text-align: right;\n",
              "    }\n",
              "</style>\n",
              "<table border=\"1\" class=\"dataframe\">\n",
              "  <thead>\n",
              "    <tr style=\"text-align: right;\">\n",
              "      <th></th>\n",
              "      <th>mean</th>\n",
              "      <th>count</th>\n",
              "      <th>diff</th>\n",
              "      <th>risk</th>\n",
              "    </tr>\n",
              "    <tr>\n",
              "      <th>contract</th>\n",
              "      <th></th>\n",
              "      <th></th>\n",
              "      <th></th>\n",
              "      <th></th>\n",
              "    </tr>\n",
              "  </thead>\n",
              "  <tbody>\n",
              "    <tr>\n",
              "      <th>month-to-month</th>\n",
              "      <td>0.431701</td>\n",
              "      <td>3104</td>\n",
              "      <td>0.161733</td>\n",
              "      <td>1.599082</td>\n",
              "    </tr>\n",
              "    <tr>\n",
              "      <th>one_year</th>\n",
              "      <td>0.120573</td>\n",
              "      <td>1186</td>\n",
              "      <td>-0.149395</td>\n",
              "      <td>0.446621</td>\n",
              "    </tr>\n",
              "    <tr>\n",
              "      <th>two_year</th>\n",
              "      <td>0.028274</td>\n",
              "      <td>1344</td>\n",
              "      <td>-0.241694</td>\n",
              "      <td>0.104730</td>\n",
              "    </tr>\n",
              "  </tbody>\n",
              "</table>\n",
              "</div>\n",
              "      <button class=\"colab-df-convert\" onclick=\"convertToInteractive('df-a60ef145-0097-48f2-b6d8-346c965948b1')\"\n",
              "              title=\"Convert this dataframe to an interactive table.\"\n",
              "              style=\"display:none;\">\n",
              "        \n",
              "  <svg xmlns=\"http://www.w3.org/2000/svg\" height=\"24px\"viewBox=\"0 0 24 24\"\n",
              "       width=\"24px\">\n",
              "    <path d=\"M0 0h24v24H0V0z\" fill=\"none\"/>\n",
              "    <path d=\"M18.56 5.44l.94 2.06.94-2.06 2.06-.94-2.06-.94-.94-2.06-.94 2.06-2.06.94zm-11 1L8.5 8.5l.94-2.06 2.06-.94-2.06-.94L8.5 2.5l-.94 2.06-2.06.94zm10 10l.94 2.06.94-2.06 2.06-.94-2.06-.94-.94-2.06-.94 2.06-2.06.94z\"/><path d=\"M17.41 7.96l-1.37-1.37c-.4-.4-.92-.59-1.43-.59-.52 0-1.04.2-1.43.59L10.3 9.45l-7.72 7.72c-.78.78-.78 2.05 0 2.83L4 21.41c.39.39.9.59 1.41.59.51 0 1.02-.2 1.41-.59l7.78-7.78 2.81-2.81c.8-.78.8-2.07 0-2.86zM5.41 20L4 18.59l7.72-7.72 1.47 1.35L5.41 20z\"/>\n",
              "  </svg>\n",
              "      </button>\n",
              "      \n",
              "  <style>\n",
              "    .colab-df-container {\n",
              "      display:flex;\n",
              "      flex-wrap:wrap;\n",
              "      gap: 12px;\n",
              "    }\n",
              "\n",
              "    .colab-df-convert {\n",
              "      background-color: #E8F0FE;\n",
              "      border: none;\n",
              "      border-radius: 50%;\n",
              "      cursor: pointer;\n",
              "      display: none;\n",
              "      fill: #1967D2;\n",
              "      height: 32px;\n",
              "      padding: 0 0 0 0;\n",
              "      width: 32px;\n",
              "    }\n",
              "\n",
              "    .colab-df-convert:hover {\n",
              "      background-color: #E2EBFA;\n",
              "      box-shadow: 0px 1px 2px rgba(60, 64, 67, 0.3), 0px 1px 3px 1px rgba(60, 64, 67, 0.15);\n",
              "      fill: #174EA6;\n",
              "    }\n",
              "\n",
              "    [theme=dark] .colab-df-convert {\n",
              "      background-color: #3B4455;\n",
              "      fill: #D2E3FC;\n",
              "    }\n",
              "\n",
              "    [theme=dark] .colab-df-convert:hover {\n",
              "      background-color: #434B5C;\n",
              "      box-shadow: 0px 1px 3px 1px rgba(0, 0, 0, 0.15);\n",
              "      filter: drop-shadow(0px 1px 2px rgba(0, 0, 0, 0.3));\n",
              "      fill: #FFFFFF;\n",
              "    }\n",
              "  </style>\n",
              "\n",
              "      <script>\n",
              "        const buttonEl =\n",
              "          document.querySelector('#df-a60ef145-0097-48f2-b6d8-346c965948b1 button.colab-df-convert');\n",
              "        buttonEl.style.display =\n",
              "          google.colab.kernel.accessAllowed ? 'block' : 'none';\n",
              "\n",
              "        async function convertToInteractive(key) {\n",
              "          const element = document.querySelector('#df-a60ef145-0097-48f2-b6d8-346c965948b1');\n",
              "          const dataTable =\n",
              "            await google.colab.kernel.invokeFunction('convertToInteractive',\n",
              "                                                     [key], {});\n",
              "          if (!dataTable) return;\n",
              "\n",
              "          const docLinkHtml = 'Like what you see? Visit the ' +\n",
              "            '<a target=\"_blank\" href=https://colab.research.google.com/notebooks/data_table.ipynb>data table notebook</a>'\n",
              "            + ' to learn more about interactive tables.';\n",
              "          element.innerHTML = '';\n",
              "          dataTable['output_type'] = 'display_data';\n",
              "          await google.colab.output.renderOutput(dataTable, element);\n",
              "          const docLink = document.createElement('div');\n",
              "          docLink.innerHTML = docLinkHtml;\n",
              "          element.appendChild(docLink);\n",
              "        }\n",
              "      </script>\n",
              "    </div>\n",
              "  </div>\n",
              "  "
            ]
          },
          "metadata": {}
        },
        {
          "output_type": "stream",
          "name": "stdout",
          "text": [
            "\n",
            "\n",
            "paperlessbilling\n"
          ]
        },
        {
          "output_type": "display_data",
          "data": {
            "text/plain": [
              "                      mean  count      diff      risk\n",
              "paperlessbilling                                     \n",
              "no                0.172071   2313 -0.097897  0.637375\n",
              "yes               0.338151   3321  0.068183  1.252560"
            ],
            "text/html": [
              "\n",
              "  <div id=\"df-2bb70ac6-402b-4e65-b2a0-6e777f40337e\">\n",
              "    <div class=\"colab-df-container\">\n",
              "      <div>\n",
              "<style scoped>\n",
              "    .dataframe tbody tr th:only-of-type {\n",
              "        vertical-align: middle;\n",
              "    }\n",
              "\n",
              "    .dataframe tbody tr th {\n",
              "        vertical-align: top;\n",
              "    }\n",
              "\n",
              "    .dataframe thead th {\n",
              "        text-align: right;\n",
              "    }\n",
              "</style>\n",
              "<table border=\"1\" class=\"dataframe\">\n",
              "  <thead>\n",
              "    <tr style=\"text-align: right;\">\n",
              "      <th></th>\n",
              "      <th>mean</th>\n",
              "      <th>count</th>\n",
              "      <th>diff</th>\n",
              "      <th>risk</th>\n",
              "    </tr>\n",
              "    <tr>\n",
              "      <th>paperlessbilling</th>\n",
              "      <th></th>\n",
              "      <th></th>\n",
              "      <th></th>\n",
              "      <th></th>\n",
              "    </tr>\n",
              "  </thead>\n",
              "  <tbody>\n",
              "    <tr>\n",
              "      <th>no</th>\n",
              "      <td>0.172071</td>\n",
              "      <td>2313</td>\n",
              "      <td>-0.097897</td>\n",
              "      <td>0.637375</td>\n",
              "    </tr>\n",
              "    <tr>\n",
              "      <th>yes</th>\n",
              "      <td>0.338151</td>\n",
              "      <td>3321</td>\n",
              "      <td>0.068183</td>\n",
              "      <td>1.252560</td>\n",
              "    </tr>\n",
              "  </tbody>\n",
              "</table>\n",
              "</div>\n",
              "      <button class=\"colab-df-convert\" onclick=\"convertToInteractive('df-2bb70ac6-402b-4e65-b2a0-6e777f40337e')\"\n",
              "              title=\"Convert this dataframe to an interactive table.\"\n",
              "              style=\"display:none;\">\n",
              "        \n",
              "  <svg xmlns=\"http://www.w3.org/2000/svg\" height=\"24px\"viewBox=\"0 0 24 24\"\n",
              "       width=\"24px\">\n",
              "    <path d=\"M0 0h24v24H0V0z\" fill=\"none\"/>\n",
              "    <path d=\"M18.56 5.44l.94 2.06.94-2.06 2.06-.94-2.06-.94-.94-2.06-.94 2.06-2.06.94zm-11 1L8.5 8.5l.94-2.06 2.06-.94-2.06-.94L8.5 2.5l-.94 2.06-2.06.94zm10 10l.94 2.06.94-2.06 2.06-.94-2.06-.94-.94-2.06-.94 2.06-2.06.94z\"/><path d=\"M17.41 7.96l-1.37-1.37c-.4-.4-.92-.59-1.43-.59-.52 0-1.04.2-1.43.59L10.3 9.45l-7.72 7.72c-.78.78-.78 2.05 0 2.83L4 21.41c.39.39.9.59 1.41.59.51 0 1.02-.2 1.41-.59l7.78-7.78 2.81-2.81c.8-.78.8-2.07 0-2.86zM5.41 20L4 18.59l7.72-7.72 1.47 1.35L5.41 20z\"/>\n",
              "  </svg>\n",
              "      </button>\n",
              "      \n",
              "  <style>\n",
              "    .colab-df-container {\n",
              "      display:flex;\n",
              "      flex-wrap:wrap;\n",
              "      gap: 12px;\n",
              "    }\n",
              "\n",
              "    .colab-df-convert {\n",
              "      background-color: #E8F0FE;\n",
              "      border: none;\n",
              "      border-radius: 50%;\n",
              "      cursor: pointer;\n",
              "      display: none;\n",
              "      fill: #1967D2;\n",
              "      height: 32px;\n",
              "      padding: 0 0 0 0;\n",
              "      width: 32px;\n",
              "    }\n",
              "\n",
              "    .colab-df-convert:hover {\n",
              "      background-color: #E2EBFA;\n",
              "      box-shadow: 0px 1px 2px rgba(60, 64, 67, 0.3), 0px 1px 3px 1px rgba(60, 64, 67, 0.15);\n",
              "      fill: #174EA6;\n",
              "    }\n",
              "\n",
              "    [theme=dark] .colab-df-convert {\n",
              "      background-color: #3B4455;\n",
              "      fill: #D2E3FC;\n",
              "    }\n",
              "\n",
              "    [theme=dark] .colab-df-convert:hover {\n",
              "      background-color: #434B5C;\n",
              "      box-shadow: 0px 1px 3px 1px rgba(0, 0, 0, 0.15);\n",
              "      filter: drop-shadow(0px 1px 2px rgba(0, 0, 0, 0.3));\n",
              "      fill: #FFFFFF;\n",
              "    }\n",
              "  </style>\n",
              "\n",
              "      <script>\n",
              "        const buttonEl =\n",
              "          document.querySelector('#df-2bb70ac6-402b-4e65-b2a0-6e777f40337e button.colab-df-convert');\n",
              "        buttonEl.style.display =\n",
              "          google.colab.kernel.accessAllowed ? 'block' : 'none';\n",
              "\n",
              "        async function convertToInteractive(key) {\n",
              "          const element = document.querySelector('#df-2bb70ac6-402b-4e65-b2a0-6e777f40337e');\n",
              "          const dataTable =\n",
              "            await google.colab.kernel.invokeFunction('convertToInteractive',\n",
              "                                                     [key], {});\n",
              "          if (!dataTable) return;\n",
              "\n",
              "          const docLinkHtml = 'Like what you see? Visit the ' +\n",
              "            '<a target=\"_blank\" href=https://colab.research.google.com/notebooks/data_table.ipynb>data table notebook</a>'\n",
              "            + ' to learn more about interactive tables.';\n",
              "          element.innerHTML = '';\n",
              "          dataTable['output_type'] = 'display_data';\n",
              "          await google.colab.output.renderOutput(dataTable, element);\n",
              "          const docLink = document.createElement('div');\n",
              "          docLink.innerHTML = docLinkHtml;\n",
              "          element.appendChild(docLink);\n",
              "        }\n",
              "      </script>\n",
              "    </div>\n",
              "  </div>\n",
              "  "
            ]
          },
          "metadata": {}
        },
        {
          "output_type": "stream",
          "name": "stdout",
          "text": [
            "\n",
            "\n",
            "paymentmethod\n"
          ]
        },
        {
          "output_type": "display_data",
          "data": {
            "text/plain": [
              "                               mean  count      diff      risk\n",
              "paymentmethod                                                 \n",
              "bank_transfer_(automatic)  0.168171   1219 -0.101797  0.622928\n",
              "credit_card_(automatic)    0.164339   1217 -0.105630  0.608733\n",
              "electronic_check           0.455890   1893  0.185922  1.688682\n",
              "mailed_check               0.193870   1305 -0.076098  0.718121"
            ],
            "text/html": [
              "\n",
              "  <div id=\"df-27e17cfa-3cff-4141-a4eb-65e044eff04b\">\n",
              "    <div class=\"colab-df-container\">\n",
              "      <div>\n",
              "<style scoped>\n",
              "    .dataframe tbody tr th:only-of-type {\n",
              "        vertical-align: middle;\n",
              "    }\n",
              "\n",
              "    .dataframe tbody tr th {\n",
              "        vertical-align: top;\n",
              "    }\n",
              "\n",
              "    .dataframe thead th {\n",
              "        text-align: right;\n",
              "    }\n",
              "</style>\n",
              "<table border=\"1\" class=\"dataframe\">\n",
              "  <thead>\n",
              "    <tr style=\"text-align: right;\">\n",
              "      <th></th>\n",
              "      <th>mean</th>\n",
              "      <th>count</th>\n",
              "      <th>diff</th>\n",
              "      <th>risk</th>\n",
              "    </tr>\n",
              "    <tr>\n",
              "      <th>paymentmethod</th>\n",
              "      <th></th>\n",
              "      <th></th>\n",
              "      <th></th>\n",
              "      <th></th>\n",
              "    </tr>\n",
              "  </thead>\n",
              "  <tbody>\n",
              "    <tr>\n",
              "      <th>bank_transfer_(automatic)</th>\n",
              "      <td>0.168171</td>\n",
              "      <td>1219</td>\n",
              "      <td>-0.101797</td>\n",
              "      <td>0.622928</td>\n",
              "    </tr>\n",
              "    <tr>\n",
              "      <th>credit_card_(automatic)</th>\n",
              "      <td>0.164339</td>\n",
              "      <td>1217</td>\n",
              "      <td>-0.105630</td>\n",
              "      <td>0.608733</td>\n",
              "    </tr>\n",
              "    <tr>\n",
              "      <th>electronic_check</th>\n",
              "      <td>0.455890</td>\n",
              "      <td>1893</td>\n",
              "      <td>0.185922</td>\n",
              "      <td>1.688682</td>\n",
              "    </tr>\n",
              "    <tr>\n",
              "      <th>mailed_check</th>\n",
              "      <td>0.193870</td>\n",
              "      <td>1305</td>\n",
              "      <td>-0.076098</td>\n",
              "      <td>0.718121</td>\n",
              "    </tr>\n",
              "  </tbody>\n",
              "</table>\n",
              "</div>\n",
              "      <button class=\"colab-df-convert\" onclick=\"convertToInteractive('df-27e17cfa-3cff-4141-a4eb-65e044eff04b')\"\n",
              "              title=\"Convert this dataframe to an interactive table.\"\n",
              "              style=\"display:none;\">\n",
              "        \n",
              "  <svg xmlns=\"http://www.w3.org/2000/svg\" height=\"24px\"viewBox=\"0 0 24 24\"\n",
              "       width=\"24px\">\n",
              "    <path d=\"M0 0h24v24H0V0z\" fill=\"none\"/>\n",
              "    <path d=\"M18.56 5.44l.94 2.06.94-2.06 2.06-.94-2.06-.94-.94-2.06-.94 2.06-2.06.94zm-11 1L8.5 8.5l.94-2.06 2.06-.94-2.06-.94L8.5 2.5l-.94 2.06-2.06.94zm10 10l.94 2.06.94-2.06 2.06-.94-2.06-.94-.94-2.06-.94 2.06-2.06.94z\"/><path d=\"M17.41 7.96l-1.37-1.37c-.4-.4-.92-.59-1.43-.59-.52 0-1.04.2-1.43.59L10.3 9.45l-7.72 7.72c-.78.78-.78 2.05 0 2.83L4 21.41c.39.39.9.59 1.41.59.51 0 1.02-.2 1.41-.59l7.78-7.78 2.81-2.81c.8-.78.8-2.07 0-2.86zM5.41 20L4 18.59l7.72-7.72 1.47 1.35L5.41 20z\"/>\n",
              "  </svg>\n",
              "      </button>\n",
              "      \n",
              "  <style>\n",
              "    .colab-df-container {\n",
              "      display:flex;\n",
              "      flex-wrap:wrap;\n",
              "      gap: 12px;\n",
              "    }\n",
              "\n",
              "    .colab-df-convert {\n",
              "      background-color: #E8F0FE;\n",
              "      border: none;\n",
              "      border-radius: 50%;\n",
              "      cursor: pointer;\n",
              "      display: none;\n",
              "      fill: #1967D2;\n",
              "      height: 32px;\n",
              "      padding: 0 0 0 0;\n",
              "      width: 32px;\n",
              "    }\n",
              "\n",
              "    .colab-df-convert:hover {\n",
              "      background-color: #E2EBFA;\n",
              "      box-shadow: 0px 1px 2px rgba(60, 64, 67, 0.3), 0px 1px 3px 1px rgba(60, 64, 67, 0.15);\n",
              "      fill: #174EA6;\n",
              "    }\n",
              "\n",
              "    [theme=dark] .colab-df-convert {\n",
              "      background-color: #3B4455;\n",
              "      fill: #D2E3FC;\n",
              "    }\n",
              "\n",
              "    [theme=dark] .colab-df-convert:hover {\n",
              "      background-color: #434B5C;\n",
              "      box-shadow: 0px 1px 3px 1px rgba(0, 0, 0, 0.15);\n",
              "      filter: drop-shadow(0px 1px 2px rgba(0, 0, 0, 0.3));\n",
              "      fill: #FFFFFF;\n",
              "    }\n",
              "  </style>\n",
              "\n",
              "      <script>\n",
              "        const buttonEl =\n",
              "          document.querySelector('#df-27e17cfa-3cff-4141-a4eb-65e044eff04b button.colab-df-convert');\n",
              "        buttonEl.style.display =\n",
              "          google.colab.kernel.accessAllowed ? 'block' : 'none';\n",
              "\n",
              "        async function convertToInteractive(key) {\n",
              "          const element = document.querySelector('#df-27e17cfa-3cff-4141-a4eb-65e044eff04b');\n",
              "          const dataTable =\n",
              "            await google.colab.kernel.invokeFunction('convertToInteractive',\n",
              "                                                     [key], {});\n",
              "          if (!dataTable) return;\n",
              "\n",
              "          const docLinkHtml = 'Like what you see? Visit the ' +\n",
              "            '<a target=\"_blank\" href=https://colab.research.google.com/notebooks/data_table.ipynb>data table notebook</a>'\n",
              "            + ' to learn more about interactive tables.';\n",
              "          element.innerHTML = '';\n",
              "          dataTable['output_type'] = 'display_data';\n",
              "          await google.colab.output.renderOutput(dataTable, element);\n",
              "          const docLink = document.createElement('div');\n",
              "          docLink.innerHTML = docLinkHtml;\n",
              "          element.appendChild(docLink);\n",
              "        }\n",
              "      </script>\n",
              "    </div>\n",
              "  </div>\n",
              "  "
            ]
          },
          "metadata": {}
        },
        {
          "output_type": "stream",
          "name": "stdout",
          "text": [
            "\n",
            "\n"
          ]
        }
      ],
      "source": [
        "for c in categorical:\n",
        "    print(c)\n",
        "    df_group = df_full_train.groupby(c).churn.agg(['mean', 'count'])\n",
        "    df_group['diff'] = df_group['mean'] - global_churn\n",
        "    df_group['risk'] = df_group['mean'] / global_churn\n",
        "    display(df_group)\n",
        "    print()\n",
        "    print()"
      ],
      "id": "TxdF2ucqF2bF"
    },
    {
      "cell_type": "markdown",
      "metadata": {
        "id": "HgDfZ9pMF2bG"
      },
      "source": [
        "## 3.6 Feature importance: Mutual information\n",
        "\n",
        "Mutual information - concept from information theory, it tells us how much \n",
        "we can learn about one variable if we know the value of another\n",
        "\n",
        "* https://en.wikipedia.org/wiki/Mutual_information"
      ],
      "id": "HgDfZ9pMF2bG"
    },
    {
      "cell_type": "code",
      "execution_count": 39,
      "metadata": {
        "id": "XqfzdpErF2bG"
      },
      "outputs": [],
      "source": [
        "from sklearn.metrics import mutual_info_score"
      ],
      "id": "XqfzdpErF2bG"
    },
    {
      "cell_type": "code",
      "execution_count": 40,
      "metadata": {
        "id": "YQneb3JbF2bG",
        "outputId": "368e7d69-dac7-4493-a431-5136d7a92473",
        "colab": {
          "base_uri": "https://localhost:8080/"
        }
      },
      "outputs": [
        {
          "output_type": "execute_result",
          "data": {
            "text/plain": [
              "0.0983203874041556"
            ]
          },
          "metadata": {},
          "execution_count": 40
        }
      ],
      "source": [
        "mutual_info_score(df_full_train.churn, df_full_train.contract)"
      ],
      "id": "YQneb3JbF2bG"
    },
    {
      "cell_type": "code",
      "execution_count": 41,
      "metadata": {
        "id": "NZcvCqzPF2bH",
        "outputId": "dc5b30e5-8b1b-4cf4-9fb3-df0a33f2ce52",
        "colab": {
          "base_uri": "https://localhost:8080/"
        }
      },
      "outputs": [
        {
          "output_type": "execute_result",
          "data": {
            "text/plain": [
              "0.0001174846211139946"
            ]
          },
          "metadata": {},
          "execution_count": 41
        }
      ],
      "source": [
        "mutual_info_score(df_full_train.gender, df_full_train.churn)"
      ],
      "id": "NZcvCqzPF2bH"
    },
    {
      "cell_type": "code",
      "execution_count": 42,
      "metadata": {
        "id": "hw5JZqeSF2bH",
        "outputId": "e0b21547-1ac6-4aa6-96dc-69762cbd7838",
        "colab": {
          "base_uri": "https://localhost:8080/"
        }
      },
      "outputs": [
        {
          "output_type": "execute_result",
          "data": {
            "text/plain": [
              "0.0983203874041556"
            ]
          },
          "metadata": {},
          "execution_count": 42
        }
      ],
      "source": [
        "mutual_info_score(df_full_train.contract, df_full_train.churn)"
      ],
      "id": "hw5JZqeSF2bH"
    },
    {
      "cell_type": "code",
      "execution_count": 43,
      "metadata": {
        "id": "aPx935xTF2bH",
        "outputId": "c6a10f4b-31b4-4dc4-bbee-fa51716e91c5",
        "colab": {
          "base_uri": "https://localhost:8080/"
        }
      },
      "outputs": [
        {
          "output_type": "execute_result",
          "data": {
            "text/plain": [
              "0.009967689095399745"
            ]
          },
          "metadata": {},
          "execution_count": 43
        }
      ],
      "source": [
        "mutual_info_score(df_full_train.partner, df_full_train.churn)"
      ],
      "id": "aPx935xTF2bH"
    },
    {
      "cell_type": "code",
      "execution_count": 44,
      "metadata": {
        "id": "2iIf2CtOF2bI"
      },
      "outputs": [],
      "source": [
        "def mutual_info_churn_score(series):\n",
        "    return mutual_info_score(series, df_full_train.churn)"
      ],
      "id": "2iIf2CtOF2bI"
    },
    {
      "cell_type": "code",
      "execution_count": 45,
      "metadata": {
        "id": "vt_mPmaVF2bI",
        "outputId": "6ecabd9e-a521-4bf0-cd10-b6c8016fe1dd",
        "colab": {
          "base_uri": "https://localhost:8080/"
        }
      },
      "outputs": [
        {
          "output_type": "execute_result",
          "data": {
            "text/plain": [
              "contract            0.098320\n",
              "onlinesecurity      0.063085\n",
              "techsupport         0.061032\n",
              "internetservice     0.055868\n",
              "onlinebackup        0.046923\n",
              "deviceprotection    0.043453\n",
              "paymentmethod       0.043210\n",
              "streamingtv         0.031853\n",
              "streamingmovies     0.031581\n",
              "paperlessbilling    0.017589\n",
              "dependents          0.012346\n",
              "partner             0.009968\n",
              "seniorcitizen       0.009410\n",
              "multiplelines       0.000857\n",
              "phoneservice        0.000229\n",
              "gender              0.000117\n",
              "dtype: float64"
            ]
          },
          "metadata": {},
          "execution_count": 45
        }
      ],
      "source": [
        "mi = df_full_train[categorical].apply(mutual_info_churn_score)\n",
        "mi.sort_values(ascending=False)"
      ],
      "id": "vt_mPmaVF2bI"
    },
    {
      "cell_type": "markdown",
      "metadata": {
        "id": "ZOBc-dF4F2bJ"
      },
      "source": [
        "## 3.7 Feature importance: Correlation\n",
        "\n",
        "How about numerical columns?\n",
        "\n",
        "* Correlation coefficient - https://en.wikipedia.org/wiki/Pearson_correlation_coefficient"
      ],
      "id": "ZOBc-dF4F2bJ"
    },
    {
      "cell_type": "code",
      "execution_count": 46,
      "metadata": {
        "id": "5HXf4H57F2bK",
        "outputId": "6be74415-5a29-4135-b368-a63851c69632",
        "colab": {
          "base_uri": "https://localhost:8080/"
        }
      },
      "outputs": [
        {
          "output_type": "execute_result",
          "data": {
            "text/plain": [
              "72"
            ]
          },
          "metadata": {},
          "execution_count": 46
        }
      ],
      "source": [
        "df_full_train.tenure.max()"
      ],
      "id": "5HXf4H57F2bK"
    },
    {
      "cell_type": "code",
      "execution_count": 47,
      "metadata": {
        "id": "AFYnComjF2bK",
        "outputId": "cda7d44a-4d6a-4dcd-f80c-a8a02c10d2f9",
        "colab": {
          "base_uri": "https://localhost:8080/"
        }
      },
      "outputs": [
        {
          "output_type": "execute_result",
          "data": {
            "text/plain": [
              "tenure            0.351885\n",
              "monthlycharges    0.196805\n",
              "totalcharges      0.196353\n",
              "dtype: float64"
            ]
          },
          "metadata": {},
          "execution_count": 47
        }
      ],
      "source": [
        "df_full_train[numerical].corrwith(df_full_train.churn).abs()"
      ],
      "id": "AFYnComjF2bK"
    },
    {
      "cell_type": "code",
      "execution_count": 48,
      "metadata": {
        "id": "YBc-HcppF2bL",
        "outputId": "c2e59db2-a8ea-4689-a0ec-983dd5b9ba75",
        "colab": {
          "base_uri": "https://localhost:8080/"
        }
      },
      "outputs": [
        {
          "output_type": "execute_result",
          "data": {
            "text/plain": [
              "0.5953420669577875"
            ]
          },
          "metadata": {},
          "execution_count": 48
        }
      ],
      "source": [
        "df_full_train[df_full_train.tenure <= 2].churn.mean()"
      ],
      "id": "YBc-HcppF2bL"
    },
    {
      "cell_type": "code",
      "execution_count": 49,
      "metadata": {
        "id": "Nxpu9UumF2bL",
        "outputId": "f0c7a6cf-2a58-4a84-be52-9d8899c544ad",
        "colab": {
          "base_uri": "https://localhost:8080/"
        }
      },
      "outputs": [
        {
          "output_type": "execute_result",
          "data": {
            "text/plain": [
              "0.3994413407821229"
            ]
          },
          "metadata": {},
          "execution_count": 49
        }
      ],
      "source": [
        "df_full_train[(df_full_train.tenure > 2) & (df_full_train.tenure <= 12)].churn.mean()"
      ],
      "id": "Nxpu9UumF2bL"
    },
    {
      "cell_type": "code",
      "execution_count": 50,
      "metadata": {
        "id": "7jC0Oy0dF2bM",
        "outputId": "033284e3-77d5-40ac-a66e-c7117c618656",
        "colab": {
          "base_uri": "https://localhost:8080/"
        }
      },
      "outputs": [
        {
          "output_type": "execute_result",
          "data": {
            "text/plain": [
              "0.17634908339788277"
            ]
          },
          "metadata": {},
          "execution_count": 50
        }
      ],
      "source": [
        "df_full_train[df_full_train.tenure > 12].churn.mean()"
      ],
      "id": "7jC0Oy0dF2bM"
    },
    {
      "cell_type": "code",
      "execution_count": 51,
      "metadata": {
        "id": "IBRwiiAwF2bM",
        "outputId": "50b0404d-0326-4624-cda7-0915468315df",
        "colab": {
          "base_uri": "https://localhost:8080/"
        }
      },
      "outputs": [
        {
          "output_type": "execute_result",
          "data": {
            "text/plain": [
              "0.08795411089866156"
            ]
          },
          "metadata": {},
          "execution_count": 51
        }
      ],
      "source": [
        "df_full_train[df_full_train.monthlycharges <= 20].churn.mean()"
      ],
      "id": "IBRwiiAwF2bM"
    },
    {
      "cell_type": "code",
      "execution_count": 52,
      "metadata": {
        "id": "wKRAklwnF2bN",
        "outputId": "0935887e-9b83-4127-dd1e-aa26ca9fb6cb",
        "colab": {
          "base_uri": "https://localhost:8080/"
        }
      },
      "outputs": [
        {
          "output_type": "execute_result",
          "data": {
            "text/plain": [
              "0.18340943683409436"
            ]
          },
          "metadata": {},
          "execution_count": 52
        }
      ],
      "source": [
        "df_full_train[(df_full_train.monthlycharges > 20) & (df_full_train.monthlycharges <= 50)].churn.mean()"
      ],
      "id": "wKRAklwnF2bN"
    },
    {
      "cell_type": "code",
      "execution_count": 53,
      "metadata": {
        "id": "eKlgE9DjF2bN",
        "outputId": "d30ba0ec-b51f-4554-faac-8b629887333f",
        "colab": {
          "base_uri": "https://localhost:8080/"
        }
      },
      "outputs": [
        {
          "output_type": "execute_result",
          "data": {
            "text/plain": [
              "0.32499341585462205"
            ]
          },
          "metadata": {},
          "execution_count": 53
        }
      ],
      "source": [
        "df_full_train[df_full_train.monthlycharges > 50].churn.mean()"
      ],
      "id": "eKlgE9DjF2bN"
    },
    {
      "cell_type": "markdown",
      "metadata": {
        "id": "yG7btrxuF2bN"
      },
      "source": [
        "## 3.8 One-hot encoding\n",
        "\n",
        "* Use Scikit-Learn to encode categorical features"
      ],
      "id": "yG7btrxuF2bN"
    },
    {
      "cell_type": "code",
      "execution_count": 54,
      "metadata": {
        "id": "ycZsrJoYF2bO"
      },
      "outputs": [],
      "source": [
        "from sklearn.feature_extraction import DictVectorizer"
      ],
      "id": "ycZsrJoYF2bO"
    },
    {
      "cell_type": "code",
      "execution_count": 55,
      "metadata": {
        "id": "C7wwWNNYF2bO"
      },
      "outputs": [],
      "source": [
        "dv = DictVectorizer(sparse=False)\n",
        "\n",
        "train_dict = df_train[categorical + numerical].to_dict(orient='records')\n",
        "X_train = dv.fit_transform(train_dict)\n",
        "\n",
        "val_dict = df_val[categorical + numerical].to_dict(orient='records')\n",
        "X_val = dv.transform(val_dict)"
      ],
      "id": "C7wwWNNYF2bO"
    },
    {
      "cell_type": "markdown",
      "metadata": {
        "id": "s3jh8oV9F2bO"
      },
      "source": [
        "## 3.9 Logistic regression\n",
        "\n",
        "* Binary classification\n",
        "* Linear vs logistic regression"
      ],
      "id": "s3jh8oV9F2bO"
    },
    {
      "cell_type": "code",
      "execution_count": 56,
      "metadata": {
        "id": "NEtDTGgVF2bP"
      },
      "outputs": [],
      "source": [
        "def sigmoid(z):\n",
        "    return 1 / (1 + np.exp(-z))"
      ],
      "id": "NEtDTGgVF2bP"
    },
    {
      "cell_type": "code",
      "execution_count": 57,
      "metadata": {
        "id": "wPLAs4n2F2bP"
      },
      "outputs": [],
      "source": [
        "z = np.linspace(-7, 7, 51)"
      ],
      "id": "wPLAs4n2F2bP"
    },
    {
      "cell_type": "code",
      "execution_count": 58,
      "metadata": {
        "id": "MdIrRK-cF2bP",
        "outputId": "7b8620fd-562b-403f-9810-aa85028de549",
        "colab": {
          "base_uri": "https://localhost:8080/"
        }
      },
      "outputs": [
        {
          "output_type": "execute_result",
          "data": {
            "text/plain": [
              "1.0"
            ]
          },
          "metadata": {},
          "execution_count": 58
        }
      ],
      "source": [
        "sigmoid(10000)"
      ],
      "id": "MdIrRK-cF2bP"
    },
    {
      "cell_type": "code",
      "execution_count": 59,
      "metadata": {
        "id": "QAfCC3YOF2bQ",
        "outputId": "ee3f2cd9-d4b1-47d4-e4f3-fd50cc80052f",
        "colab": {
          "base_uri": "https://localhost:8080/",
          "height": 0
        }
      },
      "outputs": [
        {
          "output_type": "execute_result",
          "data": {
            "text/plain": [
              "[<matplotlib.lines.Line2D at 0x7fc1650e0b50>]"
            ]
          },
          "metadata": {},
          "execution_count": 59
        },
        {
          "output_type": "display_data",
          "data": {
            "text/plain": [
              "<Figure size 432x288 with 1 Axes>"
            ],
            "image/png": "[encoded data removed]"
          },
          "metadata": {
            "needs_background": "light"
          }
        }
      ],
      "source": [
        "plt.plot(z, sigmoid(z))"
      ],
      "id": "QAfCC3YOF2bQ"
    },
    {
      "cell_type": "code",
      "execution_count": 60,
      "metadata": {
        "id": "gBjr0t9kF2bQ"
      },
      "outputs": [],
      "source": [
        "def linear_regression(xi):\n",
        "    result = w0\n",
        "    \n",
        "    for j in range(len(w)):\n",
        "        result = result + xi[j] * w[j]\n",
        "        \n",
        "    return result"
      ],
      "id": "gBjr0t9kF2bQ"
    },
    {
      "cell_type": "code",
      "execution_count": 61,
      "metadata": {
        "id": "L5KiyyawF2bQ"
      },
      "outputs": [],
      "source": [
        "def logistic_regression(xi):\n",
        "    score = w0\n",
        "    \n",
        "    for j in range(len(w)):\n",
        "        score = score + xi[j] * w[j]\n",
        "        \n",
        "    result = sigmoid(score)\n",
        "    return result"
      ],
      "id": "L5KiyyawF2bQ"
    },
    {
      "cell_type": "markdown",
      "metadata": {
        "id": "9GYaeDUPF2bR"
      },
      "source": [
        "## 3.10 Training logistic regression with Scikit-Learn\n",
        "\n",
        "* Train a model with Scikit-Learn\n",
        "* Apply it to the validation dataset\n",
        "* Calculate the accuracy"
      ],
      "id": "9GYaeDUPF2bR"
    },
    {
      "cell_type": "code",
      "execution_count": 62,
      "metadata": {
        "id": "SEzFSrpHF2bR"
      },
      "outputs": [],
      "source": [
        "from sklearn.linear_model import LogisticRegression"
      ],
      "id": "SEzFSrpHF2bR"
    },
    {
      "cell_type": "code",
      "execution_count": 63,
      "metadata": {
        "id": "EGH0SV1iF2bR",
        "outputId": "508cf554-a52a-4ff0-c5fe-b95712d75aa2",
        "colab": {
          "base_uri": "https://localhost:8080/"
        }
      },
      "outputs": [
        {
          "output_type": "execute_result",
          "data": {
            "text/plain": [
              "LogisticRegression()"
            ]
          },
          "metadata": {},
          "execution_count": 63
        }
      ],
      "source": [
        "model = LogisticRegression(solver='lbfgs')\n",
        "# solver='lbfgs' is the default solver in newer version of sklearn\n",
        "# for older versions, you need to specify it explicitly\n",
        "model.fit(X_train, y_train)"
      ],
      "id": "EGH0SV1iF2bR"
    },
    {
      "cell_type": "code",
      "execution_count": 64,
      "metadata": {
        "id": "Plj053tZF2bT",
        "outputId": "364816b6-2cfd-41a9-b1dc-3d7cb061fc61",
        "colab": {
          "base_uri": "https://localhost:8080/"
        }
      },
      "outputs": [
        {
          "output_type": "execute_result",
          "data": {
            "text/plain": [
              "-0.10903461122930498"
            ]
          },
          "metadata": {},
          "execution_count": 64
        }
      ],
      "source": [
        "model.intercept_[0]"
      ],
      "id": "Plj053tZF2bT"
    },
    {
      "cell_type": "code",
      "execution_count": 65,
      "metadata": {
        "id": "qXivnyPTF2bT",
        "outputId": "59fbbb5c-5ee5-4ecb-bf8c-f1c046c3b67f",
        "colab": {
          "base_uri": "https://localhost:8080/"
        }
      },
      "outputs": [
        {
          "output_type": "execute_result",
          "data": {
            "text/plain": [
              "array([ 0.475, -0.175, -0.408, -0.03 , -0.078,  0.063, -0.089, -0.081,\n",
              "       -0.034, -0.073, -0.335,  0.317, -0.089,  0.004, -0.258,  0.141,\n",
              "        0.009,  0.063, -0.089, -0.081,  0.266, -0.089, -0.284, -0.231,\n",
              "        0.124, -0.166,  0.058, -0.087, -0.032,  0.07 , -0.059,  0.141,\n",
              "       -0.249,  0.215, -0.12 , -0.089,  0.102, -0.071, -0.089,  0.052,\n",
              "        0.213, -0.089, -0.232, -0.07 ,  0.   ])"
            ]
          },
          "metadata": {},
          "execution_count": 65
        }
      ],
      "source": [
        "model.coef_[0].round(3)"
      ],
      "id": "qXivnyPTF2bT"
    },
    {
      "cell_type": "code",
      "execution_count": 66,
      "metadata": {
        "id": "1Xa2qShZF2bU"
      },
      "outputs": [],
      "source": [
        "y_pred = model.predict_proba(X_val)[:, 1]"
      ],
      "id": "1Xa2qShZF2bU"
    },
    {
      "cell_type": "code",
      "execution_count": 67,
      "metadata": {
        "id": "b3L03u-jF2bU"
      },
      "outputs": [],
      "source": [
        "churn_decision = (y_pred >= 0.5)"
      ],
      "id": "b3L03u-jF2bU"
    },
    {
      "cell_type": "code",
      "execution_count": 68,
      "metadata": {
        "id": "aQAw0g-aF2bU",
        "outputId": "95e6bf6a-7f6a-4117-9bed-a89e9f2d58d5",
        "colab": {
          "base_uri": "https://localhost:8080/"
        }
      },
      "outputs": [
        {
          "output_type": "execute_result",
          "data": {
            "text/plain": [
              "0.8034066713981547"
            ]
          },
          "metadata": {},
          "execution_count": 68
        }
      ],
      "source": [
        "(y_val == churn_decision).mean()"
      ],
      "id": "aQAw0g-aF2bU"
    },
    {
      "cell_type": "code",
      "execution_count": 69,
      "metadata": {
        "id": "cUMHyy0mF2bV"
      },
      "outputs": [],
      "source": [
        "df_pred = pd.DataFrame()\n",
        "df_pred['probability'] = y_pred\n",
        "df_pred['prediction'] = churn_decision.astype(int)\n",
        "df_pred['actual'] = y_val"
      ],
      "id": "cUMHyy0mF2bV"
    },
    {
      "cell_type": "code",
      "execution_count": 70,
      "metadata": {
        "id": "0oBM4Z9BF2bV"
      },
      "outputs": [],
      "source": [
        "df_pred['correct'] = df_pred.prediction == df_pred.actual"
      ],
      "id": "0oBM4Z9BF2bV"
    },
    {
      "cell_type": "code",
      "execution_count": 71,
      "metadata": {
        "id": "M2rI3pMkF2bV",
        "outputId": "b3f7677a-d8fc-4e5c-b0fe-7378a5bf7458",
        "colab": {
          "base_uri": "https://localhost:8080/"
        }
      },
      "outputs": [
        {
          "output_type": "execute_result",
          "data": {
            "text/plain": [
              "0.8034066713981547"
            ]
          },
          "metadata": {},
          "execution_count": 71
        }
      ],
      "source": [
        "df_pred.correct.mean()"
      ],
      "id": "M2rI3pMkF2bV"
    },
    {
      "cell_type": "code",
      "execution_count": 72,
      "metadata": {
        "id": "ZkGoY6pNF2bW",
        "outputId": "e54bdb45-a533-4752-8d1e-2296ea8fe2bb",
        "colab": {
          "base_uri": "https://localhost:8080/"
        }
      },
      "outputs": [
        {
          "output_type": "execute_result",
          "data": {
            "text/plain": [
              "array([0, 0, 0, ..., 0, 1, 1])"
            ]
          },
          "metadata": {},
          "execution_count": 72
        }
      ],
      "source": [
        "churn_decision.astype(int)"
      ],
      "id": "ZkGoY6pNF2bW"
    },
    {
      "cell_type": "markdown",
      "metadata": {
        "id": "Gp4LBHRyF2bW"
      },
      "source": [
        "## 3.11 Model interpretation\n",
        "\n",
        "* Look at the coefficients\n",
        "* Train a smaller model with fewer features"
      ],
      "id": "Gp4LBHRyF2bW"
    },
    {
      "cell_type": "code",
      "execution_count": 73,
      "metadata": {
        "id": "Vezsn-HQF2bW"
      },
      "outputs": [],
      "source": [
        "a = [1, 2, 3, 4]\n",
        "b = 'abcd'"
      ],
      "id": "Vezsn-HQF2bW"
    },
    {
      "cell_type": "code",
      "execution_count": 74,
      "metadata": {
        "id": "98gAxTd0F2bX",
        "outputId": "3dfe61ee-1892-4ff8-8dad-352c7ce7cdda",
        "colab": {
          "base_uri": "https://localhost:8080/"
        }
      },
      "outputs": [
        {
          "output_type": "execute_result",
          "data": {
            "text/plain": [
              "{1: 'a', 2: 'b', 3: 'c', 4: 'd'}"
            ]
          },
          "metadata": {},
          "execution_count": 74
        }
      ],
      "source": [
        "dict(zip(a, b))"
      ],
      "id": "98gAxTd0F2bX"
    },
    {
      "cell_type": "code",
      "execution_count": 75,
      "metadata": {
        "scrolled": true,
        "id": "A2OnbwB_F2bX",
        "outputId": "c86355fb-cbae-44f9-af0a-7f7c1fad75c9",
        "colab": {
          "base_uri": "https://localhost:8080/"
        }
      },
      "outputs": [
        {
          "output_type": "stream",
          "name": "stderr",
          "text": [
            "/usr/local/lib/python3.7/dist-packages/sklearn/utils/deprecation.py:87: FutureWarning: Function get_feature_names is deprecated; get_feature_names is deprecated in 1.0 and will be removed in 1.2. Please use get_feature_names_out instead.\n",
            "  warnings.warn(msg, category=FutureWarning)\n"
          ]
        },
        {
          "output_type": "execute_result",
          "data": {
            "text/plain": [
              "{'contract=month-to-month': 0.475,\n",
              " 'contract=one_year': -0.175,\n",
              " 'contract=two_year': -0.408,\n",
              " 'dependents=no': -0.03,\n",
              " 'dependents=yes': -0.078,\n",
              " 'deviceprotection=no': 0.063,\n",
              " 'deviceprotection=no_internet_service': -0.089,\n",
              " 'deviceprotection=yes': -0.081,\n",
              " 'gender=female': -0.034,\n",
              " 'gender=male': -0.073,\n",
              " 'internetservice=dsl': -0.335,\n",
              " 'internetservice=fiber_optic': 0.317,\n",
              " 'internetservice=no': -0.089,\n",
              " 'monthlycharges': 0.004,\n",
              " 'multiplelines=no': -0.258,\n",
              " 'multiplelines=no_phone_service': 0.141,\n",
              " 'multiplelines=yes': 0.009,\n",
              " 'onlinebackup=no': 0.063,\n",
              " 'onlinebackup=no_internet_service': -0.089,\n",
              " 'onlinebackup=yes': -0.081,\n",
              " 'onlinesecurity=no': 0.266,\n",
              " 'onlinesecurity=no_internet_service': -0.089,\n",
              " 'onlinesecurity=yes': -0.284,\n",
              " 'paperlessbilling=no': -0.231,\n",
              " 'paperlessbilling=yes': 0.124,\n",
              " 'partner=no': -0.166,\n",
              " 'partner=yes': 0.058,\n",
              " 'paymentmethod=bank_transfer_(automatic)': -0.087,\n",
              " 'paymentmethod=credit_card_(automatic)': -0.032,\n",
              " 'paymentmethod=electronic_check': 0.07,\n",
              " 'paymentmethod=mailed_check': -0.059,\n",
              " 'phoneservice=no': 0.141,\n",
              " 'phoneservice=yes': -0.249,\n",
              " 'seniorcitizen': 0.215,\n",
              " 'streamingmovies=no': -0.12,\n",
              " 'streamingmovies=no_internet_service': -0.089,\n",
              " 'streamingmovies=yes': 0.102,\n",
              " 'streamingtv=no': -0.071,\n",
              " 'streamingtv=no_internet_service': -0.089,\n",
              " 'streamingtv=yes': 0.052,\n",
              " 'techsupport=no': 0.213,\n",
              " 'techsupport=no_internet_service': -0.089,\n",
              " 'techsupport=yes': -0.232,\n",
              " 'tenure': -0.07,\n",
              " 'totalcharges': 0.0}"
            ]
          },
          "metadata": {},
          "execution_count": 75
        }
      ],
      "source": [
        "dict(zip(dv.get_feature_names(), model.coef_[0].round(3)))"
      ],
      "id": "A2OnbwB_F2bX"
    },
    {
      "cell_type": "code",
      "execution_count": 76,
      "metadata": {
        "id": "t32-12KtF2bX"
      },
      "outputs": [],
      "source": [
        "small = ['contract', 'tenure', 'monthlycharges']"
      ],
      "id": "t32-12KtF2bX"
    },
    {
      "cell_type": "code",
      "execution_count": 77,
      "metadata": {
        "id": "vIo0iMpUF2bb",
        "outputId": "3ca733dd-e401-4edb-db0c-2c546402cfd8",
        "colab": {
          "base_uri": "https://localhost:8080/"
        }
      },
      "outputs": [
        {
          "output_type": "execute_result",
          "data": {
            "text/plain": [
              "[{'contract': 'two_year', 'tenure': 72, 'monthlycharges': 115.5},\n",
              " {'contract': 'month-to-month', 'tenure': 10, 'monthlycharges': 95.25},\n",
              " {'contract': 'month-to-month', 'tenure': 5, 'monthlycharges': 75.55},\n",
              " {'contract': 'month-to-month', 'tenure': 5, 'monthlycharges': 80.85},\n",
              " {'contract': 'two_year', 'tenure': 18, 'monthlycharges': 20.1},\n",
              " {'contract': 'month-to-month', 'tenure': 4, 'monthlycharges': 30.5},\n",
              " {'contract': 'month-to-month', 'tenure': 1, 'monthlycharges': 75.1},\n",
              " {'contract': 'month-to-month', 'tenure': 1, 'monthlycharges': 70.3},\n",
              " {'contract': 'two_year', 'tenure': 72, 'monthlycharges': 19.75},\n",
              " {'contract': 'month-to-month', 'tenure': 6, 'monthlycharges': 109.9}]"
            ]
          },
          "metadata": {},
          "execution_count": 77
        }
      ],
      "source": [
        "df_train[small].iloc[:10].to_dict(orient='records')"
      ],
      "id": "vIo0iMpUF2bb"
    },
    {
      "cell_type": "code",
      "execution_count": 78,
      "metadata": {
        "id": "4OHvq0-9F2bb"
      },
      "outputs": [],
      "source": [
        "dicts_train_small = df_train[small].to_dict(orient='records')\n",
        "dicts_val_small = df_val[small].to_dict(orient='records')"
      ],
      "id": "4OHvq0-9F2bb"
    },
    {
      "cell_type": "code",
      "execution_count": 79,
      "metadata": {
        "id": "NtUz8tNbF2bb",
        "outputId": "b9167c4a-21c2-46ee-c3bd-d6f287825a27",
        "colab": {
          "base_uri": "https://localhost:8080/"
        }
      },
      "outputs": [
        {
          "output_type": "execute_result",
          "data": {
            "text/plain": [
              "DictVectorizer(sparse=False)"
            ]
          },
          "metadata": {},
          "execution_count": 79
        }
      ],
      "source": [
        "dv_small = DictVectorizer(sparse=False)\n",
        "dv_small.fit(dicts_train_small)"
      ],
      "id": "NtUz8tNbF2bb"
    },
    {
      "cell_type": "code",
      "execution_count": 80,
      "metadata": {
        "id": "sXibaXtmF2bc",
        "outputId": "4c86e999-e28f-4849-bb5c-4cc891555cba",
        "colab": {
          "base_uri": "https://localhost:8080/"
        }
      },
      "outputs": [
        {
          "output_type": "execute_result",
          "data": {
            "text/plain": [
              "['contract=month-to-month',\n",
              " 'contract=one_year',\n",
              " 'contract=two_year',\n",
              " 'monthlycharges',\n",
              " 'tenure']"
            ]
          },
          "metadata": {},
          "execution_count": 80
        }
      ],
      "source": [
        "dv_small.get_feature_names()"
      ],
      "id": "sXibaXtmF2bc"
    },
    {
      "cell_type": "code",
      "execution_count": 81,
      "metadata": {
        "id": "zC9UQjQ6F2bc"
      },
      "outputs": [],
      "source": [
        "X_train_small = dv_small.transform(dicts_train_small)"
      ],
      "id": "zC9UQjQ6F2bc"
    },
    {
      "cell_type": "code",
      "execution_count": 82,
      "metadata": {
        "id": "imUaW8WxF2bc",
        "outputId": "3f9e04b6-9857-4fa2-af49-4efab3d579d1",
        "colab": {
          "base_uri": "https://localhost:8080/"
        }
      },
      "outputs": [
        {
          "output_type": "execute_result",
          "data": {
            "text/plain": [
              "LogisticRegression()"
            ]
          },
          "metadata": {},
          "execution_count": 82
        }
      ],
      "source": [
        "model_small = LogisticRegression(solver='lbfgs')\n",
        "model_small.fit(X_train_small, y_train)"
      ],
      "id": "imUaW8WxF2bc"
    },
    {
      "cell_type": "code",
      "execution_count": 83,
      "metadata": {
        "id": "ct4hMQ-GF2bd",
        "outputId": "1014e0e6-636e-4a25-e783-30421c04bc7f",
        "colab": {
          "base_uri": "https://localhost:8080/"
        }
      },
      "outputs": [
        {
          "output_type": "execute_result",
          "data": {
            "text/plain": [
              "-2.476775663985754"
            ]
          },
          "metadata": {},
          "execution_count": 83
        }
      ],
      "source": [
        "w0 = model_small.intercept_[0]\n",
        "w0"
      ],
      "id": "ct4hMQ-GF2bd"
    },
    {
      "cell_type": "code",
      "execution_count": 84,
      "metadata": {
        "id": "bHNCnclCF2bd",
        "outputId": "4ba7f62a-715f-45f8-e306-328d56e7d035",
        "colab": {
          "base_uri": "https://localhost:8080/"
        }
      },
      "outputs": [
        {
          "output_type": "execute_result",
          "data": {
            "text/plain": [
              "array([ 0.97 , -0.025, -0.949,  0.027, -0.036])"
            ]
          },
          "metadata": {},
          "execution_count": 84
        }
      ],
      "source": [
        "w = model_small.coef_[0]\n",
        "w.round(3)"
      ],
      "id": "bHNCnclCF2bd"
    },
    {
      "cell_type": "code",
      "execution_count": 85,
      "metadata": {
        "id": "XT-WdjSWF2be",
        "outputId": "348efcf4-86e0-4d28-a1b9-a50938f3a6c0",
        "colab": {
          "base_uri": "https://localhost:8080/"
        }
      },
      "outputs": [
        {
          "output_type": "stream",
          "name": "stderr",
          "text": [
            "/usr/local/lib/python3.7/dist-packages/sklearn/utils/deprecation.py:87: FutureWarning: Function get_feature_names is deprecated; get_feature_names is deprecated in 1.0 and will be removed in 1.2. Please use get_feature_names_out instead.\n",
            "  warnings.warn(msg, category=FutureWarning)\n"
          ]
        },
        {
          "output_type": "execute_result",
          "data": {
            "text/plain": [
              "{'contract=month-to-month': 0.97,\n",
              " 'contract=one_year': -0.025,\n",
              " 'contract=two_year': -0.949,\n",
              " 'monthlycharges': 0.027,\n",
              " 'tenure': -0.036}"
            ]
          },
          "metadata": {},
          "execution_count": 85
        }
      ],
      "source": [
        "dict(zip(dv_small.get_feature_names(), w.round(3)))"
      ],
      "id": "XT-WdjSWF2be"
    },
    {
      "cell_type": "code",
      "execution_count": 86,
      "metadata": {
        "id": "9PZXNMOeF2be",
        "outputId": "7ebeeb18-c32e-45a4-e6b0-fb3dbbe5cc15",
        "colab": {
          "base_uri": "https://localhost:8080/"
        }
      },
      "outputs": [
        {
          "output_type": "execute_result",
          "data": {
            "text/plain": [
              "-3.473"
            ]
          },
          "metadata": {},
          "execution_count": 86
        }
      ],
      "source": [
        "-2.47 + (-0.949) + 30 * 0.027 + 24 * (-0.036)"
      ],
      "id": "9PZXNMOeF2be"
    },
    {
      "cell_type": "code",
      "execution_count": 87,
      "metadata": {
        "id": "PsvickxBF2bf",
        "outputId": "6f772de9-7cfa-4c29-f153-d4e1ccbc0375",
        "colab": {
          "base_uri": "https://localhost:8080/"
        }
      },
      "outputs": [
        {
          "output_type": "execute_result",
          "data": {
            "text/plain": [
              "0.030090303318277657"
            ]
          },
          "metadata": {},
          "execution_count": 87
        }
      ],
      "source": [
        "sigmoid(_)"
      ],
      "id": "PsvickxBF2bf"
    },
    {
      "cell_type": "markdown",
      "metadata": {
        "id": "SIcJ8uZhF2bf"
      },
      "source": [
        "## 3.12 Using the model"
      ],
      "id": "SIcJ8uZhF2bf"
    },
    {
      "cell_type": "code",
      "execution_count": 88,
      "metadata": {
        "id": "nI0D-MDdF2bf"
      },
      "outputs": [],
      "source": [
        "dicts_full_train = df_full_train[categorical + numerical].to_dict(orient='records')"
      ],
      "id": "nI0D-MDdF2bf"
    },
    {
      "cell_type": "code",
      "execution_count": 89,
      "metadata": {
        "id": "rqpQB3f8F2bg"
      },
      "outputs": [],
      "source": [
        "dv = DictVectorizer(sparse=False)\n",
        "X_full_train = dv.fit_transform(dicts_full_train)"
      ],
      "id": "rqpQB3f8F2bg"
    },
    {
      "cell_type": "code",
      "execution_count": 90,
      "metadata": {
        "id": "s1kqQmrdF2bg"
      },
      "outputs": [],
      "source": [
        "y_full_train = df_full_train.churn.values"
      ],
      "id": "s1kqQmrdF2bg"
    },
    {
      "cell_type": "code",
      "execution_count": 91,
      "metadata": {
        "id": "qnCBFvIOF2bg",
        "outputId": "98bd0a33-c201-4a44-b874-4ac8dc59e4a7",
        "colab": {
          "base_uri": "https://localhost:8080/"
        }
      },
      "outputs": [
        {
          "output_type": "execute_result",
          "data": {
            "text/plain": [
              "LogisticRegression()"
            ]
          },
          "metadata": {},
          "execution_count": 91
        }
      ],
      "source": [
        "model = LogisticRegression(solver='lbfgs')\n",
        "model.fit(X_full_train, y_full_train)"
      ],
      "id": "qnCBFvIOF2bg"
    },
    {
      "cell_type": "code",
      "execution_count": 92,
      "metadata": {
        "id": "gkkanV_rF2bh"
      },
      "outputs": [],
      "source": [
        "dicts_test = df_test[categorical + numerical].to_dict(orient='records')"
      ],
      "id": "gkkanV_rF2bh"
    },
    {
      "cell_type": "code",
      "execution_count": 93,
      "metadata": {
        "id": "pR6sAUBKF2bh"
      },
      "outputs": [],
      "source": [
        "X_test = dv.transform(dicts_test)"
      ],
      "id": "pR6sAUBKF2bh"
    },
    {
      "cell_type": "code",
      "execution_count": 94,
      "metadata": {
        "id": "96NCNmj2F2bh"
      },
      "outputs": [],
      "source": [
        "y_pred = model.predict_proba(X_test)[:, 1]"
      ],
      "id": "96NCNmj2F2bh"
    },
    {
      "cell_type": "code",
      "execution_count": 95,
      "metadata": {
        "id": "ztdOQRcgF2bi"
      },
      "outputs": [],
      "source": [
        "churn_decision = (y_pred >= 0.5)"
      ],
      "id": "ztdOQRcgF2bi"
    },
    {
      "cell_type": "code",
      "execution_count": 96,
      "metadata": {
        "id": "XfSXTev8F2bi",
        "outputId": "a840f7c3-cd2d-4da5-d72d-ce46ab3cdd89",
        "colab": {
          "base_uri": "https://localhost:8080/"
        }
      },
      "outputs": [
        {
          "output_type": "execute_result",
          "data": {
            "text/plain": [
              "0.815471965933286"
            ]
          },
          "metadata": {},
          "execution_count": 96
        }
      ],
      "source": [
        "(churn_decision == y_test).mean()"
      ],
      "id": "XfSXTev8F2bi"
    },
    {
      "cell_type": "code",
      "execution_count": 97,
      "metadata": {
        "id": "Zf49zlKBF2bi",
        "outputId": "fa93f496-d3c2-4a2e-ea04-47e21a351efa",
        "colab": {
          "base_uri": "https://localhost:8080/"
        }
      },
      "outputs": [
        {
          "output_type": "execute_result",
          "data": {
            "text/plain": [
              "array([0, 0, 0, ..., 0, 0, 1])"
            ]
          },
          "metadata": {},
          "execution_count": 97
        }
      ],
      "source": [
        "y_test"
      ],
      "id": "Zf49zlKBF2bi"
    },
    {
      "cell_type": "code",
      "execution_count": 98,
      "metadata": {
        "id": "-Z3a-PQ9F2bj",
        "outputId": "59cd60fa-fe6f-48e4-d429-a7aa812effce",
        "colab": {
          "base_uri": "https://localhost:8080/"
        }
      },
      "outputs": [
        {
          "output_type": "execute_result",
          "data": {
            "text/plain": [
              "{'gender': 'female',\n",
              " 'seniorcitizen': 0,\n",
              " 'partner': 'yes',\n",
              " 'dependents': 'yes',\n",
              " 'phoneservice': 'yes',\n",
              " 'multiplelines': 'yes',\n",
              " 'internetservice': 'fiber_optic',\n",
              " 'onlinesecurity': 'yes',\n",
              " 'onlinebackup': 'no',\n",
              " 'deviceprotection': 'yes',\n",
              " 'techsupport': 'no',\n",
              " 'streamingtv': 'yes',\n",
              " 'streamingmovies': 'yes',\n",
              " 'contract': 'month-to-month',\n",
              " 'paperlessbilling': 'yes',\n",
              " 'paymentmethod': 'electronic_check',\n",
              " 'tenure': 17,\n",
              " 'monthlycharges': 104.2,\n",
              " 'totalcharges': 1743.5}"
            ]
          },
          "metadata": {},
          "execution_count": 98
        }
      ],
      "source": [
        "customer = dicts_test[-1]\n",
        "customer"
      ],
      "id": "-Z3a-PQ9F2bj"
    },
    {
      "cell_type": "code",
      "execution_count": 99,
      "metadata": {
        "id": "BYfLBZrLF2bj"
      },
      "outputs": [],
      "source": [
        "X_small = dv.transform([customer])"
      ],
      "id": "BYfLBZrLF2bj"
    },
    {
      "cell_type": "code",
      "execution_count": 100,
      "metadata": {
        "id": "U5zr8gnTF2bk",
        "outputId": "5c57a8e3-e3be-4b1a-9c15-3aa3b4cb84c5",
        "colab": {
          "base_uri": "https://localhost:8080/"
        }
      },
      "outputs": [
        {
          "output_type": "execute_result",
          "data": {
            "text/plain": [
              "0.5968852088243913"
            ]
          },
          "metadata": {},
          "execution_count": 100
        }
      ],
      "source": [
        "model.predict_proba(X_small)[0, 1]"
      ],
      "id": "U5zr8gnTF2bk"
    },
    {
      "cell_type": "code",
      "execution_count": 101,
      "metadata": {
        "id": "EAWOIsApF2bk",
        "outputId": "5097accc-7c17-456b-d3fb-64f13e6123de",
        "colab": {
          "base_uri": "https://localhost:8080/"
        }
      },
      "outputs": [
        {
          "output_type": "execute_result",
          "data": {
            "text/plain": [
              "1"
            ]
          },
          "metadata": {},
          "execution_count": 101
        }
      ],
      "source": [
        "y_test[-1]"
      ],
      "id": "EAWOIsApF2bk"
    },
    {
      "cell_type": "markdown",
      "metadata": {
        "id": "Oa0PIiJ-F2bk"
      },
      "source": [
        "## 3.13 Summary\n",
        "\n",
        "* Feature importance - risk, mutual information, correlation\n",
        "* One-hot encoding can be implemented with `DictVectorizer`\n",
        "* Logistic regression - linear model like linear regression\n",
        "* Output of log reg - probability\n",
        "* Interpretation of weights is similar to linear regression"
      ],
      "id": "Oa0PIiJ-F2bk"
    },
    {
      "cell_type": "markdown",
      "metadata": {
        "id": "cqzrmI06F2bl"
      },
      "source": [
        "## 3.14 Explore more\n",
        "\n",
        "More things\n",
        "\n",
        "* Try to exclude least useful features\n",
        "\n",
        "\n",
        "Use scikit-learn in project of last week\n",
        "\n",
        "* Re-implement train/val/test split using scikit-learn in the project from the last week\n",
        "* Also, instead of our own linear regression, use `LinearRegression` (not regularized) and `RidgeRegression` (regularized). Find the best regularization parameter for Ridge\n",
        "\n",
        "Other projects\n",
        "\n",
        "* Lead scoring - https://www.kaggle.com/ashydv/leads-dataset\n",
        "* Default prediction - https://archive.ics.uci.edu/ml/datasets/default+of+credit+card+clients\n",
        "\n"
      ],
      "id": "cqzrmI06F2bl"
    }
  ],
  "metadata": {
    "kernelspec": {
      "display_name": "Python 3",
      "language": "python",
      "name": "python3"
    },
    "language_info": {
      "codemirror_mode": {
        "name": "ipython",
        "version": 3
      },
      "file_extension": ".py",
      "mimetype": "text/x-python",
      "name": "python",
      "nbconvert_exporter": "python",
      "pygments_lexer": "ipython3",
      "version": "3.6.9"
    },
    "colab": {
      "provenance": []
    }
  },
  "nbformat": 4,
  "nbformat_minor": 5
}